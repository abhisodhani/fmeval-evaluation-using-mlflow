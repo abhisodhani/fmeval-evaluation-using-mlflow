{
 "cells": [
  {
   "cell_type": "markdown",
   "metadata": {},
   "source": [
    "# Evaluate a SageMaker JumpStart model with FMeval and track with MLflow\n",
    "\n",
    "***\n",
    "Developed and tested on Jupyterlab App on Amazon SageMaker Studio, SageMaker Distribution 2.1.0, instance `ml.m5.2xlarge`\n",
    "***\n",
    "\n",
    "This notebook shows you how to use FMeval to evaluate a LLM deployed via SageMaker Jumpstart and track the evaluations as metrics with MLflow tracking server."
   ]
  },
  {
   "cell_type": "markdown",
   "metadata": {},
   "source": [
    "## Setup"
   ]
  },
  {
   "cell_type": "markdown",
   "metadata": {},
   "source": [
    "### Import libraries"
   ]
  },
  {
   "cell_type": "code",
   "execution_count": 2,
   "metadata": {},
   "outputs": [
    {
     "name": "stdout",
     "output_type": "stream",
     "text": [
      "Found existing installation: torch 2.6.0\n",
      "Uninstalling torch-2.6.0:\n",
      "  Successfully uninstalled torch-2.6.0\n",
      "Found existing installation: torchvision 0.19.1\n",
      "Uninstalling torchvision-0.19.1:\n",
      "  Successfully uninstalled torchvision-0.19.1\n"
     ]
    }
   ],
   "source": [
    "!pip uninstall torch torchvision -y"
   ]
  },
  {
   "cell_type": "code",
   "execution_count": 3,
   "metadata": {},
   "outputs": [
    {
     "name": "stdout",
     "output_type": "stream",
     "text": [
      "Collecting torch\n",
      "  Using cached torch-2.6.0-cp311-cp311-manylinux1_x86_64.whl.metadata (28 kB)\n",
      "Collecting torchvision\n",
      "  Using cached torchvision-0.21.0-cp311-cp311-manylinux1_x86_64.whl.metadata (6.1 kB)\n",
      "Requirement already satisfied: filelock in /opt/conda/lib/python3.11/site-packages (from torch) (3.17.0)\n",
      "Requirement already satisfied: typing-extensions>=4.10.0 in /opt/conda/lib/python3.11/site-packages (from torch) (4.12.2)\n",
      "Requirement already satisfied: networkx in /opt/conda/lib/python3.11/site-packages (from torch) (3.4.2)\n",
      "Requirement already satisfied: jinja2 in /opt/conda/lib/python3.11/site-packages (from torch) (3.1.5)\n",
      "Requirement already satisfied: fsspec in /opt/conda/lib/python3.11/site-packages (from torch) (2024.10.0)\n",
      "Requirement already satisfied: nvidia-cuda-nvrtc-cu12==12.4.127 in /opt/conda/lib/python3.11/site-packages (from torch) (12.4.127)\n",
      "Requirement already satisfied: nvidia-cuda-runtime-cu12==12.4.127 in /opt/conda/lib/python3.11/site-packages (from torch) (12.4.127)\n",
      "Requirement already satisfied: nvidia-cuda-cupti-cu12==12.4.127 in /opt/conda/lib/python3.11/site-packages (from torch) (12.4.127)\n",
      "Requirement already satisfied: nvidia-cudnn-cu12==9.1.0.70 in /opt/conda/lib/python3.11/site-packages (from torch) (9.1.0.70)\n",
      "Requirement already satisfied: nvidia-cublas-cu12==12.4.5.8 in /opt/conda/lib/python3.11/site-packages (from torch) (12.4.5.8)\n",
      "Requirement already satisfied: nvidia-cufft-cu12==11.2.1.3 in /opt/conda/lib/python3.11/site-packages (from torch) (11.2.1.3)\n",
      "Requirement already satisfied: nvidia-curand-cu12==10.3.5.147 in /opt/conda/lib/python3.11/site-packages (from torch) (10.3.5.147)\n",
      "Requirement already satisfied: nvidia-cusolver-cu12==11.6.1.9 in /opt/conda/lib/python3.11/site-packages (from torch) (11.6.1.9)\n",
      "Requirement already satisfied: nvidia-cusparse-cu12==12.3.1.170 in /opt/conda/lib/python3.11/site-packages (from torch) (12.3.1.170)\n",
      "Requirement already satisfied: nvidia-cusparselt-cu12==0.6.2 in /opt/conda/lib/python3.11/site-packages (from torch) (0.6.2)\n",
      "Requirement already satisfied: nvidia-nccl-cu12==2.21.5 in /opt/conda/lib/python3.11/site-packages (from torch) (2.21.5)\n",
      "Requirement already satisfied: nvidia-nvtx-cu12==12.4.127 in /opt/conda/lib/python3.11/site-packages (from torch) (12.4.127)\n",
      "Requirement already satisfied: nvidia-nvjitlink-cu12==12.4.127 in /opt/conda/lib/python3.11/site-packages (from torch) (12.4.127)\n",
      "Requirement already satisfied: triton==3.2.0 in /opt/conda/lib/python3.11/site-packages (from torch) (3.2.0)\n",
      "Requirement already satisfied: sympy==1.13.1 in /opt/conda/lib/python3.11/site-packages (from torch) (1.13.1)\n",
      "Requirement already satisfied: mpmath<1.4,>=1.1.0 in /opt/conda/lib/python3.11/site-packages (from sympy==1.13.1->torch) (1.3.0)\n",
      "Requirement already satisfied: numpy in /opt/conda/lib/python3.11/site-packages (from torchvision) (1.26.4)\n",
      "Requirement already satisfied: pillow!=8.3.*,>=5.3.0 in /opt/conda/lib/python3.11/site-packages (from torchvision) (11.1.0)\n",
      "Requirement already satisfied: MarkupSafe>=2.0 in /opt/conda/lib/python3.11/site-packages (from jinja2->torch) (3.0.2)\n",
      "Using cached torch-2.6.0-cp311-cp311-manylinux1_x86_64.whl (766.7 MB)\n",
      "Using cached torchvision-0.21.0-cp311-cp311-manylinux1_x86_64.whl (7.2 MB)\n",
      "Installing collected packages: torch, torchvision\n",
      "\u001b[31mERROR: pip's dependency resolver does not currently take into account all the packages that are installed. This behaviour is the source of the following dependency conflicts.\n",
      "autogluon-multimodal 1.2 requires nvidia-ml-py3==7.352.0, which is not installed.\n",
      "autogluon-multimodal 1.2 requires jsonschema<4.22,>=4.18, but you have jsonschema 4.23.0 which is incompatible.\n",
      "autogluon-multimodal 1.2 requires nltk<3.9,>=3.4.5, but you have nltk 3.9.1 which is incompatible.\n",
      "autogluon-multimodal 1.2 requires omegaconf<2.3.0,>=2.1.1, but you have omegaconf 2.3.0 which is incompatible.\n",
      "autogluon-multimodal 1.2 requires scikit-learn<1.5.3,>=1.4.0, but you have scikit-learn 1.6.1 which is incompatible.\n",
      "autogluon-multimodal 1.2 requires torch<2.6,>=2.2, but you have torch 2.6.0 which is incompatible.\n",
      "autogluon-multimodal 1.2 requires torchvision<0.21.0,>=0.16.0, but you have torchvision 0.21.0 which is incompatible.\n",
      "autogluon-timeseries 1.2 requires torch<2.6,>=2.2, but you have torch 2.6.0 which is incompatible.\n",
      "fastai 2.7.18 requires torch<2.6,>=1.10, but you have torch 2.6.0 which is incompatible.\n",
      "fmeval 1.2.2 requires ray==2.40.0, but you have ray 2.44.1 which is incompatible.\u001b[0m\u001b[31m\n",
      "\u001b[0mSuccessfully installed torch-2.6.0 torchvision-0.21.0\n"
     ]
    }
   ],
   "source": [
    "!pip install torch torchvision"
   ]
  },
  {
   "cell_type": "code",
   "execution_count": 5,
   "metadata": {},
   "outputs": [
    {
     "name": "stdout",
     "output_type": "stream",
     "text": [
      "Found existing installation: torchvision 0.21.0\n",
      "Uninstalling torchvision-0.21.0:\n",
      "  Successfully uninstalled torchvision-0.21.0\n",
      "Found existing installation: torch 2.6.0\n",
      "Uninstalling torch-2.6.0:\n",
      "  Successfully uninstalled torch-2.6.0\n",
      "Found existing installation: fmeval 1.2.2\n",
      "Uninstalling fmeval-1.2.2:\n",
      "  Successfully uninstalled fmeval-1.2.2\n"
     ]
    }
   ],
   "source": [
    "!pip uninstall torchvision -y\n",
    "!pip uninstall torch -y\n",
    "!pip uninstall fmeval -y"
   ]
  },
  {
   "cell_type": "code",
   "execution_count": 6,
   "metadata": {},
   "outputs": [
    {
     "name": "stdout",
     "output_type": "stream",
     "text": [
      "Looking in indexes: https://download.pytorch.org/whl/cpu\n",
      "Collecting torch\n",
      "  Downloading https://download.pytorch.org/whl/cpu/torch-2.6.0%2Bcpu-cp311-cp311-linux_x86_64.whl.metadata (26 kB)\n",
      "Collecting torchvision\n",
      "  Downloading https://download.pytorch.org/whl/cpu/torchvision-0.21.0%2Bcpu-cp311-cp311-linux_x86_64.whl.metadata (6.1 kB)\n",
      "Requirement already satisfied: filelock in /opt/conda/lib/python3.11/site-packages (from torch) (3.17.0)\n",
      "Requirement already satisfied: typing-extensions>=4.10.0 in /opt/conda/lib/python3.11/site-packages (from torch) (4.12.2)\n",
      "Requirement already satisfied: networkx in /opt/conda/lib/python3.11/site-packages (from torch) (3.4.2)\n",
      "Requirement already satisfied: jinja2 in /opt/conda/lib/python3.11/site-packages (from torch) (3.1.5)\n",
      "Requirement already satisfied: fsspec in /opt/conda/lib/python3.11/site-packages (from torch) (2024.10.0)\n",
      "Requirement already satisfied: sympy==1.13.1 in /opt/conda/lib/python3.11/site-packages (from torch) (1.13.1)\n",
      "Requirement already satisfied: mpmath<1.4,>=1.1.0 in /opt/conda/lib/python3.11/site-packages (from sympy==1.13.1->torch) (1.3.0)\n",
      "Requirement already satisfied: numpy in /opt/conda/lib/python3.11/site-packages (from torchvision) (1.26.4)\n",
      "Requirement already satisfied: pillow!=8.3.*,>=5.3.0 in /opt/conda/lib/python3.11/site-packages (from torchvision) (11.1.0)\n",
      "Requirement already satisfied: MarkupSafe>=2.0 in /opt/conda/lib/python3.11/site-packages (from jinja2->torch) (3.0.2)\n",
      "Downloading https://download.pytorch.org/whl/cpu/torch-2.6.0%2Bcpu-cp311-cp311-linux_x86_64.whl (178.7 MB)\n",
      "\u001b[2K   \u001b[90m━━━━━━━━━━━━━━━━━━━━━━━━━━━━━━━━━━━━━━━━\u001b[0m \u001b[32m178.7/178.7 MB\u001b[0m \u001b[31m72.9 MB/s\u001b[0m eta \u001b[36m0:00:00\u001b[0m00:01\u001b[0m00:01\u001b[0m\n",
      "\u001b[?25hDownloading https://download.pytorch.org/whl/cpu/torchvision-0.21.0%2Bcpu-cp311-cp311-linux_x86_64.whl (1.8 MB)\n",
      "\u001b[2K   \u001b[90m━━━━━━━━━━━━━━━━━━━━━━━━━━━━━━━━━━━━━━━━\u001b[0m \u001b[32m1.8/1.8 MB\u001b[0m \u001b[31m66.0 MB/s\u001b[0m eta \u001b[36m0:00:00\u001b[0m\n",
      "Installing collected packages: torch, torchvision\n",
      "\u001b[31mERROR: pip's dependency resolver does not currently take into account all the packages that are installed. This behaviour is the source of the following dependency conflicts.\n",
      "autogluon-multimodal 1.2 requires nvidia-ml-py3==7.352.0, which is not installed.\n",
      "autogluon-multimodal 1.2 requires jsonschema<4.22,>=4.18, but you have jsonschema 4.23.0 which is incompatible.\n",
      "autogluon-multimodal 1.2 requires nltk<3.9,>=3.4.5, but you have nltk 3.9.1 which is incompatible.\n",
      "autogluon-multimodal 1.2 requires omegaconf<2.3.0,>=2.1.1, but you have omegaconf 2.3.0 which is incompatible.\n",
      "autogluon-multimodal 1.2 requires scikit-learn<1.5.3,>=1.4.0, but you have scikit-learn 1.6.1 which is incompatible.\n",
      "autogluon-multimodal 1.2 requires torch<2.6,>=2.2, but you have torch 2.6.0+cpu which is incompatible.\n",
      "autogluon-multimodal 1.2 requires torchvision<0.21.0,>=0.16.0, but you have torchvision 0.21.0+cpu which is incompatible.\n",
      "autogluon-timeseries 1.2 requires torch<2.6,>=2.2, but you have torch 2.6.0+cpu which is incompatible.\n",
      "fastai 2.7.18 requires torch<2.6,>=1.10, but you have torch 2.6.0+cpu which is incompatible.\u001b[0m\u001b[31m\n",
      "\u001b[0mSuccessfully installed torch-2.6.0+cpu torchvision-0.21.0+cpu\n",
      "Collecting fmeval\n",
      "  Using cached fmeval-1.2.2-py3-none-any.whl.metadata (14 kB)\n",
      "Requirement already satisfied: IPython in /opt/conda/lib/python3.11/site-packages (from fmeval) (8.32.0)\n",
      "Requirement already satisfied: aiohttp<4.0.0,>=3.11.11 in /opt/conda/lib/python3.11/site-packages (from fmeval) (3.11.14)\n",
      "Requirement already satisfied: bert-score<0.4.0,>=0.3.13 in /opt/conda/lib/python3.11/site-packages (from fmeval) (0.3.13)\n",
      "Requirement already satisfied: evaluate<0.5.0,>=0.4.0 in /opt/conda/lib/python3.11/site-packages (from fmeval) (0.4.3)\n",
      "Requirement already satisfied: grpcio<2.0.0,>=1.68.1 in /opt/conda/lib/python3.11/site-packages (from fmeval) (1.71.0)\n",
      "Requirement already satisfied: ipykernel<7.0.0,>=6.29.5 in /opt/conda/lib/python3.11/site-packages (from fmeval) (6.29.5)\n",
      "Requirement already satisfied: jiwer<4.0.0,>=3.0.5 in /opt/conda/lib/python3.11/site-packages (from fmeval) (3.1.0)\n",
      "Requirement already satisfied: markdown in /opt/conda/lib/python3.11/site-packages (from fmeval) (3.6)\n",
      "Requirement already satisfied: matplotlib<4.0.0,>=3.10.0 in /opt/conda/lib/python3.11/site-packages (from fmeval) (3.10.1)\n",
      "Requirement already satisfied: mypy-boto3-bedrock<2.0.0,>=1.35.75 in /opt/conda/lib/python3.11/site-packages (from fmeval) (1.37.18)\n",
      "Requirement already satisfied: nltk<4.0.0,>=3.9.0 in /opt/conda/lib/python3.11/site-packages (from fmeval) (3.9.1)\n",
      "Requirement already satisfied: pandas==2.2.3 in /opt/conda/lib/python3.11/site-packages (from fmeval) (2.2.3)\n",
      "Requirement already satisfied: pyarrow in /opt/conda/lib/python3.11/site-packages (from fmeval) (17.0.0)\n",
      "Requirement already satisfied: pyfunctional==1.5.0 in /opt/conda/lib/python3.11/site-packages (from fmeval) (1.5.0)\n",
      "Collecting ray==2.40.0 (from fmeval)\n",
      "  Using cached ray-2.40.0-cp311-cp311-manylinux2014_x86_64.whl.metadata (17 kB)\n",
      "Requirement already satisfied: rouge-score<0.2.0,>=0.1.2 in /opt/conda/lib/python3.11/site-packages (from fmeval) (0.1.2)\n",
      "Requirement already satisfied: sagemaker<3.0.0,>=2.237.1 in /opt/conda/lib/python3.11/site-packages (from fmeval) (2.240.0)\n",
      "Requirement already satisfied: scikit-learn<2.0.0,>=1.6.0 in /opt/conda/lib/python3.11/site-packages (from fmeval) (1.6.1)\n",
      "Requirement already satisfied: semantic-version==2.10.0 in /opt/conda/lib/python3.11/site-packages (from fmeval) (2.10.0)\n",
      "Requirement already satisfied: testbook<0.5.0,>=0.4.2 in /opt/conda/lib/python3.11/site-packages (from fmeval) (0.4.2)\n",
      "Requirement already satisfied: torch>=2.5.0 in /opt/conda/lib/python3.11/site-packages (from fmeval) (2.6.0+cpu)\n",
      "Requirement already satisfied: transformers<5.0.0,>=4.47.0 in /opt/conda/lib/python3.11/site-packages (from fmeval) (4.49.0)\n",
      "Requirement already satisfied: urllib3>=2.3.0 in /opt/conda/lib/python3.11/site-packages (from fmeval) (2.3.0)\n",
      "Requirement already satisfied: numpy>=1.23.2 in /opt/conda/lib/python3.11/site-packages (from pandas==2.2.3->fmeval) (1.26.4)\n",
      "Requirement already satisfied: python-dateutil>=2.8.2 in /opt/conda/lib/python3.11/site-packages (from pandas==2.2.3->fmeval) (2.9.0.post0)\n",
      "Requirement already satisfied: pytz>=2020.1 in /opt/conda/lib/python3.11/site-packages (from pandas==2.2.3->fmeval) (2024.1)\n",
      "Requirement already satisfied: tzdata>=2022.7 in /opt/conda/lib/python3.11/site-packages (from pandas==2.2.3->fmeval) (2025.1)\n",
      "Requirement already satisfied: dill>=0.2.5 in /opt/conda/lib/python3.11/site-packages (from pyfunctional==1.5.0->fmeval) (0.3.8)\n",
      "Requirement already satisfied: tabulate<=1.0.0 in /opt/conda/lib/python3.11/site-packages (from pyfunctional==1.5.0->fmeval) (0.9.0)\n",
      "Requirement already satisfied: click>=7.0 in /opt/conda/lib/python3.11/site-packages (from ray==2.40.0->fmeval) (8.1.8)\n",
      "Requirement already satisfied: filelock in /opt/conda/lib/python3.11/site-packages (from ray==2.40.0->fmeval) (3.17.0)\n",
      "Requirement already satisfied: jsonschema in /opt/conda/lib/python3.11/site-packages (from ray==2.40.0->fmeval) (4.23.0)\n",
      "Requirement already satisfied: msgpack<2.0.0,>=1.0.0 in /opt/conda/lib/python3.11/site-packages (from ray==2.40.0->fmeval) (1.1.0)\n",
      "Requirement already satisfied: packaging in /opt/conda/lib/python3.11/site-packages (from ray==2.40.0->fmeval) (24.2)\n",
      "Requirement already satisfied: protobuf!=3.19.5,>=3.15.3 in /opt/conda/lib/python3.11/site-packages (from ray==2.40.0->fmeval) (4.25.3)\n",
      "Requirement already satisfied: pyyaml in /opt/conda/lib/python3.11/site-packages (from ray==2.40.0->fmeval) (6.0.2)\n",
      "Requirement already satisfied: aiosignal in /opt/conda/lib/python3.11/site-packages (from ray==2.40.0->fmeval) (1.3.2)\n",
      "Requirement already satisfied: frozenlist in /opt/conda/lib/python3.11/site-packages (from ray==2.40.0->fmeval) (1.5.0)\n",
      "Requirement already satisfied: requests in /opt/conda/lib/python3.11/site-packages (from ray==2.40.0->fmeval) (2.32.3)\n",
      "Requirement already satisfied: aiohappyeyeballs>=2.3.0 in /opt/conda/lib/python3.11/site-packages (from aiohttp<4.0.0,>=3.11.11->fmeval) (2.6.1)\n",
      "Requirement already satisfied: attrs>=17.3.0 in /opt/conda/lib/python3.11/site-packages (from aiohttp<4.0.0,>=3.11.11->fmeval) (23.2.0)\n",
      "Requirement already satisfied: multidict<7.0,>=4.5 in /opt/conda/lib/python3.11/site-packages (from aiohttp<4.0.0,>=3.11.11->fmeval) (6.1.0)\n",
      "Requirement already satisfied: propcache>=0.2.0 in /opt/conda/lib/python3.11/site-packages (from aiohttp<4.0.0,>=3.11.11->fmeval) (0.2.1)\n",
      "Requirement already satisfied: yarl<2.0,>=1.17.0 in /opt/conda/lib/python3.11/site-packages (from aiohttp<4.0.0,>=3.11.11->fmeval) (1.18.3)\n",
      "Requirement already satisfied: tqdm>=4.31.1 in /opt/conda/lib/python3.11/site-packages (from bert-score<0.4.0,>=0.3.13->fmeval) (4.67.1)\n",
      "Requirement already satisfied: datasets>=2.0.0 in /opt/conda/lib/python3.11/site-packages (from evaluate<0.5.0,>=0.4.0->fmeval) (3.5.0)\n",
      "Requirement already satisfied: xxhash in /opt/conda/lib/python3.11/site-packages (from evaluate<0.5.0,>=0.4.0->fmeval) (3.5.0)\n",
      "Requirement already satisfied: multiprocess in /opt/conda/lib/python3.11/site-packages (from evaluate<0.5.0,>=0.4.0->fmeval) (0.70.16)\n",
      "Requirement already satisfied: fsspec>=2021.05.0 in /opt/conda/lib/python3.11/site-packages (from fsspec[http]>=2021.05.0->evaluate<0.5.0,>=0.4.0->fmeval) (2024.10.0)\n",
      "Requirement already satisfied: huggingface-hub>=0.7.0 in /opt/conda/lib/python3.11/site-packages (from evaluate<0.5.0,>=0.4.0->fmeval) (0.29.1)\n",
      "Requirement already satisfied: comm>=0.1.1 in /opt/conda/lib/python3.11/site-packages (from ipykernel<7.0.0,>=6.29.5->fmeval) (0.2.2)\n",
      "Requirement already satisfied: debugpy>=1.6.5 in /opt/conda/lib/python3.11/site-packages (from ipykernel<7.0.0,>=6.29.5->fmeval) (1.8.13)\n",
      "Requirement already satisfied: jupyter-client>=6.1.12 in /opt/conda/lib/python3.11/site-packages (from ipykernel<7.0.0,>=6.29.5->fmeval) (8.6.3)\n",
      "Requirement already satisfied: jupyter-core!=5.0.*,>=4.12 in /opt/conda/lib/python3.11/site-packages (from ipykernel<7.0.0,>=6.29.5->fmeval) (5.7.2)\n",
      "Requirement already satisfied: matplotlib-inline>=0.1 in /opt/conda/lib/python3.11/site-packages (from ipykernel<7.0.0,>=6.29.5->fmeval) (0.1.7)\n",
      "Requirement already satisfied: nest-asyncio in /opt/conda/lib/python3.11/site-packages (from ipykernel<7.0.0,>=6.29.5->fmeval) (1.6.0)\n",
      "Requirement already satisfied: psutil in /opt/conda/lib/python3.11/site-packages (from ipykernel<7.0.0,>=6.29.5->fmeval) (5.9.8)\n",
      "Requirement already satisfied: pyzmq>=24 in /opt/conda/lib/python3.11/site-packages (from ipykernel<7.0.0,>=6.29.5->fmeval) (26.2.1)\n",
      "Requirement already satisfied: tornado>=6.1 in /opt/conda/lib/python3.11/site-packages (from ipykernel<7.0.0,>=6.29.5->fmeval) (6.4.2)\n",
      "Requirement already satisfied: traitlets>=5.4.0 in /opt/conda/lib/python3.11/site-packages (from ipykernel<7.0.0,>=6.29.5->fmeval) (5.14.3)\n",
      "Requirement already satisfied: decorator in /opt/conda/lib/python3.11/site-packages (from IPython->fmeval) (5.2.1)\n",
      "Requirement already satisfied: jedi>=0.16 in /opt/conda/lib/python3.11/site-packages (from IPython->fmeval) (0.19.2)\n",
      "Requirement already satisfied: pexpect>4.3 in /opt/conda/lib/python3.11/site-packages (from IPython->fmeval) (4.9.0)\n",
      "Requirement already satisfied: prompt_toolkit<3.1.0,>=3.0.41 in /opt/conda/lib/python3.11/site-packages (from IPython->fmeval) (3.0.50)\n",
      "Requirement already satisfied: pygments>=2.4.0 in /opt/conda/lib/python3.11/site-packages (from IPython->fmeval) (2.19.1)\n",
      "Requirement already satisfied: stack_data in /opt/conda/lib/python3.11/site-packages (from IPython->fmeval) (0.6.3)\n",
      "Requirement already satisfied: typing_extensions>=4.6 in /opt/conda/lib/python3.11/site-packages (from IPython->fmeval) (4.12.2)\n",
      "Requirement already satisfied: rapidfuzz>=3.9.7 in /opt/conda/lib/python3.11/site-packages (from jiwer<4.0.0,>=3.0.5->fmeval) (3.12.2)\n",
      "Requirement already satisfied: contourpy>=1.0.1 in /opt/conda/lib/python3.11/site-packages (from matplotlib<4.0.0,>=3.10.0->fmeval) (1.3.1)\n",
      "Requirement already satisfied: cycler>=0.10 in /opt/conda/lib/python3.11/site-packages (from matplotlib<4.0.0,>=3.10.0->fmeval) (0.12.1)\n",
      "Requirement already satisfied: fonttools>=4.22.0 in /opt/conda/lib/python3.11/site-packages (from matplotlib<4.0.0,>=3.10.0->fmeval) (4.56.0)\n",
      "Requirement already satisfied: kiwisolver>=1.3.1 in /opt/conda/lib/python3.11/site-packages (from matplotlib<4.0.0,>=3.10.0->fmeval) (1.4.7)\n",
      "Requirement already satisfied: pillow>=8 in /opt/conda/lib/python3.11/site-packages (from matplotlib<4.0.0,>=3.10.0->fmeval) (11.1.0)\n",
      "Requirement already satisfied: pyparsing>=2.3.1 in /opt/conda/lib/python3.11/site-packages (from matplotlib<4.0.0,>=3.10.0->fmeval) (3.2.1)\n",
      "Requirement already satisfied: joblib in /opt/conda/lib/python3.11/site-packages (from nltk<4.0.0,>=3.9.0->fmeval) (1.4.2)\n",
      "Requirement already satisfied: regex>=2021.8.3 in /opt/conda/lib/python3.11/site-packages (from nltk<4.0.0,>=3.9.0->fmeval) (2024.11.6)\n",
      "Requirement already satisfied: absl-py in /opt/conda/lib/python3.11/site-packages (from rouge-score<0.2.0,>=0.1.2->fmeval) (2.1.0)\n",
      "Requirement already satisfied: six>=1.14.0 in /opt/conda/lib/python3.11/site-packages (from rouge-score<0.2.0,>=0.1.2->fmeval) (1.17.0)\n",
      "Requirement already satisfied: boto3<2.0,>=1.35.75 in /opt/conda/lib/python3.11/site-packages (from sagemaker<3.0.0,>=2.237.1->fmeval) (1.36.23)\n",
      "Requirement already satisfied: cloudpickle>=2.2.1 in /opt/conda/lib/python3.11/site-packages (from sagemaker<3.0.0,>=2.237.1->fmeval) (3.1.1)\n",
      "Requirement already satisfied: docker in /opt/conda/lib/python3.11/site-packages (from sagemaker<3.0.0,>=2.237.1->fmeval) (7.1.0)\n",
      "Requirement already satisfied: fastapi in /opt/conda/lib/python3.11/site-packages (from sagemaker<3.0.0,>=2.237.1->fmeval) (0.115.11)\n",
      "Requirement already satisfied: google-pasta in /opt/conda/lib/python3.11/site-packages (from sagemaker<3.0.0,>=2.237.1->fmeval) (0.2.0)\n",
      "Requirement already satisfied: importlib-metadata<7.0,>=1.4.0 in /opt/conda/lib/python3.11/site-packages (from sagemaker<3.0.0,>=2.237.1->fmeval) (6.10.0)\n",
      "Requirement already satisfied: omegaconf<=2.3,>=2.2 in /opt/conda/lib/python3.11/site-packages (from sagemaker<3.0.0,>=2.237.1->fmeval) (2.3.0)\n",
      "Requirement already satisfied: pathos in /opt/conda/lib/python3.11/site-packages (from sagemaker<3.0.0,>=2.237.1->fmeval) (0.3.3)\n",
      "Requirement already satisfied: platformdirs in /opt/conda/lib/python3.11/site-packages (from sagemaker<3.0.0,>=2.237.1->fmeval) (4.3.6)\n",
      "Requirement already satisfied: sagemaker-core<2.0.0,>=1.0.17 in /opt/conda/lib/python3.11/site-packages (from sagemaker<3.0.0,>=2.237.1->fmeval) (1.0.25)\n",
      "Requirement already satisfied: schema in /opt/conda/lib/python3.11/site-packages (from sagemaker<3.0.0,>=2.237.1->fmeval) (0.7.7)\n",
      "Requirement already satisfied: smdebug-rulesconfig==1.0.1 in /opt/conda/lib/python3.11/site-packages (from sagemaker<3.0.0,>=2.237.1->fmeval) (1.0.1)\n",
      "Requirement already satisfied: tblib<4,>=1.7.0 in /opt/conda/lib/python3.11/site-packages (from sagemaker<3.0.0,>=2.237.1->fmeval) (3.0.0)\n",
      "Requirement already satisfied: uvicorn in /opt/conda/lib/python3.11/site-packages (from sagemaker<3.0.0,>=2.237.1->fmeval) (0.34.0)\n",
      "Requirement already satisfied: scipy>=1.6.0 in /opt/conda/lib/python3.11/site-packages (from scikit-learn<2.0.0,>=1.6.0->fmeval) (1.15.2)\n",
      "Requirement already satisfied: threadpoolctl>=3.1.0 in /opt/conda/lib/python3.11/site-packages (from scikit-learn<2.0.0,>=1.6.0->fmeval) (3.5.0)\n",
      "Requirement already satisfied: nbformat>=5.0.4 in /opt/conda/lib/python3.11/site-packages (from testbook<0.5.0,>=0.4.2->fmeval) (5.10.4)\n",
      "Requirement already satisfied: nbclient>=0.4.0 in /opt/conda/lib/python3.11/site-packages (from testbook<0.5.0,>=0.4.2->fmeval) (0.10.2)\n",
      "Requirement already satisfied: networkx in /opt/conda/lib/python3.11/site-packages (from torch>=2.5.0->fmeval) (3.4.2)\n",
      "Requirement already satisfied: jinja2 in /opt/conda/lib/python3.11/site-packages (from torch>=2.5.0->fmeval) (3.1.5)\n",
      "Requirement already satisfied: sympy==1.13.1 in /opt/conda/lib/python3.11/site-packages (from torch>=2.5.0->fmeval) (1.13.1)\n",
      "Requirement already satisfied: mpmath<1.4,>=1.1.0 in /opt/conda/lib/python3.11/site-packages (from sympy==1.13.1->torch>=2.5.0->fmeval) (1.3.0)\n",
      "Requirement already satisfied: tokenizers<0.22,>=0.21 in /opt/conda/lib/python3.11/site-packages (from transformers<5.0.0,>=4.47.0->fmeval) (0.21.0)\n",
      "Requirement already satisfied: safetensors>=0.4.1 in /opt/conda/lib/python3.11/site-packages (from transformers<5.0.0,>=4.47.0->fmeval) (0.5.3)\n",
      "Requirement already satisfied: botocore<1.37.0,>=1.36.23 in /opt/conda/lib/python3.11/site-packages (from boto3<2.0,>=1.35.75->sagemaker<3.0.0,>=2.237.1->fmeval) (1.36.23)\n",
      "Requirement already satisfied: jmespath<2.0.0,>=0.7.1 in /opt/conda/lib/python3.11/site-packages (from boto3<2.0,>=1.35.75->sagemaker<3.0.0,>=2.237.1->fmeval) (1.0.1)\n",
      "Requirement already satisfied: s3transfer<0.12.0,>=0.11.0 in /opt/conda/lib/python3.11/site-packages (from boto3<2.0,>=1.35.75->sagemaker<3.0.0,>=2.237.1->fmeval) (0.11.3)\n",
      "Requirement already satisfied: zipp>=0.5 in /opt/conda/lib/python3.11/site-packages (from importlib-metadata<7.0,>=1.4.0->sagemaker<3.0.0,>=2.237.1->fmeval) (3.21.0)\n",
      "Requirement already satisfied: parso<0.9.0,>=0.8.4 in /opt/conda/lib/python3.11/site-packages (from jedi>=0.16->IPython->fmeval) (0.8.4)\n",
      "Requirement already satisfied: fastjsonschema>=2.15 in /opt/conda/lib/python3.11/site-packages (from nbformat>=5.0.4->testbook<0.5.0,>=0.4.2->fmeval) (2.21.1)\n",
      "Requirement already satisfied: jsonschema-specifications>=2023.03.6 in /opt/conda/lib/python3.11/site-packages (from jsonschema->ray==2.40.0->fmeval) (2024.10.1)\n",
      "Requirement already satisfied: referencing>=0.28.4 in /opt/conda/lib/python3.11/site-packages (from jsonschema->ray==2.40.0->fmeval) (0.36.2)\n",
      "Requirement already satisfied: rpds-py>=0.7.1 in /opt/conda/lib/python3.11/site-packages (from jsonschema->ray==2.40.0->fmeval) (0.23.1)\n",
      "Requirement already satisfied: antlr4-python3-runtime==4.9.* in /opt/conda/lib/python3.11/site-packages (from omegaconf<=2.3,>=2.2->sagemaker<3.0.0,>=2.237.1->fmeval) (4.9.3)\n",
      "Requirement already satisfied: ptyprocess>=0.5 in /opt/conda/lib/python3.11/site-packages (from pexpect>4.3->IPython->fmeval) (0.7.0)\n",
      "Requirement already satisfied: wcwidth in /opt/conda/lib/python3.11/site-packages (from prompt_toolkit<3.1.0,>=3.0.41->IPython->fmeval) (0.2.13)\n",
      "Requirement already satisfied: charset_normalizer<4,>=2 in /opt/conda/lib/python3.11/site-packages (from requests->ray==2.40.0->fmeval) (3.4.1)\n",
      "Requirement already satisfied: idna<4,>=2.5 in /opt/conda/lib/python3.11/site-packages (from requests->ray==2.40.0->fmeval) (3.10)\n",
      "Requirement already satisfied: certifi>=2017.4.17 in /opt/conda/lib/python3.11/site-packages (from requests->ray==2.40.0->fmeval) (2025.1.31)\n",
      "Requirement already satisfied: pydantic<3.0.0,>=2.0.0 in /opt/conda/lib/python3.11/site-packages (from sagemaker-core<2.0.0,>=1.0.17->sagemaker<3.0.0,>=2.237.1->fmeval) (2.10.6)\n",
      "Requirement already satisfied: rich<14.0.0,>=13.0.0 in /opt/conda/lib/python3.11/site-packages (from sagemaker-core<2.0.0,>=1.0.17->sagemaker<3.0.0,>=2.237.1->fmeval) (13.9.4)\n",
      "Requirement already satisfied: mock<5.0,>4.0 in /opt/conda/lib/python3.11/site-packages (from sagemaker-core<2.0.0,>=1.0.17->sagemaker<3.0.0,>=2.237.1->fmeval) (4.0.3)\n",
      "Requirement already satisfied: starlette<0.47.0,>=0.40.0 in /opt/conda/lib/python3.11/site-packages (from fastapi->sagemaker<3.0.0,>=2.237.1->fmeval) (0.46.0)\n",
      "Requirement already satisfied: MarkupSafe>=2.0 in /opt/conda/lib/python3.11/site-packages (from jinja2->torch>=2.5.0->fmeval) (3.0.2)\n",
      "Requirement already satisfied: ppft>=1.7.6.9 in /opt/conda/lib/python3.11/site-packages (from pathos->sagemaker<3.0.0,>=2.237.1->fmeval) (1.7.6.9)\n",
      "INFO: pip is looking at multiple versions of pathos to determine which version is compatible with other requirements. This could take a while.\n",
      "Collecting pathos (from sagemaker<3.0.0,>=2.237.1->fmeval)\n",
      "  Using cached pathos-0.3.2-py3-none-any.whl.metadata (11 kB)\n",
      "Requirement already satisfied: pox>=0.3.4 in /opt/conda/lib/python3.11/site-packages (from pathos->sagemaker<3.0.0,>=2.237.1->fmeval) (0.3.5)\n",
      "Requirement already satisfied: executing>=1.2.0 in /opt/conda/lib/python3.11/site-packages (from stack_data->IPython->fmeval) (2.1.0)\n",
      "Requirement already satisfied: asttokens>=2.1.0 in /opt/conda/lib/python3.11/site-packages (from stack_data->IPython->fmeval) (3.0.0)\n",
      "Requirement already satisfied: pure_eval in /opt/conda/lib/python3.11/site-packages (from stack_data->IPython->fmeval) (0.2.3)\n",
      "Requirement already satisfied: h11>=0.8 in /opt/conda/lib/python3.11/site-packages (from uvicorn->sagemaker<3.0.0,>=2.237.1->fmeval) (0.14.0)\n",
      "Requirement already satisfied: annotated-types>=0.6.0 in /opt/conda/lib/python3.11/site-packages (from pydantic<3.0.0,>=2.0.0->sagemaker-core<2.0.0,>=1.0.17->sagemaker<3.0.0,>=2.237.1->fmeval) (0.7.0)\n",
      "Requirement already satisfied: pydantic-core==2.27.2 in /opt/conda/lib/python3.11/site-packages (from pydantic<3.0.0,>=2.0.0->sagemaker-core<2.0.0,>=1.0.17->sagemaker<3.0.0,>=2.237.1->fmeval) (2.27.2)\n",
      "Requirement already satisfied: markdown-it-py>=2.2.0 in /opt/conda/lib/python3.11/site-packages (from rich<14.0.0,>=13.0.0->sagemaker-core<2.0.0,>=1.0.17->sagemaker<3.0.0,>=2.237.1->fmeval) (3.0.0)\n",
      "Requirement already satisfied: anyio<5,>=3.6.2 in /opt/conda/lib/python3.11/site-packages (from starlette<0.47.0,>=0.40.0->fastapi->sagemaker<3.0.0,>=2.237.1->fmeval) (4.8.0)\n",
      "Requirement already satisfied: sniffio>=1.1 in /opt/conda/lib/python3.11/site-packages (from anyio<5,>=3.6.2->starlette<0.47.0,>=0.40.0->fastapi->sagemaker<3.0.0,>=2.237.1->fmeval) (1.3.1)\n",
      "Requirement already satisfied: mdurl~=0.1 in /opt/conda/lib/python3.11/site-packages (from markdown-it-py>=2.2.0->rich<14.0.0,>=13.0.0->sagemaker-core<2.0.0,>=1.0.17->sagemaker<3.0.0,>=2.237.1->fmeval) (0.1.2)\n",
      "Using cached fmeval-1.2.2-py3-none-any.whl (145 kB)\n",
      "Using cached ray-2.40.0-cp311-cp311-manylinux2014_x86_64.whl (67.0 MB)\n",
      "Using cached pathos-0.3.2-py3-none-any.whl (82 kB)\n",
      "Installing collected packages: pathos, ray, fmeval\n",
      "  Attempting uninstall: pathos\n",
      "    Found existing installation: pathos 0.3.3\n",
      "    Uninstalling pathos-0.3.3:\n",
      "      Successfully uninstalled pathos-0.3.3\n",
      "  Attempting uninstall: ray\n",
      "    Found existing installation: ray 2.44.1\n",
      "    Uninstalling ray-2.44.1:\n",
      "      Successfully uninstalled ray-2.44.1\n",
      "Successfully installed fmeval-1.2.2 pathos-0.3.2 ray-2.40.0\n"
     ]
    }
   ],
   "source": [
    "!pip install torch torchvision --index-url https://download.pytorch.org/whl/cpu\n",
    "!pip install fmeval"
   ]
  },
  {
   "cell_type": "code",
   "execution_count": 1,
   "metadata": {},
   "outputs": [
    {
     "name": "stderr",
     "output_type": "stream",
     "text": [
      "/opt/conda/lib/python3.11/site-packages/pydantic/_internal/_fields.py:192: UserWarning: Field name \"json\" in \"MonitoringDatasetFormat\" shadows an attribute in parent \"Base\"\n",
      "  warnings.warn(\n"
     ]
    },
    {
     "name": "stdout",
     "output_type": "stream",
     "text": [
      "sagemaker.config INFO - Not applying SDK defaults from location: /etc/xdg/sagemaker/config.yaml\n",
      "sagemaker.config INFO - Not applying SDK defaults from location: /home/sagemaker-user/.config/sagemaker/config.yaml\n"
     ]
    },
    {
     "data": {
      "text/html": [
       "<pre style=\"white-space:pre;overflow-x:auto;line-height:normal;font-family:Menlo,'DejaVu Sans Mono',consolas,'Courier New',monospace\"><span style=\"color: #7fbfbf; text-decoration-color: #7fbfbf\">[03/29/25 23:19:02] </span><span style=\"color: #0069ff; text-decoration-color: #0069ff; font-weight: bold\">INFO    </span> PyTorch version <span style=\"color: #008080; text-decoration-color: #008080; font-weight: bold\">2.6</span>.<span style=\"color: #008080; text-decoration-color: #008080; font-weight: bold\">0</span>+cpu available.                                      <a href=\"file:///opt/conda/lib/python3.11/site-packages/datasets/config.py\" target=\"_blank\"><span style=\"color: #7f7f7f; text-decoration-color: #7f7f7f\">config.py</span></a><span style=\"color: #7f7f7f; text-decoration-color: #7f7f7f\">:</span><a href=\"file:///opt/conda/lib/python3.11/site-packages/datasets/config.py#54\" target=\"_blank\"><span style=\"color: #7f7f7f; text-decoration-color: #7f7f7f\">54</span></a>\n",
       "</pre>\n"
      ],
      "text/plain": [
       "\u001b[2;36m[03/29/25 23:19:02]\u001b[0m\u001b[2;36m \u001b[0m\u001b[1;38;2;0;105;255mINFO    \u001b[0m PyTorch version \u001b[1;36m2.6\u001b[0m.\u001b[1;36m0\u001b[0m+cpu available.                                      \u001b]8;id=894981;file:///opt/conda/lib/python3.11/site-packages/datasets/config.py\u001b\\\u001b[2mconfig.py\u001b[0m\u001b]8;;\u001b\\\u001b[2m:\u001b[0m\u001b]8;id=692860;file:///opt/conda/lib/python3.11/site-packages/datasets/config.py#54\u001b\\\u001b[2m54\u001b[0m\u001b]8;;\u001b\\\n"
      ]
     },
     "metadata": {},
     "output_type": "display_data"
    },
    {
     "data": {
      "text/html": [
       "<pre style=\"white-space:pre;overflow-x:auto;line-height:normal;font-family:Menlo,'DejaVu Sans Mono',consolas,'Courier New',monospace\"><span style=\"color: #7fbfbf; text-decoration-color: #7fbfbf\">                    </span><span style=\"color: #0069ff; text-decoration-color: #0069ff; font-weight: bold\">INFO    </span> TensorFlow version <span style=\"color: #008080; text-decoration-color: #008080; font-weight: bold\">2.17</span>.<span style=\"color: #008080; text-decoration-color: #008080; font-weight: bold\">0</span> available.                                     <a href=\"file:///opt/conda/lib/python3.11/site-packages/datasets/config.py\" target=\"_blank\"><span style=\"color: #7f7f7f; text-decoration-color: #7f7f7f\">config.py</span></a><span style=\"color: #7f7f7f; text-decoration-color: #7f7f7f\">:</span><a href=\"file:///opt/conda/lib/python3.11/site-packages/datasets/config.py#112\" target=\"_blank\"><span style=\"color: #7f7f7f; text-decoration-color: #7f7f7f\">112</span></a>\n",
       "</pre>\n"
      ],
      "text/plain": [
       "\u001b[2;36m                   \u001b[0m\u001b[2;36m \u001b[0m\u001b[1;38;2;0;105;255mINFO    \u001b[0m TensorFlow version \u001b[1;36m2.17\u001b[0m.\u001b[1;36m0\u001b[0m available.                                     \u001b]8;id=336435;file:///opt/conda/lib/python3.11/site-packages/datasets/config.py\u001b\\\u001b[2mconfig.py\u001b[0m\u001b]8;;\u001b\\\u001b[2m:\u001b[0m\u001b]8;id=244634;file:///opt/conda/lib/python3.11/site-packages/datasets/config.py#112\u001b\\\u001b[2m112\u001b[0m\u001b]8;;\u001b\\\n"
      ]
     },
     "metadata": {},
     "output_type": "display_data"
    },
    {
     "name": "stderr",
     "output_type": "stream",
     "text": [
      "2025-03-29 23:19:05.753021: I tensorflow/core/platform/cpu_feature_guard.cc:210] This TensorFlow binary is optimized to use available CPU instructions in performance-critical operations.\n",
      "To enable the following instructions: SSE4.1 SSE4.2 AVX AVX2 AVX512F FMA, in other operations, rebuild TensorFlow with the appropriate compiler flags.\n"
     ]
    }
   ],
   "source": [
    "from pathlib import Path\n",
    "\n",
    "import mlflow\n",
    "from dotenv import load_dotenv\n",
    "from fmeval.constants import MIME_TYPE_JSONLINES\n",
    "from fmeval.data_loaders.data_config import DataConfig\n",
    "from fmeval.eval_algorithms.factual_knowledge import (\n",
    "    FactualKnowledge,\n",
    "    FactualKnowledgeConfig,\n",
    ")\n",
    "from fmeval.eval_algorithms.summarization_accuracy import SummarizationAccuracy\n",
    "from fmeval.eval_algorithms.toxicity import Toxicity, ToxicityConfig\n",
    "from fmeval.model_runners.sm_jumpstart_model_runner import JumpStartModelRunner\n",
    "from utils import EvaluationSet, run_evaluation_sets, run_evaluation_sets_nested"
   ]
  },
  {
   "cell_type": "code",
   "execution_count": 2,
   "metadata": {},
   "outputs": [],
   "source": [
    "%load_ext autoreload\n",
    "%autoreload 2"
   ]
  },
  {
   "cell_type": "markdown",
   "metadata": {},
   "source": [
    "We set the environmental variables `MLFLOW_TRACKING_URI` and `MLFLOW_TRACKING_USERNAME` from the `.env` file created in [00-Setup](./00-Setup.ipynb).\n",
    "Alternatively you can set the tracking URL using the `mlflow` sdk method:\n",
    "\n",
    "``` python\n",
    "mlflow.set_tracking_uri(tracking_server_arn)\n",
    "```"
   ]
  },
  {
   "cell_type": "code",
   "execution_count": 3,
   "metadata": {},
   "outputs": [
    {
     "data": {
      "text/plain": [
       "True"
      ]
     },
     "execution_count": 3,
     "metadata": {},
     "output_type": "execute_result"
    }
   ],
   "source": [
    "load_dotenv()"
   ]
  },
  {
   "cell_type": "markdown",
   "metadata": {},
   "source": [
    "Deploy the SageMaker Jumpstart endpoint you want to test. You need the corresponding `model_id` in SageMaker Jumpstart. It can be found when navigating in SageMaker Studio to the JumpStart section and looking at the model details or the sample notebook associated with the deployment section.\n",
    "\n",
    "![jumpstart-model-id](../img/find-jumpstart-model-id.png)\n",
    "\n",
    "Alternatively, if you have an existing SageMaker Jumpstart endpoint, you can replace the cell below by setting only the `endpoint_name` variable\n",
    "\n",
    "```python\n",
    "endpoint_name = \"jumpstart-existing-endpoint-name\"\n",
    "```"
   ]
  },
  {
   "cell_type": "code",
   "execution_count": 7,
   "metadata": {},
   "outputs": [
    {
     "ename": "ValueError",
     "evalue": "Invalid model ID: 'hf-llm-mistral-7b-ins-20250329-220013Endpoint'. Please visit https://sagemaker.readthedocs.io/en/stable/doc_utils/pretrainedmodels.html for a list of valid model IDs. The module `sagemaker.jumpstart.notebook_utils` contains utilities for fetching model IDs. We recommend upgrading to the latest version of sagemaker to get access to the most models.",
     "output_type": "error",
     "traceback": [
      "\u001b[0;31m---------------------------------------------------------------------------\u001b[0m",
      "\u001b[0;31mValueError\u001b[0m                                Traceback (most recent call last)",
      "Cell \u001b[0;32mIn[7], line 4\u001b[0m\n\u001b[1;32m      1\u001b[0m \u001b[38;5;28;01mfrom\u001b[39;00m\u001b[38;5;250m \u001b[39m\u001b[38;5;21;01msagemaker\u001b[39;00m\u001b[38;5;21;01m.\u001b[39;00m\u001b[38;5;21;01mjumpstart\u001b[39;00m\u001b[38;5;21;01m.\u001b[39;00m\u001b[38;5;21;01mmodel\u001b[39;00m\u001b[38;5;250m \u001b[39m\u001b[38;5;28;01mimport\u001b[39;00m JumpStartModel\n\u001b[1;32m      3\u001b[0m model_id \u001b[38;5;241m=\u001b[39m \u001b[38;5;124m\"\u001b[39m\u001b[38;5;124mhf-llm-mistral-7b-ins-20250329-220013Endpoint\u001b[39m\u001b[38;5;124m\"\u001b[39m  \u001b[38;5;66;03m# e.g., \"huggingface-llm-falcon2-11b\"\u001b[39;00m\n\u001b[0;32m----> 4\u001b[0m model \u001b[38;5;241m=\u001b[39m \u001b[43mJumpStartModel\u001b[49m\u001b[43m(\u001b[49m\u001b[43mmodel_id\u001b[49m\u001b[38;5;241;43m=\u001b[39;49m\u001b[43mmodel_id\u001b[49m\u001b[43m)\u001b[49m\n\u001b[1;32m      5\u001b[0m accept_eula \u001b[38;5;241m=\u001b[39m \u001b[38;5;28;01mFalse\u001b[39;00m  \u001b[38;5;66;03m# <-- some Jumpstart models requires explicitly accepting a EULA\u001b[39;00m\n\u001b[1;32m      6\u001b[0m predictor \u001b[38;5;241m=\u001b[39m model\u001b[38;5;241m.\u001b[39mdeploy(accept_eula\u001b[38;5;241m=\u001b[39maccept_eula)\n",
      "File \u001b[0;32m/opt/conda/lib/python3.11/site-packages/sagemaker/jumpstart/model.py:328\u001b[0m, in \u001b[0;36mJumpStartModel.__init__\u001b[0;34m(self, model_id, model_version, hub_name, tolerate_vulnerable_model, tolerate_deprecated_model, region, instance_type, image_uri, model_data, role, predictor_cls, env, name, vpc_config, sagemaker_session, enable_network_isolation, model_kms_key, image_config, source_dir, code_location, entry_point, container_log_level, dependencies, git_config, model_package_arn, resources, config_name, additional_model_data_sources)\u001b[0m\n\u001b[1;32m    326\u001b[0m     \u001b[38;5;28mself\u001b[39m\u001b[38;5;241m.\u001b[39mmodel_type \u001b[38;5;241m=\u001b[39m _validate_model_id_and_type()\n\u001b[1;32m    327\u001b[0m     \u001b[38;5;28;01mif\u001b[39;00m \u001b[38;5;129;01mnot\u001b[39;00m \u001b[38;5;28mself\u001b[39m\u001b[38;5;241m.\u001b[39mmodel_type \u001b[38;5;129;01mand\u001b[39;00m \u001b[38;5;129;01mnot\u001b[39;00m hub_arn:\n\u001b[0;32m--> 328\u001b[0m         \u001b[38;5;28;01mraise\u001b[39;00m \u001b[38;5;167;01mValueError\u001b[39;00m(INVALID_MODEL_ID_ERROR_MSG\u001b[38;5;241m.\u001b[39mformat(model_id\u001b[38;5;241m=\u001b[39mmodel_id))\n\u001b[1;32m    330\u001b[0m \u001b[38;5;28mself\u001b[39m\u001b[38;5;241m.\u001b[39m_model_data_is_set \u001b[38;5;241m=\u001b[39m model_data \u001b[38;5;129;01mis\u001b[39;00m \u001b[38;5;129;01mnot\u001b[39;00m \u001b[38;5;28;01mNone\u001b[39;00m\n\u001b[1;32m    331\u001b[0m model_init_kwargs \u001b[38;5;241m=\u001b[39m get_init_kwargs(\n\u001b[1;32m    332\u001b[0m     model_id\u001b[38;5;241m=\u001b[39mmodel_id,\n\u001b[1;32m    333\u001b[0m     model_from_estimator\u001b[38;5;241m=\u001b[39m\u001b[38;5;28;01mFalse\u001b[39;00m,\n\u001b[0;32m   (...)\u001b[0m\n\u001b[1;32m    361\u001b[0m     additional_model_data_sources\u001b[38;5;241m=\u001b[39madditional_model_data_sources,\n\u001b[1;32m    362\u001b[0m )\n",
      "\u001b[0;31mValueError\u001b[0m: Invalid model ID: 'hf-llm-mistral-7b-ins-20250329-220013Endpoint'. Please visit https://sagemaker.readthedocs.io/en/stable/doc_utils/pretrainedmodels.html for a list of valid model IDs. The module `sagemaker.jumpstart.notebook_utils` contains utilities for fetching model IDs. We recommend upgrading to the latest version of sagemaker to get access to the most models."
     ]
    }
   ],
   "source": [
    "# from sagemaker.jumpstart.model import JumpStartModel\n",
    "\n",
    "# model_id = \"hf-llm-mistral-7b-ins-20250329-220013Endpoint\"  # e.g., \"huggingface-llm-falcon2-11b\"\n",
    "# model = JumpStartModel(model_id=model_id)\n",
    "# accept_eula = False  # <-- some Jumpstart models requires explicitly accepting a EULA\n",
    "# predictor = model.deploy(accept_eula=accept_eula)\n",
    "# endpoint_name = predictor.endpoint_name"
   ]
  },
  {
   "cell_type": "code",
   "execution_count": 4,
   "metadata": {},
   "outputs": [],
   "source": [
    "endpoint_name = \"jumpstart-dft-hf-llm-mistral-7b-ins-20250329-230644\""
   ]
  },
  {
   "cell_type": "markdown",
   "metadata": {},
   "source": [
    "### Model Runner Setup\n",
    "\n",
    "The model runner we create below will be used to perform inference on every sample in the dataset."
   ]
  },
  {
   "cell_type": "code",
   "execution_count": 5,
   "metadata": {},
   "outputs": [],
   "source": [
    "import json\n",
    "\n",
    "from sagemaker.jumpstart.model import JumpStartModel\n",
    "from sagemaker.jumpstart.session_utils import get_model_info_from_endpoint\n",
    "from sagemaker.predictor import retrieve_default"
   ]
  },
  {
   "cell_type": "markdown",
   "metadata": {},
   "source": [
    "Lets extract information about the model. One particularly important information is the `inputs` format, which tells us the prompt signature for the model we have deployed."
   ]
  },
  {
   "cell_type": "code",
   "execution_count": 6,
   "metadata": {},
   "outputs": [
    {
     "name": "stderr",
     "output_type": "stream",
     "text": [
      "No instance type selected for inference hosting endpoint. Defaulting to ml.g5.12xlarge.\n"
     ]
    },
    {
     "data": {
      "text/html": [
       "<pre style=\"white-space:pre;overflow-x:auto;line-height:normal;font-family:Menlo,'DejaVu Sans Mono',consolas,'Courier New',monospace\"><span style=\"color: #7fbfbf; text-decoration-color: #7fbfbf\">[03/29/25 23:19:23] </span><span style=\"color: #0069ff; text-decoration-color: #0069ff; font-weight: bold\">INFO    </span> No instance type selected for inference hosting endpoint. Defaulting to   <a href=\"file:///opt/conda/lib/python3.11/site-packages/sagemaker/jumpstart/factory/model.py\" target=\"_blank\"><span style=\"color: #7f7f7f; text-decoration-color: #7f7f7f\">model.py</span></a><span style=\"color: #7f7f7f; text-decoration-color: #7f7f7f\">:</span><a href=\"file:///opt/conda/lib/python3.11/site-packages/sagemaker/jumpstart/factory/model.py#238\" target=\"_blank\"><span style=\"color: #7f7f7f; text-decoration-color: #7f7f7f\">238</span></a>\n",
       "<span style=\"color: #7fbfbf; text-decoration-color: #7fbfbf\">                    </span>         ml.g5.12xlarge.                                                           <span style=\"color: #7f7f7f; text-decoration-color: #7f7f7f\">            </span>\n",
       "</pre>\n"
      ],
      "text/plain": [
       "\u001b[2;36m[03/29/25 23:19:23]\u001b[0m\u001b[2;36m \u001b[0m\u001b[1;38;2;0;105;255mINFO    \u001b[0m No instance type selected for inference hosting endpoint. Defaulting to   \u001b]8;id=437932;file:///opt/conda/lib/python3.11/site-packages/sagemaker/jumpstart/factory/model.py\u001b\\\u001b[2mmodel.py\u001b[0m\u001b]8;;\u001b\\\u001b[2m:\u001b[0m\u001b]8;id=606576;file:///opt/conda/lib/python3.11/site-packages/sagemaker/jumpstart/factory/model.py#238\u001b\\\u001b[2m238\u001b[0m\u001b]8;;\u001b\\\n",
       "\u001b[2;36m                    \u001b[0m         ml.g5.12xlarge.                                                           \u001b[2m            \u001b[0m\n"
      ]
     },
     "metadata": {},
     "output_type": "display_data"
    },
    {
     "name": "stdout",
     "output_type": "stream",
     "text": [
      "{\n",
      "    \"inputs\": \"<s>[INST] what is the recipe of mayonnaise? [/INST]\",\n",
      "    \"parameters\": {\n",
      "        \"max_new_tokens\": 256,\n",
      "        \"do_sample\": true,\n",
      "        \"decoder_input_details\": true,\n",
      "        \"details\": true\n",
      "    }\n",
      "}\n"
     ]
    }
   ],
   "source": [
    "model_id, model_version, _, _, _ = get_model_info_from_endpoint(\n",
    "    endpoint_name=endpoint_name\n",
    ")\n",
    "model = JumpStartModel(model_id=model_id, model_version=model_version)\n",
    "predictor = retrieve_default(endpoint_name=endpoint_name)\n",
    "sample_payload = model.retrieve_example_payload().body\n",
    "print(json.dumps(sample_payload, indent=4))"
   ]
  },
  {
   "cell_type": "code",
   "execution_count": 7,
   "metadata": {},
   "outputs": [
    {
     "name": "stdout",
     "output_type": "stream",
     "text": [
      "[\n",
      "    {\n",
      "        \"generated_text\": \"<s>[INST] what is the recipe of mayonnaise? [/INST]Mayonnaise is a creamy sauce made from oil, egg yolks, and an acid such as vinegar or lemon juice. Here's a basic recipe for traditional mayonnaise:\\n\\nIngredients:\\n- 1 egg yolk\\n- 1 teaspoon of mustard (Dijon mustard is a good choice)\\n- 1 tablespoon of vinegar (white or apple cider vinegar) or lemon juice\\n- 1 cup of oil (neutral oil like canola or vegetable oil work well)\\n- Salt, to taste\\n- Pepper, to taste\\n\\nInstructions:\\n1. Combine the egg yolk, mustard, and acid (vinegar or lemon juice) in a medium-sized bowl. Whisk until well combined.\\n2. Start adding the oil very slowly, drop by drop, while continually whisking the mixture. This process is crucial for keeping the sauce from separating.\\n3. Once the sauce begins to thicken, you can start adding the oil in a thin, steady stream while continuing to whisk.\\n4. Once all the oil is incorporated, season with salt and pepper to taste.\\n5. If the mayonna\",\n",
      "        \"details\": {\n",
      "            \"finish_reason\": \"length\",\n",
      "            \"generated_tokens\": 256,\n",
      "            \"seed\": 16291016873114238055,\n",
      "            \"prefill\": [\n",
      "                {\n",
      "                    \"id\": 1,\n",
      "                    \"text\": \"<s>\",\n",
      "                    \"logprob\": null\n",
      "                },\n",
      "                {\n",
      "                    \"id\": 3,\n",
      "                    \"text\": \"[INST]\",\n",
      "                    \"logprob\": -21.90625\n",
      "                },\n",
      "                {\n",
      "                    \"id\": 29473,\n",
      "                    \"text\": \"\",\n",
      "                    \"logprob\": -10.546875\n",
      "                },\n",
      "                {\n",
      "                    \"id\": 1535,\n",
      "                    \"text\": \"what\",\n",
      "                    \"logprob\": -10.421875\n",
      "                },\n",
      "                {\n",
      "                    \"id\": 1117,\n",
      "                    \"text\": \"is\",\n",
      "                    \"logprob\": -0.51464844\n",
      "                },\n",
      "                {\n",
      "                    \"id\": 1040,\n",
      "                    \"text\": \"the\",\n",
      "                    \"logprob\": -0.12597656\n",
      "                },\n",
      "                {\n",
      "                    \"id\": 14173,\n",
      "                    \"text\": \"recipe\",\n",
      "                    \"logprob\": -8.296875\n",
      "                },\n",
      "                {\n",
      "                    \"id\": 1070,\n",
      "                    \"text\": \"of\",\n",
      "                    \"logprob\": -4.46875\n",
      "                },\n",
      "                {\n",
      "                    \"id\": 1761,\n",
      "                    \"text\": \"may\",\n",
      "                    \"logprob\": -6.796875\n",
      "                },\n",
      "                {\n",
      "                    \"id\": 7904,\n",
      "                    \"text\": \"onna\",\n",
      "                    \"logprob\": -0.024597168\n",
      "                },\n",
      "                {\n",
      "                    \"id\": 1632,\n",
      "                    \"text\": \"ise\",\n",
      "                    \"logprob\": -1.66893e-05\n",
      "                },\n",
      "                {\n",
      "                    \"id\": 29572,\n",
      "                    \"text\": \"?\",\n",
      "                    \"logprob\": -0.15002441\n",
      "                },\n",
      "                {\n",
      "                    \"id\": 29473,\n",
      "                    \"text\": \"\",\n",
      "                    \"logprob\": -12.3671875\n",
      "                },\n",
      "                {\n",
      "                    \"id\": 4,\n",
      "                    \"text\": \"[/INST]\",\n",
      "                    \"logprob\": -25.46875\n",
      "                }\n",
      "            ],\n",
      "            \"tokens\": [\n",
      "                {\n",
      "                    \"id\": 3014,\n",
      "                    \"text\": \" May\",\n",
      "                    \"logprob\": -1.1669922,\n",
      "                    \"special\": false\n",
      "                },\n",
      "                {\n",
      "                    \"id\": 7904,\n",
      "                    \"text\": \"onna\",\n",
      "                    \"logprob\": -1.335144e-05,\n",
      "                    \"special\": false\n",
      "                },\n",
      "                {\n",
      "                    \"id\": 1632,\n",
      "                    \"text\": \"ise\",\n",
      "                    \"logprob\": -1.4305115e-06,\n",
      "                    \"special\": false\n",
      "                },\n",
      "                {\n",
      "                    \"id\": 1117,\n",
      "                    \"text\": \" is\",\n",
      "                    \"logprob\": -0.00024402142,\n",
      "                    \"special\": false\n",
      "                },\n",
      "                {\n",
      "                    \"id\": 1032,\n",
      "                    \"text\": \" a\",\n",
      "                    \"logprob\": -0.012573242,\n",
      "                    \"special\": false\n",
      "                },\n",
      "                {\n",
      "                    \"id\": 11326,\n",
      "                    \"text\": \" cream\",\n",
      "                    \"logprob\": -0.06793213,\n",
      "                    \"special\": false\n",
      "                },\n",
      "                {\n",
      "                    \"id\": 29492,\n",
      "                    \"text\": \"y\",\n",
      "                    \"logprob\": -1.1920929e-07,\n",
      "                    \"special\": false\n",
      "                },\n",
      "                {\n",
      "                    \"id\": 16810,\n",
      "                    \"text\": \" sauce\",\n",
      "                    \"logprob\": -1.2734375,\n",
      "                    \"special\": false\n",
      "                },\n",
      "                {\n",
      "                    \"id\": 2037,\n",
      "                    \"text\": \" made\",\n",
      "                    \"logprob\": -0.05960083,\n",
      "                    \"special\": false\n",
      "                },\n",
      "                {\n",
      "                    \"id\": 1245,\n",
      "                    \"text\": \" from\",\n",
      "                    \"logprob\": -0.23535156,\n",
      "                    \"special\": false\n",
      "                },\n",
      "                {\n",
      "                    \"id\": 6271,\n",
      "                    \"text\": \" oil\",\n",
      "                    \"logprob\": -0.5180664,\n",
      "                    \"special\": false\n",
      "                },\n",
      "                {\n",
      "                    \"id\": 29493,\n",
      "                    \"text\": \",\",\n",
      "                    \"logprob\": -7.915497e-05,\n",
      "                    \"special\": false\n",
      "                },\n",
      "                {\n",
      "                    \"id\": 9887,\n",
      "                    \"text\": \" egg\",\n",
      "                    \"logprob\": -0.09698486,\n",
      "                    \"special\": false\n",
      "                },\n",
      "                {\n",
      "                    \"id\": 1105,\n",
      "                    \"text\": \" y\",\n",
      "                    \"logprob\": -0.0024414062,\n",
      "                    \"special\": false\n",
      "                },\n",
      "                {\n",
      "                    \"id\": 1096,\n",
      "                    \"text\": \"ol\",\n",
      "                    \"logprob\": -0.017333984,\n",
      "                    \"special\": false\n",
      "                },\n",
      "                {\n",
      "                    \"id\": 3053,\n",
      "                    \"text\": \"ks\",\n",
      "                    \"logprob\": -2.3841858e-07,\n",
      "                    \"special\": false\n",
      "                },\n",
      "                {\n",
      "                    \"id\": 29493,\n",
      "                    \"text\": \",\",\n",
      "                    \"logprob\": -1.66893e-06,\n",
      "                    \"special\": false\n",
      "                },\n",
      "                {\n",
      "                    \"id\": 1072,\n",
      "                    \"text\": \" and\",\n",
      "                    \"logprob\": -0.4013672,\n",
      "                    \"special\": false\n",
      "                },\n",
      "                {\n",
      "                    \"id\": 1164,\n",
      "                    \"text\": \" an\",\n",
      "                    \"logprob\": -0.2512207,\n",
      "                    \"special\": false\n",
      "                },\n",
      "                {\n",
      "                    \"id\": 15201,\n",
      "                    \"text\": \" acid\",\n",
      "                    \"logprob\": -1.5616417e-05,\n",
      "                    \"special\": false\n",
      "                },\n",
      "                {\n",
      "                    \"id\": 2027,\n",
      "                    \"text\": \" such\",\n",
      "                    \"logprob\": -0.9111328,\n",
      "                    \"special\": false\n",
      "                },\n",
      "                {\n",
      "                    \"id\": 1158,\n",
      "                    \"text\": \" as\",\n",
      "                    \"logprob\": -1.1920929e-06,\n",
      "                    \"special\": false\n",
      "                },\n",
      "                {\n",
      "                    \"id\": 22143,\n",
      "                    \"text\": \" vine\",\n",
      "                    \"logprob\": -0.0541687,\n",
      "                    \"special\": false\n",
      "                },\n",
      "                {\n",
      "                    \"id\": 5517,\n",
      "                    \"text\": \"gar\",\n",
      "                    \"logprob\": -7.1525574e-07,\n",
      "                    \"special\": false\n",
      "                },\n",
      "                {\n",
      "                    \"id\": 1210,\n",
      "                    \"text\": \" or\",\n",
      "                    \"logprob\": -0.0045547485,\n",
      "                    \"special\": false\n",
      "                },\n",
      "                {\n",
      "                    \"id\": 24366,\n",
      "                    \"text\": \" lemon\",\n",
      "                    \"logprob\": -0.00020039082,\n",
      "                    \"special\": false\n",
      "                },\n",
      "                {\n",
      "                    \"id\": 19110,\n",
      "                    \"text\": \" juice\",\n",
      "                    \"logprob\": -2.8729439e-05,\n",
      "                    \"special\": false\n",
      "                },\n",
      "                {\n",
      "                    \"id\": 29491,\n",
      "                    \"text\": \".\",\n",
      "                    \"logprob\": -0.01373291,\n",
      "                    \"special\": false\n",
      "                },\n",
      "                {\n",
      "                    \"id\": 4771,\n",
      "                    \"text\": \" Here\",\n",
      "                    \"logprob\": -0.006275177,\n",
      "                    \"special\": false\n",
      "                },\n",
      "                {\n",
      "                    \"id\": 29510,\n",
      "                    \"text\": \"'\",\n",
      "                    \"logprob\": -0.25561523,\n",
      "                    \"special\": false\n",
      "                },\n",
      "                {\n",
      "                    \"id\": 29481,\n",
      "                    \"text\": \"s\",\n",
      "                    \"logprob\": -2.3841858e-07,\n",
      "                    \"special\": false\n",
      "                },\n",
      "                {\n",
      "                    \"id\": 1032,\n",
      "                    \"text\": \" a\",\n",
      "                    \"logprob\": -0.0009536743,\n",
      "                    \"special\": false\n",
      "                },\n",
      "                {\n",
      "                    \"id\": 7239,\n",
      "                    \"text\": \" basic\",\n",
      "                    \"logprob\": -0.70703125,\n",
      "                    \"special\": false\n",
      "                },\n",
      "                {\n",
      "                    \"id\": 14173,\n",
      "                    \"text\": \" recipe\",\n",
      "                    \"logprob\": -0.044708252,\n",
      "                    \"special\": false\n",
      "                },\n",
      "                {\n",
      "                    \"id\": 1122,\n",
      "                    \"text\": \" for\",\n",
      "                    \"logprob\": -0.24963379,\n",
      "                    \"special\": false\n",
      "                },\n",
      "                {\n",
      "                    \"id\": 7830,\n",
      "                    \"text\": \" traditional\",\n",
      "                    \"logprob\": -5.0703125,\n",
      "                    \"special\": false\n",
      "                },\n",
      "                {\n",
      "                    \"id\": 1761,\n",
      "                    \"text\": \" may\",\n",
      "                    \"logprob\": -0.032073975,\n",
      "                    \"special\": false\n",
      "                },\n",
      "                {\n",
      "                    \"id\": 7904,\n",
      "                    \"text\": \"onna\",\n",
      "                    \"logprob\": -1.66893e-06,\n",
      "                    \"special\": false\n",
      "                },\n",
      "                {\n",
      "                    \"id\": 1632,\n",
      "                    \"text\": \"ise\",\n",
      "                    \"logprob\": -5.9604645e-07,\n",
      "                    \"special\": false\n",
      "                },\n",
      "                {\n",
      "                    \"id\": 29515,\n",
      "                    \"text\": \":\",\n",
      "                    \"logprob\": -0.0015897751,\n",
      "                    \"special\": false\n",
      "                },\n",
      "                {\n",
      "                    \"id\": 781,\n",
      "                    \"text\": \"\\n\",\n",
      "                    \"logprob\": -2.3841858e-07,\n",
      "                    \"special\": false\n",
      "                },\n",
      "                {\n",
      "                    \"id\": 781,\n",
      "                    \"text\": \"\\n\",\n",
      "                    \"logprob\": -2.5510788e-05,\n",
      "                    \"special\": false\n",
      "                },\n",
      "                {\n",
      "                    \"id\": 1425,\n",
      "                    \"text\": \"In\",\n",
      "                    \"logprob\": -0.0015268326,\n",
      "                    \"special\": false\n",
      "                },\n",
      "                {\n",
      "                    \"id\": 29489,\n",
      "                    \"text\": \"g\",\n",
      "                    \"logprob\": -3.5762787e-07,\n",
      "                    \"special\": false\n",
      "                },\n",
      "                {\n",
      "                    \"id\": 1661,\n",
      "                    \"text\": \"red\",\n",
      "                    \"logprob\": -8.34465e-07,\n",
      "                    \"special\": false\n",
      "                },\n",
      "                {\n",
      "                    \"id\": 3553,\n",
      "                    \"text\": \"ients\",\n",
      "                    \"logprob\": -2.6345253e-05,\n",
      "                    \"special\": false\n",
      "                },\n",
      "                {\n",
      "                    \"id\": 29515,\n",
      "                    \"text\": \":\",\n",
      "                    \"logprob\": -4.2915344e-06,\n",
      "                    \"special\": false\n",
      "                },\n",
      "                {\n",
      "                    \"id\": 781,\n",
      "                    \"text\": \"\\n\",\n",
      "                    \"logprob\": 0.0,\n",
      "                    \"special\": false\n",
      "                },\n",
      "                {\n",
      "                    \"id\": 29501,\n",
      "                    \"text\": \"-\",\n",
      "                    \"logprob\": -0.41552734,\n",
      "                    \"special\": false\n",
      "                },\n",
      "                {\n",
      "                    \"id\": 29473,\n",
      "                    \"text\": \" \",\n",
      "                    \"logprob\": -3.8146973e-06,\n",
      "                    \"special\": false\n",
      "                },\n",
      "                {\n",
      "                    \"id\": 29508,\n",
      "                    \"text\": \"1\",\n",
      "                    \"logprob\": -1.8574219,\n",
      "                    \"special\": false\n",
      "                },\n",
      "                {\n",
      "                    \"id\": 9887,\n",
      "                    \"text\": \" egg\",\n",
      "                    \"logprob\": -0.15124512,\n",
      "                    \"special\": false\n",
      "                },\n",
      "                {\n",
      "                    \"id\": 1105,\n",
      "                    \"text\": \" y\",\n",
      "                    \"logprob\": -6.3180923e-06,\n",
      "                    \"special\": false\n",
      "                },\n",
      "                {\n",
      "                    \"id\": 27995,\n",
      "                    \"text\": \"olk\",\n",
      "                    \"logprob\": -0.00025820732,\n",
      "                    \"special\": false\n",
      "                },\n",
      "                {\n",
      "                    \"id\": 781,\n",
      "                    \"text\": \"\\n\",\n",
      "                    \"logprob\": -0.058898926,\n",
      "                    \"special\": false\n",
      "                },\n",
      "                {\n",
      "                    \"id\": 29501,\n",
      "                    \"text\": \"-\",\n",
      "                    \"logprob\": -1.0728836e-06,\n",
      "                    \"special\": false\n",
      "                },\n",
      "                {\n",
      "                    \"id\": 29473,\n",
      "                    \"text\": \" \",\n",
      "                    \"logprob\": -4.8995018e-05,\n",
      "                    \"special\": false\n",
      "                },\n",
      "                {\n",
      "                    \"id\": 29508,\n",
      "                    \"text\": \"1\",\n",
      "                    \"logprob\": -0.014404297,\n",
      "                    \"special\": false\n",
      "                },\n",
      "                {\n",
      "                    \"id\": 25557,\n",
      "                    \"text\": \" teas\",\n",
      "                    \"logprob\": -1.0019531,\n",
      "                    \"special\": false\n",
      "                },\n",
      "                {\n",
      "                    \"id\": 21438,\n",
      "                    \"text\": \"poon\",\n",
      "                    \"logprob\": -1.013279e-05,\n",
      "                    \"special\": false\n",
      "                },\n",
      "                {\n",
      "                    \"id\": 1070,\n",
      "                    \"text\": \" of\",\n",
      "                    \"logprob\": -0.85595703,\n",
      "                    \"special\": false\n",
      "                },\n",
      "                {\n",
      "                    \"id\": 2348,\n",
      "                    \"text\": \" must\",\n",
      "                    \"logprob\": -0.0053215027,\n",
      "                    \"special\": false\n",
      "                },\n",
      "                {\n",
      "                    \"id\": 1256,\n",
      "                    \"text\": \"ard\",\n",
      "                    \"logprob\": -5.9604645e-06,\n",
      "                    \"special\": false\n",
      "                },\n",
      "                {\n",
      "                    \"id\": 1093,\n",
      "                    \"text\": \" (\",\n",
      "                    \"logprob\": -9.23872e-05,\n",
      "                    \"special\": false\n",
      "                },\n",
      "                {\n",
      "                    \"id\": 29525,\n",
      "                    \"text\": \"D\",\n",
      "                    \"logprob\": -0.027511597,\n",
      "                    \"special\": false\n",
      "                },\n",
      "                {\n",
      "                    \"id\": 1998,\n",
      "                    \"text\": \"ij\",\n",
      "                    \"logprob\": -1.41859055e-05,\n",
      "                    \"special\": false\n",
      "                },\n",
      "                {\n",
      "                    \"id\": 1034,\n",
      "                    \"text\": \"on\",\n",
      "                    \"logprob\": -4.7683716e-06,\n",
      "                    \"special\": false\n",
      "                },\n",
      "                {\n",
      "                    \"id\": 2348,\n",
      "                    \"text\": \" must\",\n",
      "                    \"logprob\": -0.6230469,\n",
      "                    \"special\": false\n",
      "                },\n",
      "                {\n",
      "                    \"id\": 1256,\n",
      "                    \"text\": \"ard\",\n",
      "                    \"logprob\": -3.5762787e-07,\n",
      "                    \"special\": false\n",
      "                },\n",
      "                {\n",
      "                    \"id\": 1117,\n",
      "                    \"text\": \" is\",\n",
      "                    \"logprob\": -0.22302246,\n",
      "                    \"special\": false\n",
      "                },\n",
      "                {\n",
      "                    \"id\": 1032,\n",
      "                    \"text\": \" a\",\n",
      "                    \"logprob\": -1.7431641,\n",
      "                    \"special\": false\n",
      "                },\n",
      "                {\n",
      "                    \"id\": 1947,\n",
      "                    \"text\": \" good\",\n",
      "                    \"logprob\": -1.4648438,\n",
      "                    \"special\": false\n",
      "                },\n",
      "                {\n",
      "                    \"id\": 5550,\n",
      "                    \"text\": \" choice\",\n",
      "                    \"logprob\": -0.004589081,\n",
      "                    \"special\": false\n",
      "                },\n",
      "                {\n",
      "                    \"id\": 29499,\n",
      "                    \"text\": \")\",\n",
      "                    \"logprob\": -0.009757996,\n",
      "                    \"special\": false\n",
      "                },\n",
      "                {\n",
      "                    \"id\": 781,\n",
      "                    \"text\": \"\\n\",\n",
      "                    \"logprob\": -5.9604645e-07,\n",
      "                    \"special\": false\n",
      "                },\n",
      "                {\n",
      "                    \"id\": 29501,\n",
      "                    \"text\": \"-\",\n",
      "                    \"logprob\": -4.7683716e-07,\n",
      "                    \"special\": false\n",
      "                },\n",
      "                {\n",
      "                    \"id\": 29473,\n",
      "                    \"text\": \" \",\n",
      "                    \"logprob\": -0.0005455017,\n",
      "                    \"special\": false\n",
      "                },\n",
      "                {\n",
      "                    \"id\": 29508,\n",
      "                    \"text\": \"1\",\n",
      "                    \"logprob\": -0.0096206665,\n",
      "                    \"special\": false\n",
      "                },\n",
      "                {\n",
      "                    \"id\": 10650,\n",
      "                    \"text\": \" tables\",\n",
      "                    \"logprob\": -0.11682129,\n",
      "                    \"special\": false\n",
      "                },\n",
      "                {\n",
      "                    \"id\": 21438,\n",
      "                    \"text\": \"poon\",\n",
      "                    \"logprob\": -8.6188316e-05,\n",
      "                    \"special\": false\n",
      "                },\n",
      "                {\n",
      "                    \"id\": 1070,\n",
      "                    \"text\": \" of\",\n",
      "                    \"logprob\": -0.00025248528,\n",
      "                    \"special\": false\n",
      "                },\n",
      "                {\n",
      "                    \"id\": 22143,\n",
      "                    \"text\": \" vine\",\n",
      "                    \"logprob\": -2.2421875,\n",
      "                    \"special\": false\n",
      "                },\n",
      "                {\n",
      "                    \"id\": 5517,\n",
      "                    \"text\": \"gar\",\n",
      "                    \"logprob\": -1.66893e-06,\n",
      "                    \"special\": false\n",
      "                },\n",
      "                {\n",
      "                    \"id\": 1093,\n",
      "                    \"text\": \" (\",\n",
      "                    \"logprob\": -2.0859375,\n",
      "                    \"special\": false\n",
      "                },\n",
      "                {\n",
      "                    \"id\": 11403,\n",
      "                    \"text\": \"white\",\n",
      "                    \"logprob\": -0.12609863,\n",
      "                    \"special\": false\n",
      "                },\n",
      "                {\n",
      "                    \"id\": 1210,\n",
      "                    \"text\": \" or\",\n",
      "                    \"logprob\": -1.6181641,\n",
      "                    \"special\": false\n",
      "                },\n",
      "                {\n",
      "                    \"id\": 20535,\n",
      "                    \"text\": \" apple\",\n",
      "                    \"logprob\": -0.02961731,\n",
      "                    \"special\": false\n",
      "                },\n",
      "                {\n",
      "                    \"id\": 1045,\n",
      "                    \"text\": \" c\",\n",
      "                    \"logprob\": -0.00039315224,\n",
      "                    \"special\": false\n",
      "                },\n",
      "                {\n",
      "                    \"id\": 1952,\n",
      "                    \"text\": \"ider\",\n",
      "                    \"logprob\": -2.0384789e-05,\n",
      "                    \"special\": false\n",
      "                },\n",
      "                {\n",
      "                    \"id\": 22143,\n",
      "                    \"text\": \" vine\",\n",
      "                    \"logprob\": -0.18395996,\n",
      "                    \"special\": false\n",
      "                },\n",
      "                {\n",
      "                    \"id\": 5517,\n",
      "                    \"text\": \"gar\",\n",
      "                    \"logprob\": -2.6226044e-06,\n",
      "                    \"special\": false\n",
      "                },\n",
      "                {\n",
      "                    \"id\": 29499,\n",
      "                    \"text\": \")\",\n",
      "                    \"logprob\": -0.10491943,\n",
      "                    \"special\": false\n",
      "                },\n",
      "                {\n",
      "                    \"id\": 1210,\n",
      "                    \"text\": \" or\",\n",
      "                    \"logprob\": -0.040740967,\n",
      "                    \"special\": false\n",
      "                },\n",
      "                {\n",
      "                    \"id\": 24366,\n",
      "                    \"text\": \" lemon\",\n",
      "                    \"logprob\": -0.029281616,\n",
      "                    \"special\": false\n",
      "                },\n",
      "                {\n",
      "                    \"id\": 19110,\n",
      "                    \"text\": \" juice\",\n",
      "                    \"logprob\": -1.6570091e-05,\n",
      "                    \"special\": false\n",
      "                },\n",
      "                {\n",
      "                    \"id\": 781,\n",
      "                    \"text\": \"\\n\",\n",
      "                    \"logprob\": -0.0002465248,\n",
      "                    \"special\": false\n",
      "                },\n",
      "                {\n",
      "                    \"id\": 29501,\n",
      "                    \"text\": \"-\",\n",
      "                    \"logprob\": -3.5762787e-07,\n",
      "                    \"special\": false\n",
      "                },\n",
      "                {\n",
      "                    \"id\": 29473,\n",
      "                    \"text\": \" \",\n",
      "                    \"logprob\": -0.23242188,\n",
      "                    \"special\": false\n",
      "                },\n",
      "                {\n",
      "                    \"id\": 29508,\n",
      "                    \"text\": \"1\",\n",
      "                    \"logprob\": -0.23620605,\n",
      "                    \"special\": false\n",
      "                },\n",
      "                {\n",
      "                    \"id\": 6979,\n",
      "                    \"text\": \" cup\",\n",
      "                    \"logprob\": -0.02494812,\n",
      "                    \"special\": false\n",
      "                },\n",
      "                {\n",
      "                    \"id\": 1070,\n",
      "                    \"text\": \" of\",\n",
      "                    \"logprob\": -0.0060310364,\n",
      "                    \"special\": false\n",
      "                },\n",
      "                {\n",
      "                    \"id\": 6271,\n",
      "                    \"text\": \" oil\",\n",
      "                    \"logprob\": -0.23706055,\n",
      "                    \"special\": false\n",
      "                },\n",
      "                {\n",
      "                    \"id\": 1093,\n",
      "                    \"text\": \" (\",\n",
      "                    \"logprob\": -0.000682354,\n",
      "                    \"special\": false\n",
      "                },\n",
      "                {\n",
      "                    \"id\": 24574,\n",
      "                    \"text\": \"neut\",\n",
      "                    \"logprob\": -1.8837891,\n",
      "                    \"special\": false\n",
      "                },\n",
      "                {\n",
      "                    \"id\": 2418,\n",
      "                    \"text\": \"ral\",\n",
      "                    \"logprob\": -2.2649765e-06,\n",
      "                    \"special\": false\n",
      "                },\n",
      "                {\n",
      "                    \"id\": 6271,\n",
      "                    \"text\": \" oil\",\n",
      "                    \"logprob\": -1.4003906,\n",
      "                    \"special\": false\n",
      "                },\n",
      "                {\n",
      "                    \"id\": 1505,\n",
      "                    \"text\": \" like\",\n",
      "                    \"logprob\": -0.23010254,\n",
      "                    \"special\": false\n",
      "                },\n",
      "                {\n",
      "                    \"id\": 1309,\n",
      "                    \"text\": \" can\",\n",
      "                    \"logprob\": -0.34692383,\n",
      "                    \"special\": false\n",
      "                },\n",
      "                {\n",
      "                    \"id\": 5130,\n",
      "                    \"text\": \"ola\",\n",
      "                    \"logprob\": 0.0,\n",
      "                    \"special\": false\n",
      "                },\n",
      "                {\n",
      "                    \"id\": 1210,\n",
      "                    \"text\": \" or\",\n",
      "                    \"logprob\": -0.29589844,\n",
      "                    \"special\": false\n",
      "                },\n",
      "                {\n",
      "                    \"id\": 10803,\n",
      "                    \"text\": \" veget\",\n",
      "                    \"logprob\": -0.013946533,\n",
      "                    \"special\": false\n",
      "                },\n",
      "                {\n",
      "                    \"id\": 1290,\n",
      "                    \"text\": \"able\",\n",
      "                    \"logprob\": -5.9604645e-07,\n",
      "                    \"special\": false\n",
      "                },\n",
      "                {\n",
      "                    \"id\": 6271,\n",
      "                    \"text\": \" oil\",\n",
      "                    \"logprob\": -0.101623535,\n",
      "                    \"special\": false\n",
      "                },\n",
      "                {\n",
      "                    \"id\": 1539,\n",
      "                    \"text\": \" work\",\n",
      "                    \"logprob\": -1.4501953,\n",
      "                    \"special\": false\n",
      "                },\n",
      "                {\n",
      "                    \"id\": 1930,\n",
      "                    \"text\": \" well\",\n",
      "                    \"logprob\": -0.37280273,\n",
      "                    \"special\": false\n",
      "                },\n",
      "                {\n",
      "                    \"id\": 29499,\n",
      "                    \"text\": \")\",\n",
      "                    \"logprob\": -0.15075684,\n",
      "                    \"special\": false\n",
      "                },\n",
      "                {\n",
      "                    \"id\": 781,\n",
      "                    \"text\": \"\\n\",\n",
      "                    \"logprob\": -0.00015318394,\n",
      "                    \"special\": false\n",
      "                },\n",
      "                {\n",
      "                    \"id\": 29501,\n",
      "                    \"text\": \"-\",\n",
      "                    \"logprob\": -3.0875206e-05,\n",
      "                    \"special\": false\n",
      "                },\n",
      "                {\n",
      "                    \"id\": 22711,\n",
      "                    \"text\": \" Salt\",\n",
      "                    \"logprob\": -0.0028934479,\n",
      "                    \"special\": false\n",
      "                },\n",
      "                {\n",
      "                    \"id\": 29493,\n",
      "                    \"text\": \",\",\n",
      "                    \"logprob\": -0.74853516,\n",
      "                    \"special\": false\n",
      "                },\n",
      "                {\n",
      "                    \"id\": 1066,\n",
      "                    \"text\": \" to\",\n",
      "                    \"logprob\": -0.00022983551,\n",
      "                    \"special\": false\n",
      "                },\n",
      "                {\n",
      "                    \"id\": 9998,\n",
      "                    \"text\": \" taste\",\n",
      "                    \"logprob\": -3.0994415e-05,\n",
      "                    \"special\": false\n",
      "                },\n",
      "                {\n",
      "                    \"id\": 781,\n",
      "                    \"text\": \"\\n\",\n",
      "                    \"logprob\": -0.011230469,\n",
      "                    \"special\": false\n",
      "                },\n",
      "                {\n",
      "                    \"id\": 29501,\n",
      "                    \"text\": \"-\",\n",
      "                    \"logprob\": -1.2568359,\n",
      "                    \"special\": false\n",
      "                },\n",
      "                {\n",
      "                    \"id\": 1135,\n",
      "                    \"text\": \" P\",\n",
      "                    \"logprob\": -0.20288086,\n",
      "                    \"special\": false\n",
      "                },\n",
      "                {\n",
      "                    \"id\": 15549,\n",
      "                    \"text\": \"epper\",\n",
      "                    \"logprob\": -0.13269043,\n",
      "                    \"special\": false\n",
      "                },\n",
      "                {\n",
      "                    \"id\": 29493,\n",
      "                    \"text\": \",\",\n",
      "                    \"logprob\": -2.2888184e-05,\n",
      "                    \"special\": false\n",
      "                },\n",
      "                {\n",
      "                    \"id\": 1066,\n",
      "                    \"text\": \" to\",\n",
      "                    \"logprob\": -0.0026550293,\n",
      "                    \"special\": false\n",
      "                },\n",
      "                {\n",
      "                    \"id\": 9998,\n",
      "                    \"text\": \" taste\",\n",
      "                    \"logprob\": -2.503395e-06,\n",
      "                    \"special\": false\n",
      "                },\n",
      "                {\n",
      "                    \"id\": 781,\n",
      "                    \"text\": \"\\n\",\n",
      "                    \"logprob\": -0.28125,\n",
      "                    \"special\": false\n",
      "                },\n",
      "                {\n",
      "                    \"id\": 781,\n",
      "                    \"text\": \"\\n\",\n",
      "                    \"logprob\": -0.023986816,\n",
      "                    \"special\": false\n",
      "                },\n",
      "                {\n",
      "                    \"id\": 6828,\n",
      "                    \"text\": \"Inst\",\n",
      "                    \"logprob\": -0.2697754,\n",
      "                    \"special\": false\n",
      "                },\n",
      "                {\n",
      "                    \"id\": 9141,\n",
      "                    \"text\": \"ructions\",\n",
      "                    \"logprob\": -1.1920929e-07,\n",
      "                    \"special\": false\n",
      "                },\n",
      "                {\n",
      "                    \"id\": 29515,\n",
      "                    \"text\": \":\",\n",
      "                    \"logprob\": -2.6583672e-05,\n",
      "                    \"special\": false\n",
      "                },\n",
      "                {\n",
      "                    \"id\": 781,\n",
      "                    \"text\": \"\\n\",\n",
      "                    \"logprob\": 0.0,\n",
      "                    \"special\": false\n",
      "                },\n",
      "                {\n",
      "                    \"id\": 29508,\n",
      "                    \"text\": \"1\",\n",
      "                    \"logprob\": -0.0084991455,\n",
      "                    \"special\": false\n",
      "                },\n",
      "                {\n",
      "                    \"id\": 29491,\n",
      "                    \"text\": \".\",\n",
      "                    \"logprob\": -2.3841858e-07,\n",
      "                    \"special\": false\n",
      "                },\n",
      "                {\n",
      "                    \"id\": 20190,\n",
      "                    \"text\": \" Comb\",\n",
      "                    \"logprob\": -3.0800781,\n",
      "                    \"special\": false\n",
      "                },\n",
      "                {\n",
      "                    \"id\": 1241,\n",
      "                    \"text\": \"ine\",\n",
      "                    \"logprob\": -1.4305115e-06,\n",
      "                    \"special\": false\n",
      "                },\n",
      "                {\n",
      "                    \"id\": 1040,\n",
      "                    \"text\": \" the\",\n",
      "                    \"logprob\": -0.029769897,\n",
      "                    \"special\": false\n",
      "                },\n",
      "                {\n",
      "                    \"id\": 9887,\n",
      "                    \"text\": \" egg\",\n",
      "                    \"logprob\": -0.00027370453,\n",
      "                    \"special\": false\n",
      "                },\n",
      "                {\n",
      "                    \"id\": 1105,\n",
      "                    \"text\": \" y\",\n",
      "                    \"logprob\": -1.1920929e-07,\n",
      "                    \"special\": false\n",
      "                },\n",
      "                {\n",
      "                    \"id\": 27995,\n",
      "                    \"text\": \"olk\",\n",
      "                    \"logprob\": -0.0014791489,\n",
      "                    \"special\": false\n",
      "                },\n",
      "                {\n",
      "                    \"id\": 29493,\n",
      "                    \"text\": \",\",\n",
      "                    \"logprob\": -8.1181526e-05,\n",
      "                    \"special\": false\n",
      "                },\n",
      "                {\n",
      "                    \"id\": 2348,\n",
      "                    \"text\": \" must\",\n",
      "                    \"logprob\": -4.2915344e-05,\n",
      "                    \"special\": false\n",
      "                },\n",
      "                {\n",
      "                    \"id\": 1256,\n",
      "                    \"text\": \"ard\",\n",
      "                    \"logprob\": -3.5762787e-07,\n",
      "                    \"special\": false\n",
      "                },\n",
      "                {\n",
      "                    \"id\": 29493,\n",
      "                    \"text\": \",\",\n",
      "                    \"logprob\": -3.7431717e-05,\n",
      "                    \"special\": false\n",
      "                },\n",
      "                {\n",
      "                    \"id\": 1072,\n",
      "                    \"text\": \" and\",\n",
      "                    \"logprob\": -0.0002065897,\n",
      "                    \"special\": false\n",
      "                },\n",
      "                {\n",
      "                    \"id\": 15201,\n",
      "                    \"text\": \" acid\",\n",
      "                    \"logprob\": -1.1796875,\n",
      "                    \"special\": false\n",
      "                },\n",
      "                {\n",
      "                    \"id\": 1093,\n",
      "                    \"text\": \" (\",\n",
      "                    \"logprob\": -0.19958496,\n",
      "                    \"special\": false\n",
      "                },\n",
      "                {\n",
      "                    \"id\": 29496,\n",
      "                    \"text\": \"v\",\n",
      "                    \"logprob\": -0.07800293,\n",
      "                    \"special\": false\n",
      "                },\n",
      "                {\n",
      "                    \"id\": 1241,\n",
      "                    \"text\": \"ine\",\n",
      "                    \"logprob\": -1.0728836e-06,\n",
      "                    \"special\": false\n",
      "                },\n",
      "                {\n",
      "                    \"id\": 5517,\n",
      "                    \"text\": \"gar\",\n",
      "                    \"logprob\": -2.2649765e-06,\n",
      "                    \"special\": false\n",
      "                },\n",
      "                {\n",
      "                    \"id\": 1210,\n",
      "                    \"text\": \" or\",\n",
      "                    \"logprob\": -7.498264e-05,\n",
      "                    \"special\": false\n",
      "                },\n",
      "                {\n",
      "                    \"id\": 24366,\n",
      "                    \"text\": \" lemon\",\n",
      "                    \"logprob\": -9.655952e-06,\n",
      "                    \"special\": false\n",
      "                },\n",
      "                {\n",
      "                    \"id\": 19110,\n",
      "                    \"text\": \" juice\",\n",
      "                    \"logprob\": -2.2888184e-05,\n",
      "                    \"special\": false\n",
      "                },\n",
      "                {\n",
      "                    \"id\": 29499,\n",
      "                    \"text\": \")\",\n",
      "                    \"logprob\": -6.556511e-06,\n",
      "                    \"special\": false\n",
      "                },\n",
      "                {\n",
      "                    \"id\": 1065,\n",
      "                    \"text\": \" in\",\n",
      "                    \"logprob\": -0.00022041798,\n",
      "                    \"special\": false\n",
      "                },\n",
      "                {\n",
      "                    \"id\": 1032,\n",
      "                    \"text\": \" a\",\n",
      "                    \"logprob\": -0.0004515648,\n",
      "                    \"special\": false\n",
      "                },\n",
      "                {\n",
      "                    \"id\": 11080,\n",
      "                    \"text\": \" medium\",\n",
      "                    \"logprob\": -0.8769531,\n",
      "                    \"special\": false\n",
      "                },\n",
      "                {\n",
      "                    \"id\": 29501,\n",
      "                    \"text\": \"-\",\n",
      "                    \"logprob\": -0.6748047,\n",
      "                    \"special\": false\n",
      "                },\n",
      "                {\n",
      "                    \"id\": 21606,\n",
      "                    \"text\": \"sized\",\n",
      "                    \"logprob\": -0.0032024384,\n",
      "                    \"special\": false\n",
      "                },\n",
      "                {\n",
      "                    \"id\": 14262,\n",
      "                    \"text\": \" bowl\",\n",
      "                    \"logprob\": -0.23828125,\n",
      "                    \"special\": false\n",
      "                },\n",
      "                {\n",
      "                    \"id\": 29491,\n",
      "                    \"text\": \".\",\n",
      "                    \"logprob\": -0.020965576,\n",
      "                    \"special\": false\n",
      "                },\n",
      "                {\n",
      "                    \"id\": 1711,\n",
      "                    \"text\": \" Wh\",\n",
      "                    \"logprob\": -0.31958008,\n",
      "                    \"special\": false\n",
      "                },\n",
      "                {\n",
      "                    \"id\": 3374,\n",
      "                    \"text\": \"isk\",\n",
      "                    \"logprob\": -2.026558e-06,\n",
      "                    \"special\": false\n",
      "                },\n",
      "                {\n",
      "                    \"id\": 2764,\n",
      "                    \"text\": \" until\",\n",
      "                    \"logprob\": -0.2944336,\n",
      "                    \"special\": false\n",
      "                },\n",
      "                {\n",
      "                    \"id\": 1930,\n",
      "                    \"text\": \" well\",\n",
      "                    \"logprob\": -2.4648438,\n",
      "                    \"special\": false\n",
      "                },\n",
      "                {\n",
      "                    \"id\": 10605,\n",
      "                    \"text\": \" combined\",\n",
      "                    \"logprob\": -0.15722656,\n",
      "                    \"special\": false\n",
      "                },\n",
      "                {\n",
      "                    \"id\": 29491,\n",
      "                    \"text\": \".\",\n",
      "                    \"logprob\": -0.043945312,\n",
      "                    \"special\": false\n",
      "                },\n",
      "                {\n",
      "                    \"id\": 781,\n",
      "                    \"text\": \"\\n\",\n",
      "                    \"logprob\": -0.0049438477,\n",
      "                    \"special\": false\n",
      "                },\n",
      "                {\n",
      "                    \"id\": 29518,\n",
      "                    \"text\": \"2\",\n",
      "                    \"logprob\": -0.17224121,\n",
      "                    \"special\": false\n",
      "                },\n",
      "                {\n",
      "                    \"id\": 29491,\n",
      "                    \"text\": \".\",\n",
      "                    \"logprob\": 0.0,\n",
      "                    \"special\": false\n",
      "                },\n",
      "                {\n",
      "                    \"id\": 7811,\n",
      "                    \"text\": \" Start\",\n",
      "                    \"logprob\": -0.6386719,\n",
      "                    \"special\": false\n",
      "                },\n",
      "                {\n",
      "                    \"id\": 9601,\n",
      "                    \"text\": \" adding\",\n",
      "                    \"logprob\": -0.17810059,\n",
      "                    \"special\": false\n",
      "                },\n",
      "                {\n",
      "                    \"id\": 1040,\n",
      "                    \"text\": \" the\",\n",
      "                    \"logprob\": -0.30541992,\n",
      "                    \"special\": false\n",
      "                },\n",
      "                {\n",
      "                    \"id\": 6271,\n",
      "                    \"text\": \" oil\",\n",
      "                    \"logprob\": -2.026558e-06,\n",
      "                    \"special\": false\n",
      "                },\n",
      "                {\n",
      "                    \"id\": 1983,\n",
      "                    \"text\": \" very\",\n",
      "                    \"logprob\": -0.17602539,\n",
      "                    \"special\": false\n",
      "                },\n",
      "                {\n",
      "                    \"id\": 7928,\n",
      "                    \"text\": \" slowly\",\n",
      "                    \"logprob\": -0.01977539,\n",
      "                    \"special\": false\n",
      "                },\n",
      "                {\n",
      "                    \"id\": 29493,\n",
      "                    \"text\": \",\",\n",
      "                    \"logprob\": -0.12902832,\n",
      "                    \"special\": false\n",
      "                },\n",
      "                {\n",
      "                    \"id\": 6856,\n",
      "                    \"text\": \" drop\",\n",
      "                    \"logprob\": -0.3894043,\n",
      "                    \"special\": false\n",
      "                },\n",
      "                {\n",
      "                    \"id\": 1254,\n",
      "                    \"text\": \" by\",\n",
      "                    \"logprob\": -0.0002465248,\n",
      "                    \"special\": false\n",
      "                },\n",
      "                {\n",
      "                    \"id\": 6856,\n",
      "                    \"text\": \" drop\",\n",
      "                    \"logprob\": -3.8027763e-05,\n",
      "                    \"special\": false\n",
      "                },\n",
      "                {\n",
      "                    \"id\": 29493,\n",
      "                    \"text\": \",\",\n",
      "                    \"logprob\": -0.125,\n",
      "                    \"special\": false\n",
      "                },\n",
      "                {\n",
      "                    \"id\": 2080,\n",
      "                    \"text\": \" while\",\n",
      "                    \"logprob\": -0.08129883,\n",
      "                    \"special\": false\n",
      "                },\n",
      "                {\n",
      "                    \"id\": 28156,\n",
      "                    \"text\": \" continually\",\n",
      "                    \"logprob\": -3.0429688,\n",
      "                    \"special\": false\n",
      "                },\n",
      "                {\n",
      "                    \"id\": 27666,\n",
      "                    \"text\": \" whisk\",\n",
      "                    \"logprob\": -0.0005917549,\n",
      "                    \"special\": false\n",
      "                },\n",
      "                {\n",
      "                    \"id\": 1056,\n",
      "                    \"text\": \"ing\",\n",
      "                    \"logprob\": 0.0,\n",
      "                    \"special\": false\n",
      "                },\n",
      "                {\n",
      "                    \"id\": 1040,\n",
      "                    \"text\": \" the\",\n",
      "                    \"logprob\": -0.17980957,\n",
      "                    \"special\": false\n",
      "                },\n",
      "                {\n",
      "                    \"id\": 17000,\n",
      "                    \"text\": \" mixture\",\n",
      "                    \"logprob\": -0.0058670044,\n",
      "                    \"special\": false\n",
      "                },\n",
      "                {\n",
      "                    \"id\": 29491,\n",
      "                    \"text\": \".\",\n",
      "                    \"logprob\": -0.005016327,\n",
      "                    \"special\": false\n",
      "                },\n",
      "                {\n",
      "                    \"id\": 1619,\n",
      "                    \"text\": \" This\",\n",
      "                    \"logprob\": -0.17333984,\n",
      "                    \"special\": false\n",
      "                },\n",
      "                {\n",
      "                    \"id\": 2527,\n",
      "                    \"text\": \" process\",\n",
      "                    \"logprob\": -2.5175781,\n",
      "                    \"special\": false\n",
      "                },\n",
      "                {\n",
      "                    \"id\": 1117,\n",
      "                    \"text\": \" is\",\n",
      "                    \"logprob\": -0.028778076,\n",
      "                    \"special\": false\n",
      "                },\n",
      "                {\n",
      "                    \"id\": 13808,\n",
      "                    \"text\": \" crucial\",\n",
      "                    \"logprob\": -1.2695312,\n",
      "                    \"special\": false\n",
      "                },\n",
      "                {\n",
      "                    \"id\": 1122,\n",
      "                    \"text\": \" for\",\n",
      "                    \"logprob\": -1.2050781,\n",
      "                    \"special\": false\n",
      "                },\n",
      "                {\n",
      "                    \"id\": 8371,\n",
      "                    \"text\": \" keeping\",\n",
      "                    \"logprob\": -5.7578125,\n",
      "                    \"special\": false\n",
      "                },\n",
      "                {\n",
      "                    \"id\": 1040,\n",
      "                    \"text\": \" the\",\n",
      "                    \"logprob\": -0.0015153885,\n",
      "                    \"special\": false\n",
      "                },\n",
      "                {\n",
      "                    \"id\": 16810,\n",
      "                    \"text\": \" sauce\",\n",
      "                    \"logprob\": -1.671875,\n",
      "                    \"special\": false\n",
      "                },\n",
      "                {\n",
      "                    \"id\": 1245,\n",
      "                    \"text\": \" from\",\n",
      "                    \"logprob\": -1.8691406,\n",
      "                    \"special\": false\n",
      "                },\n",
      "                {\n",
      "                    \"id\": 4707,\n",
      "                    \"text\": \" separ\",\n",
      "                    \"logprob\": -0.4008789,\n",
      "                    \"special\": false\n",
      "                },\n",
      "                {\n",
      "                    \"id\": 1845,\n",
      "                    \"text\": \"ating\",\n",
      "                    \"logprob\": -1.1920929e-07,\n",
      "                    \"special\": false\n",
      "                },\n",
      "                {\n",
      "                    \"id\": 29491,\n",
      "                    \"text\": \".\",\n",
      "                    \"logprob\": -0.004348755,\n",
      "                    \"special\": false\n",
      "                },\n",
      "                {\n",
      "                    \"id\": 781,\n",
      "                    \"text\": \"\\n\",\n",
      "                    \"logprob\": -0.06756592,\n",
      "                    \"special\": false\n",
      "                },\n",
      "                {\n",
      "                    \"id\": 29538,\n",
      "                    \"text\": \"3\",\n",
      "                    \"logprob\": -0.0016412735,\n",
      "                    \"special\": false\n",
      "                },\n",
      "                {\n",
      "                    \"id\": 29491,\n",
      "                    \"text\": \".\",\n",
      "                    \"logprob\": 0.0,\n",
      "                    \"special\": false\n",
      "                },\n",
      "                {\n",
      "                    \"id\": 6481,\n",
      "                    \"text\": \" Once\",\n",
      "                    \"logprob\": -0.13720703,\n",
      "                    \"special\": false\n",
      "                },\n",
      "                {\n",
      "                    \"id\": 1040,\n",
      "                    \"text\": \" the\",\n",
      "                    \"logprob\": -0.10217285,\n",
      "                    \"special\": false\n",
      "                },\n",
      "                {\n",
      "                    \"id\": 16810,\n",
      "                    \"text\": \" sauce\",\n",
      "                    \"logprob\": -1.265625,\n",
      "                    \"special\": false\n",
      "                },\n",
      "                {\n",
      "                    \"id\": 11426,\n",
      "                    \"text\": \" begins\",\n",
      "                    \"logprob\": -1.3486328,\n",
      "                    \"special\": false\n",
      "                },\n",
      "                {\n",
      "                    \"id\": 1066,\n",
      "                    \"text\": \" to\",\n",
      "                    \"logprob\": -2.4914742e-05,\n",
      "                    \"special\": false\n",
      "                },\n",
      "                {\n",
      "                    \"id\": 7699,\n",
      "                    \"text\": \" thick\",\n",
      "                    \"logprob\": -0.0048103333,\n",
      "                    \"special\": false\n",
      "                },\n",
      "                {\n",
      "                    \"id\": 1037,\n",
      "                    \"text\": \"en\",\n",
      "                    \"logprob\": -1.1920929e-06,\n",
      "                    \"special\": false\n",
      "                },\n",
      "                {\n",
      "                    \"id\": 29493,\n",
      "                    \"text\": \",\",\n",
      "                    \"logprob\": -0.1083374,\n",
      "                    \"special\": false\n",
      "                },\n",
      "                {\n",
      "                    \"id\": 1136,\n",
      "                    \"text\": \" you\",\n",
      "                    \"logprob\": -0.00024938583,\n",
      "                    \"special\": false\n",
      "                },\n",
      "                {\n",
      "                    \"id\": 1309,\n",
      "                    \"text\": \" can\",\n",
      "                    \"logprob\": -7.534027e-05,\n",
      "                    \"special\": false\n",
      "                },\n",
      "                {\n",
      "                    \"id\": 1917,\n",
      "                    \"text\": \" start\",\n",
      "                    \"logprob\": -1.3759766,\n",
      "                    \"special\": false\n",
      "                },\n",
      "                {\n",
      "                    \"id\": 9601,\n",
      "                    \"text\": \" adding\",\n",
      "                    \"logprob\": -0.1763916,\n",
      "                    \"special\": false\n",
      "                },\n",
      "                {\n",
      "                    \"id\": 1040,\n",
      "                    \"text\": \" the\",\n",
      "                    \"logprob\": -0.0076942444,\n",
      "                    \"special\": false\n",
      "                },\n",
      "                {\n",
      "                    \"id\": 6271,\n",
      "                    \"text\": \" oil\",\n",
      "                    \"logprob\": -1.347065e-05,\n",
      "                    \"special\": false\n",
      "                },\n",
      "                {\n",
      "                    \"id\": 1065,\n",
      "                    \"text\": \" in\",\n",
      "                    \"logprob\": -0.37817383,\n",
      "                    \"special\": false\n",
      "                },\n",
      "                {\n",
      "                    \"id\": 1032,\n",
      "                    \"text\": \" a\",\n",
      "                    \"logprob\": -0.000644207,\n",
      "                    \"special\": false\n",
      "                },\n",
      "                {\n",
      "                    \"id\": 9794,\n",
      "                    \"text\": \" thin\",\n",
      "                    \"logprob\": -0.30981445,\n",
      "                    \"special\": false\n",
      "                },\n",
      "                {\n",
      "                    \"id\": 29493,\n",
      "                    \"text\": \",\",\n",
      "                    \"logprob\": -0.86328125,\n",
      "                    \"special\": false\n",
      "                },\n",
      "                {\n",
      "                    \"id\": 15657,\n",
      "                    \"text\": \" steady\",\n",
      "                    \"logprob\": -0.0055351257,\n",
      "                    \"special\": false\n",
      "                },\n",
      "                {\n",
      "                    \"id\": 5222,\n",
      "                    \"text\": \" stream\",\n",
      "                    \"logprob\": -0.00017797947,\n",
      "                    \"special\": false\n",
      "                },\n",
      "                {\n",
      "                    \"id\": 2080,\n",
      "                    \"text\": \" while\",\n",
      "                    \"logprob\": -0.94189453,\n",
      "                    \"special\": false\n",
      "                },\n",
      "                {\n",
      "                    \"id\": 16085,\n",
      "                    \"text\": \" continuing\",\n",
      "                    \"logprob\": -0.2956543,\n",
      "                    \"special\": false\n",
      "                },\n",
      "                {\n",
      "                    \"id\": 1066,\n",
      "                    \"text\": \" to\",\n",
      "                    \"logprob\": -5.9604645e-06,\n",
      "                    \"special\": false\n",
      "                },\n",
      "                {\n",
      "                    \"id\": 27666,\n",
      "                    \"text\": \" whisk\",\n",
      "                    \"logprob\": -0.00027680397,\n",
      "                    \"special\": false\n",
      "                },\n",
      "                {\n",
      "                    \"id\": 29491,\n",
      "                    \"text\": \".\",\n",
      "                    \"logprob\": -0.109191895,\n",
      "                    \"special\": false\n",
      "                },\n",
      "                {\n",
      "                    \"id\": 781,\n",
      "                    \"text\": \"\\n\",\n",
      "                    \"logprob\": -0.3203125,\n",
      "                    \"special\": false\n",
      "                },\n",
      "                {\n",
      "                    \"id\": 29549,\n",
      "                    \"text\": \"4\",\n",
      "                    \"logprob\": -0.0006928444,\n",
      "                    \"special\": false\n",
      "                },\n",
      "                {\n",
      "                    \"id\": 29491,\n",
      "                    \"text\": \".\",\n",
      "                    \"logprob\": 0.0,\n",
      "                    \"special\": false\n",
      "                },\n",
      "                {\n",
      "                    \"id\": 6481,\n",
      "                    \"text\": \" Once\",\n",
      "                    \"logprob\": -2.3378906,\n",
      "                    \"special\": false\n",
      "                },\n",
      "                {\n",
      "                    \"id\": 1312,\n",
      "                    \"text\": \" all\",\n",
      "                    \"logprob\": -0.006729126,\n",
      "                    \"special\": false\n",
      "                },\n",
      "                {\n",
      "                    \"id\": 1040,\n",
      "                    \"text\": \" the\",\n",
      "                    \"logprob\": -0.071899414,\n",
      "                    \"special\": false\n",
      "                },\n",
      "                {\n",
      "                    \"id\": 6271,\n",
      "                    \"text\": \" oil\",\n",
      "                    \"logprob\": -2.026558e-06,\n",
      "                    \"special\": false\n",
      "                },\n",
      "                {\n",
      "                    \"id\": 1117,\n",
      "                    \"text\": \" is\",\n",
      "                    \"logprob\": -1.0332031,\n",
      "                    \"special\": false\n",
      "                },\n",
      "                {\n",
      "                    \"id\": 24567,\n",
      "                    \"text\": \" incorporated\",\n",
      "                    \"logprob\": -0.09729004,\n",
      "                    \"special\": false\n",
      "                },\n",
      "                {\n",
      "                    \"id\": 29493,\n",
      "                    \"text\": \",\",\n",
      "                    \"logprob\": -0.21398926,\n",
      "                    \"special\": false\n",
      "                },\n",
      "                {\n",
      "                    \"id\": 4070,\n",
      "                    \"text\": \" season\",\n",
      "                    \"logprob\": -0.20458984,\n",
      "                    \"special\": false\n",
      "                },\n",
      "                {\n",
      "                    \"id\": 1163,\n",
      "                    \"text\": \" with\",\n",
      "                    \"logprob\": -0.4609375,\n",
      "                    \"special\": false\n",
      "                },\n",
      "                {\n",
      "                    \"id\": 10453,\n",
      "                    \"text\": \" salt\",\n",
      "                    \"logprob\": -9.7990036e-05,\n",
      "                    \"special\": false\n",
      "                },\n",
      "                {\n",
      "                    \"id\": 1072,\n",
      "                    \"text\": \" and\",\n",
      "                    \"logprob\": -0.00018167496,\n",
      "                    \"special\": false\n",
      "                },\n",
      "                {\n",
      "                    \"id\": 19850,\n",
      "                    \"text\": \" pepper\",\n",
      "                    \"logprob\": -5.865097e-05,\n",
      "                    \"special\": false\n",
      "                },\n",
      "                {\n",
      "                    \"id\": 1066,\n",
      "                    \"text\": \" to\",\n",
      "                    \"logprob\": -0.029281616,\n",
      "                    \"special\": false\n",
      "                },\n",
      "                {\n",
      "                    \"id\": 9998,\n",
      "                    \"text\": \" taste\",\n",
      "                    \"logprob\": -0.0001938343,\n",
      "                    \"special\": false\n",
      "                },\n",
      "                {\n",
      "                    \"id\": 29491,\n",
      "                    \"text\": \".\",\n",
      "                    \"logprob\": -0.0012807846,\n",
      "                    \"special\": false\n",
      "                },\n",
      "                {\n",
      "                    \"id\": 781,\n",
      "                    \"text\": \"\\n\",\n",
      "                    \"logprob\": -0.10656738,\n",
      "                    \"special\": false\n",
      "                },\n",
      "                {\n",
      "                    \"id\": 29550,\n",
      "                    \"text\": \"5\",\n",
      "                    \"logprob\": -0.14904785,\n",
      "                    \"special\": false\n",
      "                },\n",
      "                {\n",
      "                    \"id\": 29491,\n",
      "                    \"text\": \".\",\n",
      "                    \"logprob\": -1.1920929e-07,\n",
      "                    \"special\": false\n",
      "                },\n",
      "                {\n",
      "                    \"id\": 1815,\n",
      "                    \"text\": \" If\",\n",
      "                    \"logprob\": -0.73291016,\n",
      "                    \"special\": false\n",
      "                },\n",
      "                {\n",
      "                    \"id\": 1040,\n",
      "                    \"text\": \" the\",\n",
      "                    \"logprob\": -0.06774902,\n",
      "                    \"special\": false\n",
      "                },\n",
      "                {\n",
      "                    \"id\": 1761,\n",
      "                    \"text\": \" may\",\n",
      "                    \"logprob\": -0.049743652,\n",
      "                    \"special\": false\n",
      "                },\n",
      "                {\n",
      "                    \"id\": 7904,\n",
      "                    \"text\": \"onna\",\n",
      "                    \"logprob\": -2.026558e-06,\n",
      "                    \"special\": false\n",
      "                }\n",
      "            ]\n",
      "        }\n",
      "    }\n",
      "]\n"
     ]
    }
   ],
   "source": [
    "print(json.dumps(predictor.predict(sample_payload), indent=4))"
   ]
  },
  {
   "cell_type": "markdown",
   "metadata": {},
   "source": [
    "For JumpStart model, `FMeval`  gets payload and output formats from the description of the models, this make it easier to setup the runners. "
   ]
  },
  {
   "cell_type": "code",
   "execution_count": 8,
   "metadata": {},
   "outputs": [],
   "source": [
    "model_runner = JumpStartModelRunner(\n",
    "    endpoint_name=endpoint_name,\n",
    "    model_id=model_id,\n",
    "    model_version=model_version,\n",
    ")"
   ]
  },
  {
   "cell_type": "markdown",
   "metadata": {},
   "source": [
    "Lets test our model runner. You should build the prompt according to the expected input signature of the model"
   ]
  },
  {
   "cell_type": "code",
   "execution_count": 9,
   "metadata": {},
   "outputs": [
    {
     "data": {
      "text/plain": [
       "('What\\'s the tallest building in the world? Well, that answer\\'s actually pretty tricky depending on your definition of \"tallest.\"\\n\\nWhen the Burj Khalifa in Dubai, UAE, first opened in 2010, it dwarfed every other construction, with 163 floors and 828 meters (2,700 feet) in height. (The shaft of the building is 828 meters to the very pointy top, but most buildings\\' height measurements only account for the first 153 meters from the ground to the top-most part of the roof.)\\n\\nSadly, the United Arab Emirates seems to have a monopoly on the world\\'s tallest buildings, keeping four out of the top five places. (The rest of the top 10 is a list of just-shy-of-tallest: One World Trade Center in New York is in 6th place, 85 Skyscraper in Taipei is in 5th, the Makkah Royal Clock Tower in Mecca is 3rd, and CTF Finans Tower in Guangzhou, China, is 4th.)\\n\\nBut the real',\n",
       " -23.06406305725)"
      ]
     },
     "execution_count": 9,
     "metadata": {},
     "output_type": "execute_result"
    }
   ],
   "source": [
    "model_runner.predict(prompt=\"What's the tallest building in the world?\")"
   ]
  },
  {
   "cell_type": "markdown",
   "metadata": {},
   "source": [
    "### Data\n",
    "We first check that the dataset file to be used by the evaluation is present, and then create a `DataConfig` object for each dataset. Each dataset has been prepared to evaluate one of the three categories, i.e., `Summarization`, `Factual Knowledge`, and `Toxicity`. More categories can be defined too."
   ]
  },
  {
   "cell_type": "code",
   "execution_count": 10,
   "metadata": {},
   "outputs": [],
   "source": [
    "dataset_path = Path(\"datasets\")\n",
    "\n",
    "dataset_uri_summarization = dataset_path / \"gigaword_sample.jsonl\"\n",
    "if not dataset_uri_summarization.is_file():\n",
    "    print(\"ERROR - please make sure the file, gigaword_sample.jsonl, exists.\")\n",
    "\n",
    "data_config_summarization = DataConfig(\n",
    "    dataset_name=\"gigaword_sample\",\n",
    "    dataset_uri=dataset_uri_summarization.as_posix(),\n",
    "    dataset_mime_type=MIME_TYPE_JSONLINES,\n",
    "    model_input_location=\"document\",\n",
    "    target_output_location=\"summary\",\n",
    ")\n",
    "\n",
    "dataset_uri_factual_knowledge = dataset_path / \"trex_sample.jsonl\"\n",
    "if not dataset_uri_factual_knowledge.is_file():\n",
    "    print(\"ERROR - please make sure the file, trex_sample.jsonl, exists.\")\n",
    "\n",
    "data_config_factual_knowledge = DataConfig(\n",
    "    dataset_name=\"trex_sample\",\n",
    "    dataset_uri=dataset_uri_factual_knowledge.as_posix(),\n",
    "    dataset_mime_type=MIME_TYPE_JSONLINES,\n",
    "    model_input_location=\"question\",\n",
    "    target_output_location=\"answers\",\n",
    ")\n",
    "\n",
    "dataset_uri_toxicity = dataset_path / \"real_toxicity_sample.jsonl\"\n",
    "if not dataset_uri_toxicity.is_file():\n",
    "    print(\"ERROR - please make sure the file, real_toxicity_sample.jsonl, exists.\")\n",
    "\n",
    "data_config_toxicity = DataConfig(\n",
    "    dataset_name=\"toxicity_sample\",\n",
    "    dataset_uri=dataset_uri_toxicity.as_posix(),\n",
    "    dataset_mime_type=MIME_TYPE_JSONLINES,\n",
    "    model_input_location=\"prompt\",\n",
    ")"
   ]
  },
  {
   "cell_type": "markdown",
   "metadata": {},
   "source": [
    "### Evaluation sets\n",
    "We can now create an evaluation set for each algorithm we want to use in our test.\n",
    "\n",
    "More information about metrics and evaluation sets can be found in the paper [\"Evaluating Large Language Models with <i>fmeval</i>\"](https://arxiv.org/pdf/2407.12872)"
   ]
  },
  {
   "cell_type": "markdown",
   "metadata": {},
   "source": [
    "### Summarization\n",
    "\n",
    "For the `Summarization` evaluation set, let's replace with your own prompt according to the input signature identified above. `FMeval` uses `$model_input` as placeholder to get the input from your evaluation dataset."
   ]
  },
  {
   "cell_type": "code",
   "execution_count": 11,
   "metadata": {},
   "outputs": [
    {
     "name": "stderr",
     "output_type": "stream",
     "text": [
      "[nltk_data] Downloading package wordnet to /home/sagemaker-\n",
      "[nltk_data]     user/nltk_data...\n",
      "[nltk_data]   Package wordnet is already up-to-date!\n",
      "[nltk_data] Downloading package punkt to /home/sagemaker-\n",
      "[nltk_data]     user/nltk_data...\n",
      "[nltk_data]   Package punkt is already up-to-date!\n",
      "[nltk_data] Downloading package punkt_tab to /home/sagemaker-\n",
      "[nltk_data]     user/nltk_data...\n",
      "[nltk_data]   Package punkt_tab is already up-to-date!\n",
      "[nltk_data] Downloading package omw-1.4 to /home/sagemaker-\n",
      "[nltk_data]     user/nltk_data...\n",
      "[nltk_data]   Package omw-1.4 is already up-to-date!\n"
     ]
    }
   ],
   "source": [
    "summarization_prompt = \"Summarize the following text in one sentence: $model_input\"\n",
    "\n",
    "summarization_accuracy = SummarizationAccuracy()\n",
    "\n",
    "evaluation_set_summarization = EvaluationSet(\n",
    "    data_config_summarization,\n",
    "    summarization_accuracy,\n",
    "    summarization_prompt,\n",
    ")"
   ]
  },
  {
   "cell_type": "markdown",
   "metadata": {},
   "source": [
    "### Toxicity\n",
    "\n",
    "Lets do the same for Toxicity."
   ]
  },
  {
   "cell_type": "code",
   "execution_count": 12,
   "metadata": {},
   "outputs": [],
   "source": [
    "toxicity_prompt = \"Complete the following sentence: $model_input\"\n",
    "\n",
    "toxicity = Toxicity(ToxicityConfig(\"detoxify\"))\n",
    "\n",
    "evaluation_set_toxicity = EvaluationSet(\n",
    "    data_config_toxicity,\n",
    "    toxicity,\n",
    "    toxicity_prompt,\n",
    ")"
   ]
  },
  {
   "cell_type": "markdown",
   "metadata": {},
   "source": [
    "### Factual Knowledge\n",
    "\n",
    "And again for Factual Knowledge."
   ]
  },
  {
   "cell_type": "code",
   "execution_count": 13,
   "metadata": {},
   "outputs": [],
   "source": [
    "factual_knowledge_prompt = \"$model_input\"\n",
    "\n",
    "factual_knowledge = FactualKnowledge(\n",
    "    FactualKnowledgeConfig(target_output_delimiter=\"<OR>\")\n",
    ")\n",
    "\n",
    "evaluation_set_factual = EvaluationSet(\n",
    "    data_config_factual_knowledge,\n",
    "    factual_knowledge,\n",
    "    factual_knowledge_prompt,\n",
    ")"
   ]
  },
  {
   "cell_type": "markdown",
   "metadata": {},
   "source": [
    "Group all evaluations"
   ]
  },
  {
   "cell_type": "code",
   "execution_count": 14,
   "metadata": {},
   "outputs": [],
   "source": [
    "evaluation_list = [\n",
    "    evaluation_set_summarization,\n",
    "    evaluation_set_factual,\n",
    "    evaluation_set_toxicity,\n",
    "]"
   ]
  },
  {
   "cell_type": "markdown",
   "metadata": {},
   "source": [
    "## Run evaluation\n",
    "\n",
    "We setup the MLflow experiment used to track the evaluations.\n",
    "We will then create a new run for each model, and run all the evaluation for that model within that run, so that the metrics will all appear together.  "
   ]
  },
  {
   "cell_type": "markdown",
   "metadata": {},
   "source": [
    "We'll use the `model_id` as run name to make it easier to identify this run as part of the larger experiment, and run the evaluation using the `run_evaluation_sets()` defined in [utils.py](utils.py#20)."
   ]
  },
  {
   "cell_type": "code",
   "execution_count": 15,
   "metadata": {},
   "outputs": [],
   "source": [
    "run_name = f\"{model_id}\""
   ]
  },
  {
   "cell_type": "code",
   "execution_count": 16,
   "metadata": {},
   "outputs": [],
   "source": [
    "experiment_name = \"fmeval-mlflow-simple-runs\"\n",
    "experiment = mlflow.set_experiment(experiment_name)"
   ]
  },
  {
   "cell_type": "code",
   "execution_count": 17,
   "metadata": {},
   "outputs": [
    {
     "name": "stderr",
     "output_type": "stream",
     "text": [
      "2025-03-29 23:20:22,345\tINFO worker.py:1812 -- Started a local Ray instance. View the dashboard at \u001b[1m\u001b[32mhttp://127.0.0.1:8265 \u001b[39m\u001b[22m\n",
      "[nltk_data] Downloading package wordnet to /home/sagemaker-\n",
      "[nltk_data]     user/nltk_data...\n",
      "[nltk_data]   Package wordnet is already up-to-date!\n",
      "[nltk_data] Downloading package punkt to /home/sagemaker-\n",
      "[nltk_data]     user/nltk_data...\n",
      "[nltk_data]   Package punkt is already up-to-date!\n",
      "[nltk_data] Downloading package punkt_tab to /home/sagemaker-\n",
      "[nltk_data]     user/nltk_data...\n",
      "[nltk_data]   Package punkt_tab is already up-to-date!\n",
      "[nltk_data] Downloading package omw-1.4 to /home/sagemaker-\n",
      "[nltk_data]     user/nltk_data...\n",
      "[nltk_data]   Package omw-1.4 is already up-to-date!\n",
      "2025-03-29 23:20:24,213\tINFO streaming_executor.py:108 -- Starting execution of Dataset. Full logs are in /tmp/ray/session_2025-03-29_23-20-21_071722_922/logs/ray-data\n",
      "2025-03-29 23:20:24,213\tINFO streaming_executor.py:109 -- Execution plan of Dataset: InputDataBuffer[Input] -> TaskPoolMapOperator[ReadCustomJSON] -> AggregateNumRows[AggregateNumRows]\n"
     ]
    },
    {
     "data": {
      "application/vnd.jupyter.widget-view+json": {
       "model_id": "8d0d08d186bf4d60ac90062eea477212",
       "version_major": 2,
       "version_minor": 0
      },
      "text/plain": [
       "Running 0: 0.00 row [00:00, ? row/s]"
      ]
     },
     "metadata": {},
     "output_type": "display_data"
    },
    {
     "data": {
      "application/vnd.jupyter.widget-view+json": {
       "model_id": "a7cd7301b4e9428f82a5bbdc62faed96",
       "version_major": 2,
       "version_minor": 0
      },
      "text/plain": [
       "- ReadCustomJSON->SplitBlocks(96) 1: 0.00 row [00:00, ? row/s]"
      ]
     },
     "metadata": {},
     "output_type": "display_data"
    },
    {
     "data": {
      "application/vnd.jupyter.widget-view+json": {
       "model_id": "102d952e867e4115994b594f266cb0b2",
       "version_major": 2,
       "version_minor": 0
      },
      "text/plain": [
       "- AggregateNumRows 2: 0.00 row [00:00, ? row/s]"
      ]
     },
     "metadata": {},
     "output_type": "display_data"
    },
    {
     "name": "stderr",
     "output_type": "stream",
     "text": [
      "2025-03-29 23:20:24,905\tINFO streaming_executor.py:108 -- Starting execution of Dataset. Full logs are in /tmp/ray/session_2025-03-29_23-20-21_071722_922/logs/ray-data\n",
      "2025-03-29 23:20:24,905\tINFO streaming_executor.py:109 -- Execution plan of Dataset: InputDataBuffer[Input] -> TaskPoolMapOperator[ReadCustomJSON]\n"
     ]
    },
    {
     "data": {
      "application/vnd.jupyter.widget-view+json": {
       "model_id": "f0a3516fd6984bfb843aeafe1cc5fadd",
       "version_major": 2,
       "version_minor": 0
      },
      "text/plain": [
       "Running 0: 0.00 row [00:00, ? row/s]"
      ]
     },
     "metadata": {},
     "output_type": "display_data"
    },
    {
     "data": {
      "application/vnd.jupyter.widget-view+json": {
       "model_id": "9f7619a2423b45eaa4d692966bf7f512",
       "version_major": 2,
       "version_minor": 0
      },
      "text/plain": [
       "- ReadCustomJSON->SplitBlocks(96) 1: 0.00 row [00:00, ? row/s]"
      ]
     },
     "metadata": {},
     "output_type": "display_data"
    },
    {
     "name": "stderr",
     "output_type": "stream",
     "text": [
      "2025-03-29 23:20:25,022\tINFO streaming_executor.py:108 -- Starting execution of Dataset. Full logs are in /tmp/ray/session_2025-03-29_23-20-21_071722_922/logs/ray-data\n",
      "2025-03-29 23:20:25,022\tINFO streaming_executor.py:109 -- Execution plan of Dataset: InputDataBuffer[Input] -> AllToAllOperator[Repartition]\n"
     ]
    },
    {
     "data": {
      "application/vnd.jupyter.widget-view+json": {
       "model_id": "e275c0378cbb4fcc8d8c1b060210db92",
       "version_major": 2,
       "version_minor": 0
      },
      "text/plain": [
       "Running 0: 0.00 row [00:00, ? row/s]"
      ]
     },
     "metadata": {},
     "output_type": "display_data"
    },
    {
     "data": {
      "application/vnd.jupyter.widget-view+json": {
       "model_id": "b84d24173a794d8fb733e696bc305d5c",
       "version_major": 2,
       "version_minor": 0
      },
      "text/plain": [
       "- Repartition 1: 0.00 row [00:00, ? row/s]"
      ]
     },
     "metadata": {},
     "output_type": "display_data"
    },
    {
     "data": {
      "application/vnd.jupyter.widget-view+json": {
       "model_id": "25a00c6cf355454f99acf11c92c88d4f",
       "version_major": 2,
       "version_minor": 0
      },
      "text/plain": [
       "Split Repartition 2:   0%|          | 0.00/1.00 [00:00<?, ? row/s]"
      ]
     },
     "metadata": {},
     "output_type": "display_data"
    },
    {
     "data": {
      "text/html": [
       "<pre style=\"white-space:pre;overflow-x:auto;line-height:normal;font-family:Menlo,'DejaVu Sans Mono',consolas,'Courier New',monospace\"><span style=\"color: #7fbfbf; text-decoration-color: #7fbfbf\">[03/29/25 23:20:25] </span><span style=\"color: #0069ff; text-decoration-color: #0069ff; font-weight: bold\">INFO    </span> Loading dataset gigaword_sample took <span style=\"color: #008080; text-decoration-color: #008080; font-weight: bold\">2.23</span> seconds.                     <a href=\"file:///opt/conda/lib/python3.11/site-packages/fmeval/perf_util.py\" target=\"_blank\"><span style=\"color: #7f7f7f; text-decoration-color: #7f7f7f\">perf_util.py</span></a><span style=\"color: #7f7f7f; text-decoration-color: #7f7f7f\">:</span><a href=\"file:///opt/conda/lib/python3.11/site-packages/fmeval/perf_util.py#18\" target=\"_blank\"><span style=\"color: #7f7f7f; text-decoration-color: #7f7f7f\">18</span></a>\n",
       "</pre>\n"
      ],
      "text/plain": [
       "\u001b[2;36m[03/29/25 23:20:25]\u001b[0m\u001b[2;36m \u001b[0m\u001b[1;38;2;0;105;255mINFO    \u001b[0m Loading dataset gigaword_sample took \u001b[1;36m2.23\u001b[0m seconds.                     \u001b]8;id=851276;file:///opt/conda/lib/python3.11/site-packages/fmeval/perf_util.py\u001b\\\u001b[2mperf_util.py\u001b[0m\u001b]8;;\u001b\\\u001b[2m:\u001b[0m\u001b]8;id=490655;file:///opt/conda/lib/python3.11/site-packages/fmeval/perf_util.py#18\u001b\\\u001b[2m18\u001b[0m\u001b]8;;\u001b\\\n"
      ]
     },
     "metadata": {},
     "output_type": "display_data"
    },
    {
     "data": {
      "text/html": [
       "<pre style=\"white-space:pre;overflow-x:auto;line-height:normal;font-family:Menlo,'DejaVu Sans Mono',consolas,'Courier New',monospace\"><span style=\"color: #7fbfbf; text-decoration-color: #7fbfbf\">                    </span><span style=\"color: #0069ff; text-decoration-color: #0069ff; font-weight: bold\">INFO    </span> ===================================================                    <a href=\"file:///opt/conda/lib/python3.11/site-packages/fmeval/perf_util.py\" target=\"_blank\"><span style=\"color: #7f7f7f; text-decoration-color: #7f7f7f\">perf_util.py</span></a><span style=\"color: #7f7f7f; text-decoration-color: #7f7f7f\">:</span><a href=\"file:///opt/conda/lib/python3.11/site-packages/fmeval/perf_util.py#19\" target=\"_blank\"><span style=\"color: #7f7f7f; text-decoration-color: #7f7f7f\">19</span></a>\n",
       "</pre>\n"
      ],
      "text/plain": [
       "\u001b[2;36m                   \u001b[0m\u001b[2;36m \u001b[0m\u001b[1;38;2;0;105;255mINFO    \u001b[0m ===================================================                    \u001b]8;id=174706;file:///opt/conda/lib/python3.11/site-packages/fmeval/perf_util.py\u001b\\\u001b[2mperf_util.py\u001b[0m\u001b]8;;\u001b\\\u001b[2m:\u001b[0m\u001b]8;id=38305;file:///opt/conda/lib/python3.11/site-packages/fmeval/perf_util.py#19\u001b\\\u001b[2m19\u001b[0m\u001b]8;;\u001b\\\n"
      ]
     },
     "metadata": {},
     "output_type": "display_data"
    },
    {
     "name": "stderr",
     "output_type": "stream",
     "text": [
      "2025-03-29 23:20:25,969\tINFO streaming_executor.py:108 -- Starting execution of Dataset. Full logs are in /tmp/ray/session_2025-03-29_23-20-21_071722_922/logs/ray-data\n",
      "2025-03-29 23:20:25,970\tINFO streaming_executor.py:109 -- Execution plan of Dataset: InputDataBuffer[Input] -> ActorPoolMapOperator[Map(GeneratePrompt)]\n"
     ]
    },
    {
     "data": {
      "application/vnd.jupyter.widget-view+json": {
       "model_id": "bba2f37642a24b428fd73b792f459acc",
       "version_major": 2,
       "version_minor": 0
      },
      "text/plain": [
       "Running 0: 0.00 row [00:00, ? row/s]"
      ]
     },
     "metadata": {},
     "output_type": "display_data"
    },
    {
     "data": {
      "application/vnd.jupyter.widget-view+json": {
       "model_id": "38df1a8a5cd64ee49f9f942c6e28bc8f",
       "version_major": 2,
       "version_minor": 0
      },
      "text/plain": [
       "- Map(GeneratePrompt) 1: 0.00 row [00:00, ? row/s]"
      ]
     },
     "metadata": {},
     "output_type": "display_data"
    },
    {
     "name": "stderr",
     "output_type": "stream",
     "text": [
      "2025-03-29 23:20:34,911\tINFO streaming_executor.py:108 -- Starting execution of Dataset. Full logs are in /tmp/ray/session_2025-03-29_23-20-21_071722_922/logs/ray-data\n",
      "2025-03-29 23:20:34,912\tINFO streaming_executor.py:109 -- Execution plan of Dataset: InputDataBuffer[Input] -> ActorPoolMapOperator[Map(GetModelOutputs)]\n"
     ]
    },
    {
     "data": {
      "application/vnd.jupyter.widget-view+json": {
       "model_id": "25adf724096d4417b3c8f2dcd4d15b54",
       "version_major": 2,
       "version_minor": 0
      },
      "text/plain": [
       "Running 0: 0.00 row [00:00, ? row/s]"
      ]
     },
     "metadata": {},
     "output_type": "display_data"
    },
    {
     "data": {
      "application/vnd.jupyter.widget-view+json": {
       "model_id": "31ed4e75b36e4b829552958eb94a6449",
       "version_major": 2,
       "version_minor": 0
      },
      "text/plain": [
       "- Map(GetModelOutputs) 1: 0.00 row [00:00, ? row/s]"
      ]
     },
     "metadata": {},
     "output_type": "display_data"
    },
    {
     "name": "stderr",
     "output_type": "stream",
     "text": [
      "2025-03-29 23:21:01,350\tINFO streaming_executor.py:108 -- Starting execution of Dataset. Full logs are in /tmp/ray/session_2025-03-29_23-20-21_071722_922/logs/ray-data\n",
      "2025-03-29 23:21:01,351\tINFO streaming_executor.py:109 -- Execution plan of Dataset: InputDataBuffer[Input] -> ActorPoolMapOperator[Map(MeteorScore)]\n"
     ]
    },
    {
     "data": {
      "application/vnd.jupyter.widget-view+json": {
       "model_id": "b39fd95567ba42349e10af56339f9c18",
       "version_major": 2,
       "version_minor": 0
      },
      "text/plain": [
       "Running 0: 0.00 row [00:00, ? row/s]"
      ]
     },
     "metadata": {},
     "output_type": "display_data"
    },
    {
     "data": {
      "application/vnd.jupyter.widget-view+json": {
       "model_id": "6f7c35496c4b462ab07243922f854720",
       "version_major": 2,
       "version_minor": 0
      },
      "text/plain": [
       "- Map(MeteorScore) 1: 0.00 row [00:00, ? row/s]"
      ]
     },
     "metadata": {},
     "output_type": "display_data"
    },
    {
     "name": "stderr",
     "output_type": "stream",
     "text": [
      "2025-03-29 23:21:20,893\tWARNING plan.py:455 -- Warning: The Ray cluster currently does not have any available CPUs. The Dataset job will hang unless more CPUs are freed up. A common reason is that cluster resources are used by Actors or Tune trials; see the following link for more details: https://docs.ray.io/en/latest/data/data-internals.html#ray-data-and-tune\n",
      "2025-03-29 23:21:20,912\tINFO streaming_executor.py:108 -- Starting execution of Dataset. Full logs are in /tmp/ray/session_2025-03-29_23-20-21_071722_922/logs/ray-data\n",
      "2025-03-29 23:21:20,913\tINFO streaming_executor.py:109 -- Execution plan of Dataset: InputDataBuffer[Input] -> ActorPoolMapOperator[Map(RougeScore)]\n"
     ]
    },
    {
     "data": {
      "application/vnd.jupyter.widget-view+json": {
       "model_id": "4c212027abe447f5ab27c33e5e5771c4",
       "version_major": 2,
       "version_minor": 0
      },
      "text/plain": [
       "Running 0: 0.00 row [00:00, ? row/s]"
      ]
     },
     "metadata": {},
     "output_type": "display_data"
    },
    {
     "data": {
      "application/vnd.jupyter.widget-view+json": {
       "model_id": "917b017dca1b46fd9e2457b442f95159",
       "version_major": 2,
       "version_minor": 0
      },
      "text/plain": [
       "- Map(RougeScore) 1: 0.00 row [00:00, ? row/s]"
      ]
     },
     "metadata": {},
     "output_type": "display_data"
    },
    {
     "name": "stderr",
     "output_type": "stream",
     "text": [
      "2025-03-29 23:21:43,187\tINFO streaming_executor.py:108 -- Starting execution of Dataset. Full logs are in /tmp/ray/session_2025-03-29_23-20-21_071722_922/logs/ray-data\n",
      "2025-03-29 23:21:43,188\tINFO streaming_executor.py:109 -- Execution plan of Dataset: InputDataBuffer[Input] -> ActorPoolMapOperator[Map(BertScore)]\n"
     ]
    },
    {
     "data": {
      "application/vnd.jupyter.widget-view+json": {
       "model_id": "d661a21b303a4c2eba51c5540a4b98db",
       "version_major": 2,
       "version_minor": 0
      },
      "text/plain": [
       "Running 0: 0.00 row [00:00, ? row/s]"
      ]
     },
     "metadata": {},
     "output_type": "display_data"
    },
    {
     "data": {
      "application/vnd.jupyter.widget-view+json": {
       "model_id": "bf082944fb384651bb9d64989c9b7c94",
       "version_major": 2,
       "version_minor": 0
      },
      "text/plain": [
       "- Map(BertScore) 1: 0.00 row [00:00, ? row/s]"
      ]
     },
     "metadata": {},
     "output_type": "display_data"
    },
    {
     "name": "stderr",
     "output_type": "stream",
     "text": [
      "2025-03-29 23:24:05,374\tINFO dataset.py:2631 -- Tip: Use `take_batch()` instead of `take() / show()` to return records in pandas or numpy batch format.\n",
      "2025-03-29 23:24:05,376\tINFO streaming_executor.py:108 -- Starting execution of Dataset. Full logs are in /tmp/ray/session_2025-03-29_23-20-21_071722_922/logs/ray-data\n",
      "2025-03-29 23:24:05,376\tINFO streaming_executor.py:109 -- Execution plan of Dataset: InputDataBuffer[Input] -> AllToAllOperator[Aggregate] -> LimitOperator[limit=1]\n"
     ]
    },
    {
     "data": {
      "application/vnd.jupyter.widget-view+json": {
       "model_id": "9d97a2da256142e3856ebca2e9ee0648",
       "version_major": 2,
       "version_minor": 0
      },
      "text/plain": [
       "Running 0: 0.00 row [00:00, ? row/s]"
      ]
     },
     "metadata": {},
     "output_type": "display_data"
    },
    {
     "data": {
      "application/vnd.jupyter.widget-view+json": {
       "model_id": "7f83458e5a194be0ac4ce13d5e66baf9",
       "version_major": 2,
       "version_minor": 0
      },
      "text/plain": [
       "- Aggregate 1: 0.00 row [00:00, ? row/s]"
      ]
     },
     "metadata": {},
     "output_type": "display_data"
    },
    {
     "data": {
      "application/vnd.jupyter.widget-view+json": {
       "model_id": "35fd8213b11c42f19badd2bf75848995",
       "version_major": 2,
       "version_minor": 0
      },
      "text/plain": [
       "Sort Sample 2:   0%|          | 0.00/1.00 [00:00<?, ? row/s]"
      ]
     },
     "metadata": {},
     "output_type": "display_data"
    },
    {
     "data": {
      "application/vnd.jupyter.widget-view+json": {
       "model_id": "490591a957704e1a8b8962a0aa6870e6",
       "version_major": 2,
       "version_minor": 0
      },
      "text/plain": [
       "Shuffle Map 3:   0%|          | 0.00/1.00 [00:00<?, ? row/s]"
      ]
     },
     "metadata": {},
     "output_type": "display_data"
    },
    {
     "data": {
      "application/vnd.jupyter.widget-view+json": {
       "model_id": "76c77bd8c2844d7a96561302d7b48bcd",
       "version_major": 2,
       "version_minor": 0
      },
      "text/plain": [
       "Shuffle Reduce 4:   0%|          | 0.00/1.00 [00:00<?, ? row/s]"
      ]
     },
     "metadata": {},
     "output_type": "display_data"
    },
    {
     "data": {
      "application/vnd.jupyter.widget-view+json": {
       "model_id": "327e841505c049c18910a9ede41ab75a",
       "version_major": 2,
       "version_minor": 0
      },
      "text/plain": [
       "- limit=1 5: 0.00 row [00:00, ? row/s]"
      ]
     },
     "metadata": {},
     "output_type": "display_data"
    },
    {
     "name": "stderr",
     "output_type": "stream",
     "text": [
      "2025-03-29 23:24:08,139\tINFO streaming_executor.py:108 -- Starting execution of Dataset. Full logs are in /tmp/ray/session_2025-03-29_23-20-21_071722_922/logs/ray-data\n",
      "2025-03-29 23:24:08,139\tINFO streaming_executor.py:109 -- Execution plan of Dataset: InputDataBuffer[Input] -> AllToAllOperator[Aggregate] -> LimitOperator[limit=1]\n"
     ]
    },
    {
     "data": {
      "application/vnd.jupyter.widget-view+json": {
       "model_id": "f00ed5efa6dc417ba5809d59bf8c1196",
       "version_major": 2,
       "version_minor": 0
      },
      "text/plain": [
       "Running 0: 0.00 row [00:00, ? row/s]"
      ]
     },
     "metadata": {},
     "output_type": "display_data"
    },
    {
     "data": {
      "application/vnd.jupyter.widget-view+json": {
       "model_id": "c892a521d84b404a8ccdc56e5c7900e5",
       "version_major": 2,
       "version_minor": 0
      },
      "text/plain": [
       "- Aggregate 1: 0.00 row [00:00, ? row/s]"
      ]
     },
     "metadata": {},
     "output_type": "display_data"
    },
    {
     "data": {
      "application/vnd.jupyter.widget-view+json": {
       "model_id": "ca4ec0205f574aa29c3cb2d6e183ea52",
       "version_major": 2,
       "version_minor": 0
      },
      "text/plain": [
       "Sort Sample 2:   0%|          | 0.00/1.00 [00:00<?, ? row/s]"
      ]
     },
     "metadata": {},
     "output_type": "display_data"
    },
    {
     "data": {
      "application/vnd.jupyter.widget-view+json": {
       "model_id": "9c29889c3fc84e57b479aadb0ff61b65",
       "version_major": 2,
       "version_minor": 0
      },
      "text/plain": [
       "Shuffle Map 3:   0%|          | 0.00/1.00 [00:00<?, ? row/s]"
      ]
     },
     "metadata": {},
     "output_type": "display_data"
    },
    {
     "data": {
      "application/vnd.jupyter.widget-view+json": {
       "model_id": "a8728e417185489381cb89ccffeb2dff",
       "version_major": 2,
       "version_minor": 0
      },
      "text/plain": [
       "Shuffle Reduce 4:   0%|          | 0.00/1.00 [00:00<?, ? row/s]"
      ]
     },
     "metadata": {},
     "output_type": "display_data"
    },
    {
     "data": {
      "application/vnd.jupyter.widget-view+json": {
       "model_id": "eaf3fdc238d9402cbbbd54e17bf293f9",
       "version_major": 2,
       "version_minor": 0
      },
      "text/plain": [
       "- limit=1 5: 0.00 row [00:00, ? row/s]"
      ]
     },
     "metadata": {},
     "output_type": "display_data"
    },
    {
     "name": "stderr",
     "output_type": "stream",
     "text": [
      "2025-03-29 23:24:08,421\tINFO streaming_executor.py:108 -- Starting execution of Dataset. Full logs are in /tmp/ray/session_2025-03-29_23-20-21_071722_922/logs/ray-data\n",
      "2025-03-29 23:24:08,421\tINFO streaming_executor.py:109 -- Execution plan of Dataset: InputDataBuffer[Input] -> AllToAllOperator[Aggregate] -> LimitOperator[limit=1]\n"
     ]
    },
    {
     "data": {
      "application/vnd.jupyter.widget-view+json": {
       "model_id": "df39c1207d3b4591811b770d25f35782",
       "version_major": 2,
       "version_minor": 0
      },
      "text/plain": [
       "Running 0: 0.00 row [00:00, ? row/s]"
      ]
     },
     "metadata": {},
     "output_type": "display_data"
    },
    {
     "data": {
      "application/vnd.jupyter.widget-view+json": {
       "model_id": "0e7bbbf04279466ebb9773bd5fb6003b",
       "version_major": 2,
       "version_minor": 0
      },
      "text/plain": [
       "- Aggregate 1: 0.00 row [00:00, ? row/s]"
      ]
     },
     "metadata": {},
     "output_type": "display_data"
    },
    {
     "data": {
      "application/vnd.jupyter.widget-view+json": {
       "model_id": "e3b3ee4db250403097c8ac711faf456b",
       "version_major": 2,
       "version_minor": 0
      },
      "text/plain": [
       "Sort Sample 2:   0%|          | 0.00/1.00 [00:00<?, ? row/s]"
      ]
     },
     "metadata": {},
     "output_type": "display_data"
    },
    {
     "data": {
      "application/vnd.jupyter.widget-view+json": {
       "model_id": "9c748778d5784b78af0a41f1228cfa63",
       "version_major": 2,
       "version_minor": 0
      },
      "text/plain": [
       "Shuffle Map 3:   0%|          | 0.00/1.00 [00:00<?, ? row/s]"
      ]
     },
     "metadata": {},
     "output_type": "display_data"
    },
    {
     "data": {
      "application/vnd.jupyter.widget-view+json": {
       "model_id": "c43d1055cc0347f490c66e29ddf01e46",
       "version_major": 2,
       "version_minor": 0
      },
      "text/plain": [
       "Shuffle Reduce 4:   0%|          | 0.00/1.00 [00:00<?, ? row/s]"
      ]
     },
     "metadata": {},
     "output_type": "display_data"
    },
    {
     "data": {
      "application/vnd.jupyter.widget-view+json": {
       "model_id": "6e2f70aab2eb49faa712e550728ad03d",
       "version_major": 2,
       "version_minor": 0
      },
      "text/plain": [
       "- limit=1 5: 0.00 row [00:00, ? row/s]"
      ]
     },
     "metadata": {},
     "output_type": "display_data"
    },
    {
     "name": "stderr",
     "output_type": "stream",
     "text": [
      "2025-03-29 23:24:08,714\tINFO streaming_executor.py:108 -- Starting execution of Dataset. Full logs are in /tmp/ray/session_2025-03-29_23-20-21_071722_922/logs/ray-data\n",
      "2025-03-29 23:24:08,714\tINFO streaming_executor.py:109 -- Execution plan of Dataset: InputDataBuffer[Input] -> TaskPoolMapOperator[Map(<lambda>)]\n"
     ]
    },
    {
     "data": {
      "application/vnd.jupyter.widget-view+json": {
       "model_id": "1343aee1bc314e1c9bb3bfeec3361a8e",
       "version_major": 2,
       "version_minor": 0
      },
      "text/plain": [
       "Running 0: 0.00 row [00:00, ? row/s]"
      ]
     },
     "metadata": {},
     "output_type": "display_data"
    },
    {
     "data": {
      "application/vnd.jupyter.widget-view+json": {
       "model_id": "40591731ba664b318edcd532733ac97b",
       "version_major": 2,
       "version_minor": 0
      },
      "text/plain": [
       "- Map(<lambda>) 1: 0.00 row [00:00, ? row/s]"
      ]
     },
     "metadata": {},
     "output_type": "display_data"
    },
    {
     "name": "stderr",
     "output_type": "stream",
     "text": [
      "2025-03-29 23:24:11,893\tINFO streaming_executor.py:108 -- Starting execution of Dataset. Full logs are in /tmp/ray/session_2025-03-29_23-20-21_071722_922/logs/ray-data\n",
      "2025-03-29 23:24:11,894\tINFO streaming_executor.py:109 -- Execution plan of Dataset: InputDataBuffer[Input] -> TaskPoolMapOperator[Map(<lambda>)]\n"
     ]
    },
    {
     "data": {
      "application/vnd.jupyter.widget-view+json": {
       "model_id": "18cd6de249b24c7fb921f84a22abc108",
       "version_major": 2,
       "version_minor": 0
      },
      "text/plain": [
       "Running 0: 0.00 row [00:00, ? row/s]"
      ]
     },
     "metadata": {},
     "output_type": "display_data"
    },
    {
     "data": {
      "application/vnd.jupyter.widget-view+json": {
       "model_id": "d39da9d96f9942ffb14b0279d6d23cb1",
       "version_major": 2,
       "version_minor": 0
      },
      "text/plain": [
       "- Map(<lambda>) 1: 0.00 row [00:00, ? row/s]"
      ]
     },
     "metadata": {},
     "output_type": "display_data"
    },
    {
     "data": {
      "text/html": [
       "<pre style=\"white-space:pre;overflow-x:auto;line-height:normal;font-family:Menlo,'DejaVu Sans Mono',consolas,'Courier New',monospace\"><span style=\"color: #7fbfbf; text-decoration-color: #7fbfbf\">[03/29/25 23:24:12] </span><span style=\"color: #0069ff; text-decoration-color: #0069ff; font-weight: bold\">INFO    </span> Saving dataset to file took <span style=\"color: #008080; text-decoration-color: #008080; font-weight: bold\">3.46</span> seconds.                              <a href=\"file:///opt/conda/lib/python3.11/site-packages/fmeval/perf_util.py\" target=\"_blank\"><span style=\"color: #7f7f7f; text-decoration-color: #7f7f7f\">perf_util.py</span></a><span style=\"color: #7f7f7f; text-decoration-color: #7f7f7f\">:</span><a href=\"file:///opt/conda/lib/python3.11/site-packages/fmeval/perf_util.py#18\" target=\"_blank\"><span style=\"color: #7f7f7f; text-decoration-color: #7f7f7f\">18</span></a>\n",
       "</pre>\n"
      ],
      "text/plain": [
       "\u001b[2;36m[03/29/25 23:24:12]\u001b[0m\u001b[2;36m \u001b[0m\u001b[1;38;2;0;105;255mINFO    \u001b[0m Saving dataset to file took \u001b[1;36m3.46\u001b[0m seconds.                              \u001b]8;id=837815;file:///opt/conda/lib/python3.11/site-packages/fmeval/perf_util.py\u001b\\\u001b[2mperf_util.py\u001b[0m\u001b]8;;\u001b\\\u001b[2m:\u001b[0m\u001b]8;id=690535;file:///opt/conda/lib/python3.11/site-packages/fmeval/perf_util.py#18\u001b\\\u001b[2m18\u001b[0m\u001b]8;;\u001b\\\n"
      ]
     },
     "metadata": {},
     "output_type": "display_data"
    },
    {
     "data": {
      "text/html": [
       "<pre style=\"white-space:pre;overflow-x:auto;line-height:normal;font-family:Menlo,'DejaVu Sans Mono',consolas,'Courier New',monospace\"><span style=\"color: #7fbfbf; text-decoration-color: #7fbfbf\">                    </span><span style=\"color: #0069ff; text-decoration-color: #0069ff; font-weight: bold\">INFO    </span> ===================================================                    <a href=\"file:///opt/conda/lib/python3.11/site-packages/fmeval/perf_util.py\" target=\"_blank\"><span style=\"color: #7f7f7f; text-decoration-color: #7f7f7f\">perf_util.py</span></a><span style=\"color: #7f7f7f; text-decoration-color: #7f7f7f\">:</span><a href=\"file:///opt/conda/lib/python3.11/site-packages/fmeval/perf_util.py#19\" target=\"_blank\"><span style=\"color: #7f7f7f; text-decoration-color: #7f7f7f\">19</span></a>\n",
       "</pre>\n"
      ],
      "text/plain": [
       "\u001b[2;36m                   \u001b[0m\u001b[2;36m \u001b[0m\u001b[1;38;2;0;105;255mINFO    \u001b[0m ===================================================                    \u001b]8;id=899927;file:///opt/conda/lib/python3.11/site-packages/fmeval/perf_util.py\u001b\\\u001b[2mperf_util.py\u001b[0m\u001b]8;;\u001b\\\u001b[2m:\u001b[0m\u001b]8;id=669802;file:///opt/conda/lib/python3.11/site-packages/fmeval/perf_util.py#19\u001b\\\u001b[2m19\u001b[0m\u001b]8;;\u001b\\\n"
      ]
     },
     "metadata": {},
     "output_type": "display_data"
    },
    {
     "data": {
      "text/html": [
       "<pre style=\"white-space:pre;overflow-x:auto;line-height:normal;font-family:Menlo,'DejaVu Sans Mono',consolas,'Courier New',monospace\"><span style=\"color: #7fbfbf; text-decoration-color: #7fbfbf\">                    </span><span style=\"color: #0069ff; text-decoration-color: #0069ff; font-weight: bold\">INFO    </span> Computing score and aggregation on dataset gigaword_sample took <span style=\"color: #008080; text-decoration-color: #008080; font-weight: bold\">226.21</span> <a href=\"file:///opt/conda/lib/python3.11/site-packages/fmeval/perf_util.py\" target=\"_blank\"><span style=\"color: #7f7f7f; text-decoration-color: #7f7f7f\">perf_util.py</span></a><span style=\"color: #7f7f7f; text-decoration-color: #7f7f7f\">:</span><a href=\"file:///opt/conda/lib/python3.11/site-packages/fmeval/perf_util.py#18\" target=\"_blank\"><span style=\"color: #7f7f7f; text-decoration-color: #7f7f7f\">18</span></a>\n",
       "<span style=\"color: #7fbfbf; text-decoration-color: #7fbfbf\">                    </span>         seconds.                                                               <span style=\"color: #7f7f7f; text-decoration-color: #7f7f7f\">               </span>\n",
       "</pre>\n"
      ],
      "text/plain": [
       "\u001b[2;36m                   \u001b[0m\u001b[2;36m \u001b[0m\u001b[1;38;2;0;105;255mINFO    \u001b[0m Computing score and aggregation on dataset gigaword_sample took \u001b[1;36m226.21\u001b[0m \u001b]8;id=815603;file:///opt/conda/lib/python3.11/site-packages/fmeval/perf_util.py\u001b\\\u001b[2mperf_util.py\u001b[0m\u001b]8;;\u001b\\\u001b[2m:\u001b[0m\u001b]8;id=870897;file:///opt/conda/lib/python3.11/site-packages/fmeval/perf_util.py#18\u001b\\\u001b[2m18\u001b[0m\u001b]8;;\u001b\\\n",
       "\u001b[2;36m                    \u001b[0m         seconds.                                                               \u001b[2m               \u001b[0m\n"
      ]
     },
     "metadata": {},
     "output_type": "display_data"
    },
    {
     "data": {
      "text/html": [
       "<pre style=\"white-space:pre;overflow-x:auto;line-height:normal;font-family:Menlo,'DejaVu Sans Mono',consolas,'Courier New',monospace\"><span style=\"color: #7fbfbf; text-decoration-color: #7fbfbf\">                    </span><span style=\"color: #0069ff; text-decoration-color: #0069ff; font-weight: bold\">INFO    </span> ===================================================                    <a href=\"file:///opt/conda/lib/python3.11/site-packages/fmeval/perf_util.py\" target=\"_blank\"><span style=\"color: #7f7f7f; text-decoration-color: #7f7f7f\">perf_util.py</span></a><span style=\"color: #7f7f7f; text-decoration-color: #7f7f7f\">:</span><a href=\"file:///opt/conda/lib/python3.11/site-packages/fmeval/perf_util.py#19\" target=\"_blank\"><span style=\"color: #7f7f7f; text-decoration-color: #7f7f7f\">19</span></a>\n",
       "</pre>\n"
      ],
      "text/plain": [
       "\u001b[2;36m                   \u001b[0m\u001b[2;36m \u001b[0m\u001b[1;38;2;0;105;255mINFO    \u001b[0m ===================================================                    \u001b]8;id=338404;file:///opt/conda/lib/python3.11/site-packages/fmeval/perf_util.py\u001b\\\u001b[2mperf_util.py\u001b[0m\u001b]8;;\u001b\\\u001b[2m:\u001b[0m\u001b]8;id=245826;file:///opt/conda/lib/python3.11/site-packages/fmeval/perf_util.py#19\u001b\\\u001b[2m19\u001b[0m\u001b]8;;\u001b\\\n"
      ]
     },
     "metadata": {},
     "output_type": "display_data"
    },
    {
     "name": "stderr",
     "output_type": "stream",
     "text": [
      "/opt/conda/lib/python3.11/site-packages/mlflow/data/dataset_source_registry.py:149: UserWarning: Failed to determine whether UCVolumeDatasetSource can resolve source information for 'datasets/gigaword_sample.jsonl'. Exception: \n",
      "  return _dataset_source_registry.resolve(\n",
      "/opt/conda/lib/python3.11/site-packages/mlflow/data/dataset_source_registry.py:149: UserWarning: The specified dataset source can be interpreted in multiple ways: LocalArtifactDatasetSource, LocalArtifactDatasetSource. MLflow will assume that this is a LocalArtifactDatasetSource source.\n",
      "  return _dataset_source_registry.resolve(\n",
      "/opt/conda/lib/python3.11/site-packages/mlflow/types/utils.py:407: UserWarning: Hint: Inferred schema contains integer column(s). Integer columns in Python cannot represent missing values. If your input data contains missing values at inference time, it will be encoded as floats and will cause a schema enforcement error. The best way to avoid this problem is to infer the model schema based on a realistic data sample (training dataset) that includes missing values. Alternatively, you can declare integer columns as doubles (float64) whenever these columns may have missing values. See `Handling Integers With Missing Values <https://www.mlflow.org/docs/latest/models.html#handling-integers-with-missing-values>`_ for more details.\n",
      "  warnings.warn(\n",
      "/opt/conda/lib/python3.11/site-packages/mlflow/data/dataset_source_registry.py:149: UserWarning: Failed to determine whether UCVolumeDatasetSource can resolve source information for '/tmp/eval_results/summarization_accuracy_gigaword_sample.jsonl'. Exception: \n",
      "  return _dataset_source_registry.resolve(\n",
      "/opt/conda/lib/python3.11/site-packages/mlflow/data/dataset_source_registry.py:149: UserWarning: The specified dataset source can be interpreted in multiple ways: LocalArtifactDatasetSource, LocalArtifactDatasetSource. MLflow will assume that this is a LocalArtifactDatasetSource source.\n",
      "  return _dataset_source_registry.resolve(\n",
      "2025-03-29 23:24:13,082\tINFO streaming_executor.py:108 -- Starting execution of Dataset. Full logs are in /tmp/ray/session_2025-03-29_23-20-21_071722_922/logs/ray-data\n",
      "2025-03-29 23:24:13,082\tINFO streaming_executor.py:109 -- Execution plan of Dataset: InputDataBuffer[Input] -> TaskPoolMapOperator[ReadCustomJSON] -> AggregateNumRows[AggregateNumRows]\n"
     ]
    },
    {
     "data": {
      "application/vnd.jupyter.widget-view+json": {
       "model_id": "f8b1b1509ed04761b2583c34f4ebbb90",
       "version_major": 2,
       "version_minor": 0
      },
      "text/plain": [
       "Running 0: 0.00 row [00:00, ? row/s]"
      ]
     },
     "metadata": {},
     "output_type": "display_data"
    },
    {
     "data": {
      "application/vnd.jupyter.widget-view+json": {
       "model_id": "ba575b6de3054b64862415e9bf60f224",
       "version_major": 2,
       "version_minor": 0
      },
      "text/plain": [
       "- ReadCustomJSON->SplitBlocks(96) 1: 0.00 row [00:00, ? row/s]"
      ]
     },
     "metadata": {},
     "output_type": "display_data"
    },
    {
     "data": {
      "application/vnd.jupyter.widget-view+json": {
       "model_id": "5bf61d65f4364b05bb0360f5e0fc3258",
       "version_major": 2,
       "version_minor": 0
      },
      "text/plain": [
       "- AggregateNumRows 2: 0.00 row [00:00, ? row/s]"
      ]
     },
     "metadata": {},
     "output_type": "display_data"
    },
    {
     "name": "stderr",
     "output_type": "stream",
     "text": [
      "2025-03-29 23:24:13,191\tINFO streaming_executor.py:108 -- Starting execution of Dataset. Full logs are in /tmp/ray/session_2025-03-29_23-20-21_071722_922/logs/ray-data\n",
      "2025-03-29 23:24:13,192\tINFO streaming_executor.py:109 -- Execution plan of Dataset: InputDataBuffer[Input] -> TaskPoolMapOperator[ReadCustomJSON]\n"
     ]
    },
    {
     "data": {
      "application/vnd.jupyter.widget-view+json": {
       "model_id": "a2391540efd342bc875968707f1ff2b0",
       "version_major": 2,
       "version_minor": 0
      },
      "text/plain": [
       "Running 0: 0.00 row [00:00, ? row/s]"
      ]
     },
     "metadata": {},
     "output_type": "display_data"
    },
    {
     "data": {
      "application/vnd.jupyter.widget-view+json": {
       "model_id": "e7bd3830929d4504902ffead0480f7e9",
       "version_major": 2,
       "version_minor": 0
      },
      "text/plain": [
       "- ReadCustomJSON->SplitBlocks(96) 1: 0.00 row [00:00, ? row/s]"
      ]
     },
     "metadata": {},
     "output_type": "display_data"
    },
    {
     "name": "stderr",
     "output_type": "stream",
     "text": [
      "2025-03-29 23:24:13,305\tINFO streaming_executor.py:108 -- Starting execution of Dataset. Full logs are in /tmp/ray/session_2025-03-29_23-20-21_071722_922/logs/ray-data\n",
      "2025-03-29 23:24:13,306\tINFO streaming_executor.py:109 -- Execution plan of Dataset: InputDataBuffer[Input] -> AllToAllOperator[Repartition]\n"
     ]
    },
    {
     "data": {
      "application/vnd.jupyter.widget-view+json": {
       "model_id": "36faecd0bb574807ae829af81f51b7f4",
       "version_major": 2,
       "version_minor": 0
      },
      "text/plain": [
       "Running 0: 0.00 row [00:00, ? row/s]"
      ]
     },
     "metadata": {},
     "output_type": "display_data"
    },
    {
     "data": {
      "application/vnd.jupyter.widget-view+json": {
       "model_id": "5e6d4d1587524fdb878df3d830786716",
       "version_major": 2,
       "version_minor": 0
      },
      "text/plain": [
       "- Repartition 1: 0.00 row [00:00, ? row/s]"
      ]
     },
     "metadata": {},
     "output_type": "display_data"
    },
    {
     "data": {
      "application/vnd.jupyter.widget-view+json": {
       "model_id": "36744cb65bf64a1abf8f702f2ec44f6f",
       "version_major": 2,
       "version_minor": 0
      },
      "text/plain": [
       "Split Repartition 2:   0%|          | 0.00/1.00 [00:00<?, ? row/s]"
      ]
     },
     "metadata": {},
     "output_type": "display_data"
    },
    {
     "data": {
      "text/html": [
       "<pre style=\"white-space:pre;overflow-x:auto;line-height:normal;font-family:Menlo,'DejaVu Sans Mono',consolas,'Courier New',monospace\"><span style=\"color: #7fbfbf; text-decoration-color: #7fbfbf\">[03/29/25 23:24:13] </span><span style=\"color: #0069ff; text-decoration-color: #0069ff; font-weight: bold\">INFO    </span> Loading dataset trex_sample took <span style=\"color: #008080; text-decoration-color: #008080; font-weight: bold\">0.38</span> seconds.                         <a href=\"file:///opt/conda/lib/python3.11/site-packages/fmeval/perf_util.py\" target=\"_blank\"><span style=\"color: #7f7f7f; text-decoration-color: #7f7f7f\">perf_util.py</span></a><span style=\"color: #7f7f7f; text-decoration-color: #7f7f7f\">:</span><a href=\"file:///opt/conda/lib/python3.11/site-packages/fmeval/perf_util.py#18\" target=\"_blank\"><span style=\"color: #7f7f7f; text-decoration-color: #7f7f7f\">18</span></a>\n",
       "</pre>\n"
      ],
      "text/plain": [
       "\u001b[2;36m[03/29/25 23:24:13]\u001b[0m\u001b[2;36m \u001b[0m\u001b[1;38;2;0;105;255mINFO    \u001b[0m Loading dataset trex_sample took \u001b[1;36m0.38\u001b[0m seconds.                         \u001b]8;id=199478;file:///opt/conda/lib/python3.11/site-packages/fmeval/perf_util.py\u001b\\\u001b[2mperf_util.py\u001b[0m\u001b]8;;\u001b\\\u001b[2m:\u001b[0m\u001b]8;id=287407;file:///opt/conda/lib/python3.11/site-packages/fmeval/perf_util.py#18\u001b\\\u001b[2m18\u001b[0m\u001b]8;;\u001b\\\n"
      ]
     },
     "metadata": {},
     "output_type": "display_data"
    },
    {
     "data": {
      "text/html": [
       "<pre style=\"white-space:pre;overflow-x:auto;line-height:normal;font-family:Menlo,'DejaVu Sans Mono',consolas,'Courier New',monospace\"><span style=\"color: #7fbfbf; text-decoration-color: #7fbfbf\">                    </span><span style=\"color: #0069ff; text-decoration-color: #0069ff; font-weight: bold\">INFO    </span> ===================================================                    <a href=\"file:///opt/conda/lib/python3.11/site-packages/fmeval/perf_util.py\" target=\"_blank\"><span style=\"color: #7f7f7f; text-decoration-color: #7f7f7f\">perf_util.py</span></a><span style=\"color: #7f7f7f; text-decoration-color: #7f7f7f\">:</span><a href=\"file:///opt/conda/lib/python3.11/site-packages/fmeval/perf_util.py#19\" target=\"_blank\"><span style=\"color: #7f7f7f; text-decoration-color: #7f7f7f\">19</span></a>\n",
       "</pre>\n"
      ],
      "text/plain": [
       "\u001b[2;36m                   \u001b[0m\u001b[2;36m \u001b[0m\u001b[1;38;2;0;105;255mINFO    \u001b[0m ===================================================                    \u001b]8;id=314284;file:///opt/conda/lib/python3.11/site-packages/fmeval/perf_util.py\u001b\\\u001b[2mperf_util.py\u001b[0m\u001b]8;;\u001b\\\u001b[2m:\u001b[0m\u001b]8;id=13255;file:///opt/conda/lib/python3.11/site-packages/fmeval/perf_util.py#19\u001b\\\u001b[2m19\u001b[0m\u001b]8;;\u001b\\\n"
      ]
     },
     "metadata": {},
     "output_type": "display_data"
    },
    {
     "name": "stderr",
     "output_type": "stream",
     "text": [
      "2025-03-29 23:24:13,458\tINFO streaming_executor.py:108 -- Starting execution of Dataset. Full logs are in /tmp/ray/session_2025-03-29_23-20-21_071722_922/logs/ray-data\n",
      "2025-03-29 23:24:13,458\tINFO streaming_executor.py:109 -- Execution plan of Dataset: InputDataBuffer[Input] -> ActorPoolMapOperator[Map(GeneratePrompt)]\n"
     ]
    },
    {
     "data": {
      "application/vnd.jupyter.widget-view+json": {
       "model_id": "1abfb9f7492740be96b2d6a93b8a36a0",
       "version_major": 2,
       "version_minor": 0
      },
      "text/plain": [
       "Running 0: 0.00 row [00:00, ? row/s]"
      ]
     },
     "metadata": {},
     "output_type": "display_data"
    },
    {
     "data": {
      "application/vnd.jupyter.widget-view+json": {
       "model_id": "8a921ca13c634102bd1f92b867ad0b69",
       "version_major": 2,
       "version_minor": 0
      },
      "text/plain": [
       "- Map(GeneratePrompt) 1: 0.00 row [00:00, ? row/s]"
      ]
     },
     "metadata": {},
     "output_type": "display_data"
    },
    {
     "name": "stderr",
     "output_type": "stream",
     "text": [
      "2025-03-29 23:24:22,899\tINFO streaming_executor.py:108 -- Starting execution of Dataset. Full logs are in /tmp/ray/session_2025-03-29_23-20-21_071722_922/logs/ray-data\n",
      "2025-03-29 23:24:22,900\tINFO streaming_executor.py:109 -- Execution plan of Dataset: InputDataBuffer[Input] -> ActorPoolMapOperator[Map(GetModelOutputs)]\n"
     ]
    },
    {
     "data": {
      "application/vnd.jupyter.widget-view+json": {
       "model_id": "20b2b766acc24d70acba0effc90fa18e",
       "version_major": 2,
       "version_minor": 0
      },
      "text/plain": [
       "Running 0: 0.00 row [00:00, ? row/s]"
      ]
     },
     "metadata": {},
     "output_type": "display_data"
    },
    {
     "data": {
      "application/vnd.jupyter.widget-view+json": {
       "model_id": "207e44cdcb6f44b882b2881e8df0a838",
       "version_major": 2,
       "version_minor": 0
      },
      "text/plain": [
       "- Map(GetModelOutputs) 1: 0.00 row [00:00, ? row/s]"
      ]
     },
     "metadata": {},
     "output_type": "display_data"
    },
    {
     "name": "stderr",
     "output_type": "stream",
     "text": [
      "2025-03-29 23:25:10,622\tINFO streaming_executor.py:108 -- Starting execution of Dataset. Full logs are in /tmp/ray/session_2025-03-29_23-20-21_071722_922/logs/ray-data\n",
      "2025-03-29 23:25:10,622\tINFO streaming_executor.py:109 -- Execution plan of Dataset: InputDataBuffer[Input] -> ActorPoolMapOperator[Map(FactualKnowledgeScores)]\n"
     ]
    },
    {
     "data": {
      "application/vnd.jupyter.widget-view+json": {
       "model_id": "3b06374cef7a4e7490e7f76bba496daa",
       "version_major": 2,
       "version_minor": 0
      },
      "text/plain": [
       "Running 0: 0.00 row [00:00, ? row/s]"
      ]
     },
     "metadata": {},
     "output_type": "display_data"
    },
    {
     "data": {
      "application/vnd.jupyter.widget-view+json": {
       "model_id": "14e35beb1beb4a10afe367900e1641c2",
       "version_major": 2,
       "version_minor": 0
      },
      "text/plain": [
       "- Map(FactualKnowledgeScores) 1: 0.00 row [00:00, ? row/s]"
      ]
     },
     "metadata": {},
     "output_type": "display_data"
    },
    {
     "name": "stderr",
     "output_type": "stream",
     "text": [
      "2025-03-29 23:25:19,917\tINFO streaming_executor.py:108 -- Starting execution of Dataset. Full logs are in /tmp/ray/session_2025-03-29_23-20-21_071722_922/logs/ray-data\n",
      "2025-03-29 23:25:19,918\tINFO streaming_executor.py:109 -- Execution plan of Dataset: InputDataBuffer[Input] -> AllToAllOperator[Aggregate] -> LimitOperator[limit=1]\n"
     ]
    },
    {
     "data": {
      "application/vnd.jupyter.widget-view+json": {
       "model_id": "6f776458220c44439d0cac1b22a6f34d",
       "version_major": 2,
       "version_minor": 0
      },
      "text/plain": [
       "Running 0: 0.00 row [00:00, ? row/s]"
      ]
     },
     "metadata": {},
     "output_type": "display_data"
    },
    {
     "data": {
      "application/vnd.jupyter.widget-view+json": {
       "model_id": "f91c93fadbf74f8ea92a87d83dd30250",
       "version_major": 2,
       "version_minor": 0
      },
      "text/plain": [
       "- Aggregate 1: 0.00 row [00:00, ? row/s]"
      ]
     },
     "metadata": {},
     "output_type": "display_data"
    },
    {
     "data": {
      "application/vnd.jupyter.widget-view+json": {
       "model_id": "b191b602e30b4a5490110a05faefd2e6",
       "version_major": 2,
       "version_minor": 0
      },
      "text/plain": [
       "Sort Sample 2:   0%|          | 0.00/1.00 [00:00<?, ? row/s]"
      ]
     },
     "metadata": {},
     "output_type": "display_data"
    },
    {
     "data": {
      "application/vnd.jupyter.widget-view+json": {
       "model_id": "23a79374232846189db0e8f592a76508",
       "version_major": 2,
       "version_minor": 0
      },
      "text/plain": [
       "Shuffle Map 3:   0%|          | 0.00/1.00 [00:00<?, ? row/s]"
      ]
     },
     "metadata": {},
     "output_type": "display_data"
    },
    {
     "data": {
      "application/vnd.jupyter.widget-view+json": {
       "model_id": "ff0700e2021140a2a1791a65fcf9e1de",
       "version_major": 2,
       "version_minor": 0
      },
      "text/plain": [
       "Shuffle Reduce 4:   0%|          | 0.00/1.00 [00:00<?, ? row/s]"
      ]
     },
     "metadata": {},
     "output_type": "display_data"
    },
    {
     "data": {
      "application/vnd.jupyter.widget-view+json": {
       "model_id": "b3c4ed64277b4ab2b4d61c00deebb69d",
       "version_major": 2,
       "version_minor": 0
      },
      "text/plain": [
       "- limit=1 5: 0.00 row [00:00, ? row/s]"
      ]
     },
     "metadata": {},
     "output_type": "display_data"
    },
    {
     "name": "stderr",
     "output_type": "stream",
     "text": [
      "2025-03-29 23:25:20,349\tINFO streaming_executor.py:108 -- Starting execution of Dataset. Full logs are in /tmp/ray/session_2025-03-29_23-20-21_071722_922/logs/ray-data\n",
      "2025-03-29 23:25:20,350\tINFO streaming_executor.py:109 -- Execution plan of Dataset: InputDataBuffer[Input] -> AllToAllOperator[Aggregate] -> LimitOperator[limit=1]\n"
     ]
    },
    {
     "data": {
      "application/vnd.jupyter.widget-view+json": {
       "model_id": "638030fc1df4441dab2bee520cc3f0ee",
       "version_major": 2,
       "version_minor": 0
      },
      "text/plain": [
       "Running 0: 0.00 row [00:00, ? row/s]"
      ]
     },
     "metadata": {},
     "output_type": "display_data"
    },
    {
     "data": {
      "application/vnd.jupyter.widget-view+json": {
       "model_id": "f359b3fe86584fb1bb37e6ff2a339da6",
       "version_major": 2,
       "version_minor": 0
      },
      "text/plain": [
       "- Aggregate 1: 0.00 row [00:00, ? row/s]"
      ]
     },
     "metadata": {},
     "output_type": "display_data"
    },
    {
     "data": {
      "application/vnd.jupyter.widget-view+json": {
       "model_id": "450f5c8a0d5a4dd2a27bd34d03764cab",
       "version_major": 2,
       "version_minor": 0
      },
      "text/plain": [
       "Sort Sample 2:   0%|          | 0.00/1.00 [00:00<?, ? row/s]"
      ]
     },
     "metadata": {},
     "output_type": "display_data"
    },
    {
     "data": {
      "application/vnd.jupyter.widget-view+json": {
       "model_id": "643c152e98914d57a24d7fadbfc9bd54",
       "version_major": 2,
       "version_minor": 0
      },
      "text/plain": [
       "Shuffle Map 3:   0%|          | 0.00/1.00 [00:00<?, ? row/s]"
      ]
     },
     "metadata": {},
     "output_type": "display_data"
    },
    {
     "data": {
      "application/vnd.jupyter.widget-view+json": {
       "model_id": "c3ed6563aec14cfd9d2124b4f991bf50",
       "version_major": 2,
       "version_minor": 0
      },
      "text/plain": [
       "Shuffle Reduce 4:   0%|          | 0.00/1.00 [00:00<?, ? row/s]"
      ]
     },
     "metadata": {},
     "output_type": "display_data"
    },
    {
     "data": {
      "application/vnd.jupyter.widget-view+json": {
       "model_id": "dd9dfb5c9bc343d79e72681658b20b76",
       "version_major": 2,
       "version_minor": 0
      },
      "text/plain": [
       "- limit=1 5: 0.00 row [00:00, ? row/s]"
      ]
     },
     "metadata": {},
     "output_type": "display_data"
    },
    {
     "name": "stderr",
     "output_type": "stream",
     "text": [
      "2025-03-29 23:25:20,675\tINFO streaming_executor.py:108 -- Starting execution of Dataset. Full logs are in /tmp/ray/session_2025-03-29_23-20-21_071722_922/logs/ray-data\n",
      "2025-03-29 23:25:20,675\tINFO streaming_executor.py:109 -- Execution plan of Dataset: InputDataBuffer[Input] -> TaskPoolMapOperator[Map(<lambda>)]\n"
     ]
    },
    {
     "data": {
      "application/vnd.jupyter.widget-view+json": {
       "model_id": "d6d717cf19c24d0aa2449c5f67ce56b3",
       "version_major": 2,
       "version_minor": 0
      },
      "text/plain": [
       "Running 0: 0.00 row [00:00, ? row/s]"
      ]
     },
     "metadata": {},
     "output_type": "display_data"
    },
    {
     "data": {
      "application/vnd.jupyter.widget-view+json": {
       "model_id": "a5201083a2194cd58fb86b34d2e6ee54",
       "version_major": 2,
       "version_minor": 0
      },
      "text/plain": [
       "- Map(<lambda>) 1: 0.00 row [00:00, ? row/s]"
      ]
     },
     "metadata": {},
     "output_type": "display_data"
    },
    {
     "name": "stderr",
     "output_type": "stream",
     "text": [
      "2025-03-29 23:25:21,023\tINFO streaming_executor.py:108 -- Starting execution of Dataset. Full logs are in /tmp/ray/session_2025-03-29_23-20-21_071722_922/logs/ray-data\n",
      "2025-03-29 23:25:21,024\tINFO streaming_executor.py:109 -- Execution plan of Dataset: InputDataBuffer[Input] -> TaskPoolMapOperator[Map(<lambda>)]\n"
     ]
    },
    {
     "data": {
      "application/vnd.jupyter.widget-view+json": {
       "model_id": "d70b7783f4af43a4a4fca4b0a07e70a9",
       "version_major": 2,
       "version_minor": 0
      },
      "text/plain": [
       "Running 0: 0.00 row [00:00, ? row/s]"
      ]
     },
     "metadata": {},
     "output_type": "display_data"
    },
    {
     "data": {
      "application/vnd.jupyter.widget-view+json": {
       "model_id": "e6d27d66ff9c489f810e8fa492479834",
       "version_major": 2,
       "version_minor": 0
      },
      "text/plain": [
       "- Map(<lambda>) 1: 0.00 row [00:00, ? row/s]"
      ]
     },
     "metadata": {},
     "output_type": "display_data"
    },
    {
     "data": {
      "text/html": [
       "<pre style=\"white-space:pre;overflow-x:auto;line-height:normal;font-family:Menlo,'DejaVu Sans Mono',consolas,'Courier New',monospace\"><span style=\"color: #7fbfbf; text-decoration-color: #7fbfbf\">[03/29/25 23:25:21] </span><span style=\"color: #0069ff; text-decoration-color: #0069ff; font-weight: bold\">INFO    </span> Saving dataset to file took <span style=\"color: #008080; text-decoration-color: #008080; font-weight: bold\">0.68</span> seconds.                              <a href=\"file:///opt/conda/lib/python3.11/site-packages/fmeval/perf_util.py\" target=\"_blank\"><span style=\"color: #7f7f7f; text-decoration-color: #7f7f7f\">perf_util.py</span></a><span style=\"color: #7f7f7f; text-decoration-color: #7f7f7f\">:</span><a href=\"file:///opt/conda/lib/python3.11/site-packages/fmeval/perf_util.py#18\" target=\"_blank\"><span style=\"color: #7f7f7f; text-decoration-color: #7f7f7f\">18</span></a>\n",
       "</pre>\n"
      ],
      "text/plain": [
       "\u001b[2;36m[03/29/25 23:25:21]\u001b[0m\u001b[2;36m \u001b[0m\u001b[1;38;2;0;105;255mINFO    \u001b[0m Saving dataset to file took \u001b[1;36m0.68\u001b[0m seconds.                              \u001b]8;id=156362;file:///opt/conda/lib/python3.11/site-packages/fmeval/perf_util.py\u001b\\\u001b[2mperf_util.py\u001b[0m\u001b]8;;\u001b\\\u001b[2m:\u001b[0m\u001b]8;id=44888;file:///opt/conda/lib/python3.11/site-packages/fmeval/perf_util.py#18\u001b\\\u001b[2m18\u001b[0m\u001b]8;;\u001b\\\n"
      ]
     },
     "metadata": {},
     "output_type": "display_data"
    },
    {
     "data": {
      "text/html": [
       "<pre style=\"white-space:pre;overflow-x:auto;line-height:normal;font-family:Menlo,'DejaVu Sans Mono',consolas,'Courier New',monospace\"><span style=\"color: #7fbfbf; text-decoration-color: #7fbfbf\">                    </span><span style=\"color: #0069ff; text-decoration-color: #0069ff; font-weight: bold\">INFO    </span> ===================================================                    <a href=\"file:///opt/conda/lib/python3.11/site-packages/fmeval/perf_util.py\" target=\"_blank\"><span style=\"color: #7f7f7f; text-decoration-color: #7f7f7f\">perf_util.py</span></a><span style=\"color: #7f7f7f; text-decoration-color: #7f7f7f\">:</span><a href=\"file:///opt/conda/lib/python3.11/site-packages/fmeval/perf_util.py#19\" target=\"_blank\"><span style=\"color: #7f7f7f; text-decoration-color: #7f7f7f\">19</span></a>\n",
       "</pre>\n"
      ],
      "text/plain": [
       "\u001b[2;36m                   \u001b[0m\u001b[2;36m \u001b[0m\u001b[1;38;2;0;105;255mINFO    \u001b[0m ===================================================                    \u001b]8;id=696510;file:///opt/conda/lib/python3.11/site-packages/fmeval/perf_util.py\u001b\\\u001b[2mperf_util.py\u001b[0m\u001b]8;;\u001b\\\u001b[2m:\u001b[0m\u001b]8;id=831386;file:///opt/conda/lib/python3.11/site-packages/fmeval/perf_util.py#19\u001b\\\u001b[2m19\u001b[0m\u001b]8;;\u001b\\\n"
      ]
     },
     "metadata": {},
     "output_type": "display_data"
    },
    {
     "data": {
      "text/html": [
       "<pre style=\"white-space:pre;overflow-x:auto;line-height:normal;font-family:Menlo,'DejaVu Sans Mono',consolas,'Courier New',monospace\"><span style=\"color: #7fbfbf; text-decoration-color: #7fbfbf\">                    </span><span style=\"color: #0069ff; text-decoration-color: #0069ff; font-weight: bold\">INFO    </span> Computing score and aggregation on dataset trex_sample took <span style=\"color: #008080; text-decoration-color: #008080; font-weight: bold\">67.89</span>      <a href=\"file:///opt/conda/lib/python3.11/site-packages/fmeval/perf_util.py\" target=\"_blank\"><span style=\"color: #7f7f7f; text-decoration-color: #7f7f7f\">perf_util.py</span></a><span style=\"color: #7f7f7f; text-decoration-color: #7f7f7f\">:</span><a href=\"file:///opt/conda/lib/python3.11/site-packages/fmeval/perf_util.py#18\" target=\"_blank\"><span style=\"color: #7f7f7f; text-decoration-color: #7f7f7f\">18</span></a>\n",
       "<span style=\"color: #7fbfbf; text-decoration-color: #7fbfbf\">                    </span>         seconds.                                                               <span style=\"color: #7f7f7f; text-decoration-color: #7f7f7f\">               </span>\n",
       "</pre>\n"
      ],
      "text/plain": [
       "\u001b[2;36m                   \u001b[0m\u001b[2;36m \u001b[0m\u001b[1;38;2;0;105;255mINFO    \u001b[0m Computing score and aggregation on dataset trex_sample took \u001b[1;36m67.89\u001b[0m      \u001b]8;id=40249;file:///opt/conda/lib/python3.11/site-packages/fmeval/perf_util.py\u001b\\\u001b[2mperf_util.py\u001b[0m\u001b]8;;\u001b\\\u001b[2m:\u001b[0m\u001b]8;id=79922;file:///opt/conda/lib/python3.11/site-packages/fmeval/perf_util.py#18\u001b\\\u001b[2m18\u001b[0m\u001b]8;;\u001b\\\n",
       "\u001b[2;36m                    \u001b[0m         seconds.                                                               \u001b[2m               \u001b[0m\n"
      ]
     },
     "metadata": {},
     "output_type": "display_data"
    },
    {
     "data": {
      "text/html": [
       "<pre style=\"white-space:pre;overflow-x:auto;line-height:normal;font-family:Menlo,'DejaVu Sans Mono',consolas,'Courier New',monospace\"><span style=\"color: #7fbfbf; text-decoration-color: #7fbfbf\">                    </span><span style=\"color: #0069ff; text-decoration-color: #0069ff; font-weight: bold\">INFO    </span> ===================================================                    <a href=\"file:///opt/conda/lib/python3.11/site-packages/fmeval/perf_util.py\" target=\"_blank\"><span style=\"color: #7f7f7f; text-decoration-color: #7f7f7f\">perf_util.py</span></a><span style=\"color: #7f7f7f; text-decoration-color: #7f7f7f\">:</span><a href=\"file:///opt/conda/lib/python3.11/site-packages/fmeval/perf_util.py#19\" target=\"_blank\"><span style=\"color: #7f7f7f; text-decoration-color: #7f7f7f\">19</span></a>\n",
       "</pre>\n"
      ],
      "text/plain": [
       "\u001b[2;36m                   \u001b[0m\u001b[2;36m \u001b[0m\u001b[1;38;2;0;105;255mINFO    \u001b[0m ===================================================                    \u001b]8;id=248490;file:///opt/conda/lib/python3.11/site-packages/fmeval/perf_util.py\u001b\\\u001b[2mperf_util.py\u001b[0m\u001b]8;;\u001b\\\u001b[2m:\u001b[0m\u001b]8;id=785523;file:///opt/conda/lib/python3.11/site-packages/fmeval/perf_util.py#19\u001b\\\u001b[2m19\u001b[0m\u001b]8;;\u001b\\\n"
      ]
     },
     "metadata": {},
     "output_type": "display_data"
    },
    {
     "name": "stderr",
     "output_type": "stream",
     "text": [
      "/opt/conda/lib/python3.11/site-packages/mlflow/data/dataset_source_registry.py:149: UserWarning: Failed to determine whether UCVolumeDatasetSource can resolve source information for 'datasets/trex_sample.jsonl'. Exception: \n",
      "  return _dataset_source_registry.resolve(\n",
      "/opt/conda/lib/python3.11/site-packages/mlflow/data/dataset_source_registry.py:149: UserWarning: The specified dataset source can be interpreted in multiple ways: LocalArtifactDatasetSource, LocalArtifactDatasetSource. MLflow will assume that this is a LocalArtifactDatasetSource source.\n",
      "  return _dataset_source_registry.resolve(\n",
      "/opt/conda/lib/python3.11/site-packages/mlflow/data/dataset_source_registry.py:149: UserWarning: Failed to determine whether UCVolumeDatasetSource can resolve source information for '/tmp/eval_results/factual_knowledge_trex_sample.jsonl'. Exception: \n",
      "  return _dataset_source_registry.resolve(\n",
      "/opt/conda/lib/python3.11/site-packages/mlflow/data/dataset_source_registry.py:149: UserWarning: The specified dataset source can be interpreted in multiple ways: LocalArtifactDatasetSource, LocalArtifactDatasetSource. MLflow will assume that this is a LocalArtifactDatasetSource source.\n",
      "  return _dataset_source_registry.resolve(\n",
      "2025-03-29 23:25:31,183\tINFO streaming_executor.py:108 -- Starting execution of Dataset. Full logs are in /tmp/ray/session_2025-03-29_23-20-21_071722_922/logs/ray-data\n",
      "2025-03-29 23:25:31,184\tINFO streaming_executor.py:109 -- Execution plan of Dataset: InputDataBuffer[Input] -> TaskPoolMapOperator[ReadCustomJSON] -> AggregateNumRows[AggregateNumRows]\n"
     ]
    },
    {
     "data": {
      "application/vnd.jupyter.widget-view+json": {
       "model_id": "010c3bf5a34a42258dab357fea0f81f0",
       "version_major": 2,
       "version_minor": 0
      },
      "text/plain": [
       "Running 0: 0.00 row [00:00, ? row/s]"
      ]
     },
     "metadata": {},
     "output_type": "display_data"
    },
    {
     "data": {
      "application/vnd.jupyter.widget-view+json": {
       "model_id": "42c534b55f1f4cbd8b6bf08dfcbb8abd",
       "version_major": 2,
       "version_minor": 0
      },
      "text/plain": [
       "- ReadCustomJSON->SplitBlocks(96) 1: 0.00 row [00:00, ? row/s]"
      ]
     },
     "metadata": {},
     "output_type": "display_data"
    },
    {
     "data": {
      "application/vnd.jupyter.widget-view+json": {
       "model_id": "8e52856f84c8453785c3fb62ba531591",
       "version_major": 2,
       "version_minor": 0
      },
      "text/plain": [
       "- AggregateNumRows 2: 0.00 row [00:00, ? row/s]"
      ]
     },
     "metadata": {},
     "output_type": "display_data"
    },
    {
     "name": "stderr",
     "output_type": "stream",
     "text": [
      "2025-03-29 23:25:31,289\tINFO streaming_executor.py:108 -- Starting execution of Dataset. Full logs are in /tmp/ray/session_2025-03-29_23-20-21_071722_922/logs/ray-data\n",
      "2025-03-29 23:25:31,290\tINFO streaming_executor.py:109 -- Execution plan of Dataset: InputDataBuffer[Input] -> TaskPoolMapOperator[ReadCustomJSON]\n"
     ]
    },
    {
     "data": {
      "application/vnd.jupyter.widget-view+json": {
       "model_id": "5d36530c3ca149c3b80cd57fd747a9db",
       "version_major": 2,
       "version_minor": 0
      },
      "text/plain": [
       "Running 0: 0.00 row [00:00, ? row/s]"
      ]
     },
     "metadata": {},
     "output_type": "display_data"
    },
    {
     "data": {
      "application/vnd.jupyter.widget-view+json": {
       "model_id": "0c4450b4ea9749ef847f7f334a27e1c8",
       "version_major": 2,
       "version_minor": 0
      },
      "text/plain": [
       "- ReadCustomJSON->SplitBlocks(96) 1: 0.00 row [00:00, ? row/s]"
      ]
     },
     "metadata": {},
     "output_type": "display_data"
    },
    {
     "name": "stderr",
     "output_type": "stream",
     "text": [
      "2025-03-29 23:25:31,400\tINFO streaming_executor.py:108 -- Starting execution of Dataset. Full logs are in /tmp/ray/session_2025-03-29_23-20-21_071722_922/logs/ray-data\n",
      "2025-03-29 23:25:31,400\tINFO streaming_executor.py:109 -- Execution plan of Dataset: InputDataBuffer[Input] -> AllToAllOperator[Repartition]\n"
     ]
    },
    {
     "data": {
      "application/vnd.jupyter.widget-view+json": {
       "model_id": "e0acf562897a43699360a7395e8f2cfe",
       "version_major": 2,
       "version_minor": 0
      },
      "text/plain": [
       "Running 0: 0.00 row [00:00, ? row/s]"
      ]
     },
     "metadata": {},
     "output_type": "display_data"
    },
    {
     "data": {
      "application/vnd.jupyter.widget-view+json": {
       "model_id": "2ede0836d2644dc9bc558b698e84f88a",
       "version_major": 2,
       "version_minor": 0
      },
      "text/plain": [
       "- Repartition 1: 0.00 row [00:00, ? row/s]"
      ]
     },
     "metadata": {},
     "output_type": "display_data"
    },
    {
     "data": {
      "application/vnd.jupyter.widget-view+json": {
       "model_id": "72f6c98500114a74a0f79362cda6f806",
       "version_major": 2,
       "version_minor": 0
      },
      "text/plain": [
       "Split Repartition 2:   0%|          | 0.00/1.00 [00:00<?, ? row/s]"
      ]
     },
     "metadata": {},
     "output_type": "display_data"
    },
    {
     "data": {
      "text/html": [
       "<pre style=\"white-space:pre;overflow-x:auto;line-height:normal;font-family:Menlo,'DejaVu Sans Mono',consolas,'Courier New',monospace\"><span style=\"color: #7fbfbf; text-decoration-color: #7fbfbf\">[03/29/25 23:25:31] </span><span style=\"color: #0069ff; text-decoration-color: #0069ff; font-weight: bold\">INFO    </span> Loading dataset toxicity_sample took <span style=\"color: #008080; text-decoration-color: #008080; font-weight: bold\">0.36</span> seconds.                     <a href=\"file:///opt/conda/lib/python3.11/site-packages/fmeval/perf_util.py\" target=\"_blank\"><span style=\"color: #7f7f7f; text-decoration-color: #7f7f7f\">perf_util.py</span></a><span style=\"color: #7f7f7f; text-decoration-color: #7f7f7f\">:</span><a href=\"file:///opt/conda/lib/python3.11/site-packages/fmeval/perf_util.py#18\" target=\"_blank\"><span style=\"color: #7f7f7f; text-decoration-color: #7f7f7f\">18</span></a>\n",
       "</pre>\n"
      ],
      "text/plain": [
       "\u001b[2;36m[03/29/25 23:25:31]\u001b[0m\u001b[2;36m \u001b[0m\u001b[1;38;2;0;105;255mINFO    \u001b[0m Loading dataset toxicity_sample took \u001b[1;36m0.36\u001b[0m seconds.                     \u001b]8;id=508245;file:///opt/conda/lib/python3.11/site-packages/fmeval/perf_util.py\u001b\\\u001b[2mperf_util.py\u001b[0m\u001b]8;;\u001b\\\u001b[2m:\u001b[0m\u001b]8;id=747048;file:///opt/conda/lib/python3.11/site-packages/fmeval/perf_util.py#18\u001b\\\u001b[2m18\u001b[0m\u001b]8;;\u001b\\\n"
      ]
     },
     "metadata": {},
     "output_type": "display_data"
    },
    {
     "data": {
      "text/html": [
       "<pre style=\"white-space:pre;overflow-x:auto;line-height:normal;font-family:Menlo,'DejaVu Sans Mono',consolas,'Courier New',monospace\"><span style=\"color: #7fbfbf; text-decoration-color: #7fbfbf\">                    </span><span style=\"color: #0069ff; text-decoration-color: #0069ff; font-weight: bold\">INFO    </span> ===================================================                    <a href=\"file:///opt/conda/lib/python3.11/site-packages/fmeval/perf_util.py\" target=\"_blank\"><span style=\"color: #7f7f7f; text-decoration-color: #7f7f7f\">perf_util.py</span></a><span style=\"color: #7f7f7f; text-decoration-color: #7f7f7f\">:</span><a href=\"file:///opt/conda/lib/python3.11/site-packages/fmeval/perf_util.py#19\" target=\"_blank\"><span style=\"color: #7f7f7f; text-decoration-color: #7f7f7f\">19</span></a>\n",
       "</pre>\n"
      ],
      "text/plain": [
       "\u001b[2;36m                   \u001b[0m\u001b[2;36m \u001b[0m\u001b[1;38;2;0;105;255mINFO    \u001b[0m ===================================================                    \u001b]8;id=976065;file:///opt/conda/lib/python3.11/site-packages/fmeval/perf_util.py\u001b\\\u001b[2mperf_util.py\u001b[0m\u001b]8;;\u001b\\\u001b[2m:\u001b[0m\u001b]8;id=100479;file:///opt/conda/lib/python3.11/site-packages/fmeval/perf_util.py#19\u001b\\\u001b[2m19\u001b[0m\u001b]8;;\u001b\\\n"
      ]
     },
     "metadata": {},
     "output_type": "display_data"
    },
    {
     "name": "stderr",
     "output_type": "stream",
     "text": [
      "2025-03-29 23:25:31,543\tINFO streaming_executor.py:108 -- Starting execution of Dataset. Full logs are in /tmp/ray/session_2025-03-29_23-20-21_071722_922/logs/ray-data\n",
      "2025-03-29 23:25:31,543\tINFO streaming_executor.py:109 -- Execution plan of Dataset: InputDataBuffer[Input] -> ActorPoolMapOperator[Map(GeneratePrompt)]\n"
     ]
    },
    {
     "data": {
      "application/vnd.jupyter.widget-view+json": {
       "model_id": "b90c72b534cd4b0cb256140b3f93b411",
       "version_major": 2,
       "version_minor": 0
      },
      "text/plain": [
       "Running 0: 0.00 row [00:00, ? row/s]"
      ]
     },
     "metadata": {},
     "output_type": "display_data"
    },
    {
     "data": {
      "application/vnd.jupyter.widget-view+json": {
       "model_id": "e72884f4ae8f429dab7f8faac9757ffe",
       "version_major": 2,
       "version_minor": 0
      },
      "text/plain": [
       "- Map(GeneratePrompt) 1: 0.00 row [00:00, ? row/s]"
      ]
     },
     "metadata": {},
     "output_type": "display_data"
    },
    {
     "name": "stderr",
     "output_type": "stream",
     "text": [
      "2025-03-29 23:25:40,738\tINFO streaming_executor.py:108 -- Starting execution of Dataset. Full logs are in /tmp/ray/session_2025-03-29_23-20-21_071722_922/logs/ray-data\n",
      "2025-03-29 23:25:40,738\tINFO streaming_executor.py:109 -- Execution plan of Dataset: InputDataBuffer[Input] -> ActorPoolMapOperator[Map(GetModelOutputs)]\n"
     ]
    },
    {
     "data": {
      "application/vnd.jupyter.widget-view+json": {
       "model_id": "c03173381b154baeb74089e14971e0bc",
       "version_major": 2,
       "version_minor": 0
      },
      "text/plain": [
       "Running 0: 0.00 row [00:00, ? row/s]"
      ]
     },
     "metadata": {},
     "output_type": "display_data"
    },
    {
     "data": {
      "application/vnd.jupyter.widget-view+json": {
       "model_id": "052952f34deb4b7c8d244d3cbf633ec7",
       "version_major": 2,
       "version_minor": 0
      },
      "text/plain": [
       "- Map(GetModelOutputs) 1: 0.00 row [00:00, ? row/s]"
      ]
     },
     "metadata": {},
     "output_type": "display_data"
    },
    {
     "name": "stderr",
     "output_type": "stream",
     "text": [
      "2025-03-29 23:26:12,888\tINFO streaming_executor.py:108 -- Starting execution of Dataset. Full logs are in /tmp/ray/session_2025-03-29_23-20-21_071722_922/logs/ray-data\n",
      "2025-03-29 23:26:12,889\tINFO streaming_executor.py:109 -- Execution plan of Dataset: InputDataBuffer[Input] -> ActorPoolMapOperator[MapBatches(ToxicityScores)]\n"
     ]
    },
    {
     "data": {
      "application/vnd.jupyter.widget-view+json": {
       "model_id": "d98e75673df84ab79affeb06d724ae5c",
       "version_major": 2,
       "version_minor": 0
      },
      "text/plain": [
       "Running 0: 0.00 row [00:00, ? row/s]"
      ]
     },
     "metadata": {},
     "output_type": "display_data"
    },
    {
     "data": {
      "application/vnd.jupyter.widget-view+json": {
       "model_id": "7ffc28b4505940df8558f61529a911db",
       "version_major": 2,
       "version_minor": 0
      },
      "text/plain": [
       "- MapBatches(ToxicityScores) 1: 0.00 row [00:00, ? row/s]"
      ]
     },
     "metadata": {},
     "output_type": "display_data"
    },
    {
     "name": "stderr",
     "output_type": "stream",
     "text": [
      "2025-03-29 23:26:35,776\tINFO streaming_executor.py:108 -- Starting execution of Dataset. Full logs are in /tmp/ray/session_2025-03-29_23-20-21_071722_922/logs/ray-data\n",
      "2025-03-29 23:26:35,776\tINFO streaming_executor.py:109 -- Execution plan of Dataset: InputDataBuffer[Input] -> AllToAllOperator[Aggregate] -> LimitOperator[limit=1]\n"
     ]
    },
    {
     "data": {
      "application/vnd.jupyter.widget-view+json": {
       "model_id": "dc96c9293a174bf2bcf013f843f46859",
       "version_major": 2,
       "version_minor": 0
      },
      "text/plain": [
       "Running 0: 0.00 row [00:00, ? row/s]"
      ]
     },
     "metadata": {},
     "output_type": "display_data"
    },
    {
     "data": {
      "application/vnd.jupyter.widget-view+json": {
       "model_id": "8a2bdd5a44f74cc09b74ba069b78e59d",
       "version_major": 2,
       "version_minor": 0
      },
      "text/plain": [
       "- Aggregate 1: 0.00 row [00:00, ? row/s]"
      ]
     },
     "metadata": {},
     "output_type": "display_data"
    },
    {
     "data": {
      "application/vnd.jupyter.widget-view+json": {
       "model_id": "61ef7f65b2434185ba6636991cda0fc5",
       "version_major": 2,
       "version_minor": 0
      },
      "text/plain": [
       "Sort Sample 2:   0%|          | 0.00/1.00 [00:00<?, ? row/s]"
      ]
     },
     "metadata": {},
     "output_type": "display_data"
    },
    {
     "data": {
      "application/vnd.jupyter.widget-view+json": {
       "model_id": "2fab888fe9504dada17840fa21598b0c",
       "version_major": 2,
       "version_minor": 0
      },
      "text/plain": [
       "Shuffle Map 3:   0%|          | 0.00/1.00 [00:00<?, ? row/s]"
      ]
     },
     "metadata": {},
     "output_type": "display_data"
    },
    {
     "data": {
      "application/vnd.jupyter.widget-view+json": {
       "model_id": "9e80799452844999b3c3ab675bbe465c",
       "version_major": 2,
       "version_minor": 0
      },
      "text/plain": [
       "Shuffle Reduce 4:   0%|          | 0.00/1.00 [00:00<?, ? row/s]"
      ]
     },
     "metadata": {},
     "output_type": "display_data"
    },
    {
     "data": {
      "application/vnd.jupyter.widget-view+json": {
       "model_id": "ff0305d5060d4ae68d95234946f40f9e",
       "version_major": 2,
       "version_minor": 0
      },
      "text/plain": [
       "- limit=1 5: 0.00 row [00:00, ? row/s]"
      ]
     },
     "metadata": {},
     "output_type": "display_data"
    },
    {
     "name": "stderr",
     "output_type": "stream",
     "text": [
      "2025-03-29 23:26:35,840\tINFO streaming_executor.py:108 -- Starting execution of Dataset. Full logs are in /tmp/ray/session_2025-03-29_23-20-21_071722_922/logs/ray-data\n",
      "2025-03-29 23:26:35,840\tINFO streaming_executor.py:109 -- Execution plan of Dataset: InputDataBuffer[Input] -> AllToAllOperator[Aggregate] -> LimitOperator[limit=1]\n"
     ]
    },
    {
     "data": {
      "application/vnd.jupyter.widget-view+json": {
       "model_id": "65e054f2ca504087a4047165af3aa803",
       "version_major": 2,
       "version_minor": 0
      },
      "text/plain": [
       "Running 0: 0.00 row [00:00, ? row/s]"
      ]
     },
     "metadata": {},
     "output_type": "display_data"
    },
    {
     "data": {
      "application/vnd.jupyter.widget-view+json": {
       "model_id": "9d227979b6fe40768f85cee00f956e00",
       "version_major": 2,
       "version_minor": 0
      },
      "text/plain": [
       "- Aggregate 1: 0.00 row [00:00, ? row/s]"
      ]
     },
     "metadata": {},
     "output_type": "display_data"
    },
    {
     "data": {
      "application/vnd.jupyter.widget-view+json": {
       "model_id": "08bab335f1d448a4889971990e7ed374",
       "version_major": 2,
       "version_minor": 0
      },
      "text/plain": [
       "Sort Sample 2:   0%|          | 0.00/1.00 [00:00<?, ? row/s]"
      ]
     },
     "metadata": {},
     "output_type": "display_data"
    },
    {
     "data": {
      "application/vnd.jupyter.widget-view+json": {
       "model_id": "8dd36fc031804e94aa0181e517956344",
       "version_major": 2,
       "version_minor": 0
      },
      "text/plain": [
       "Shuffle Map 3:   0%|          | 0.00/1.00 [00:00<?, ? row/s]"
      ]
     },
     "metadata": {},
     "output_type": "display_data"
    },
    {
     "data": {
      "application/vnd.jupyter.widget-view+json": {
       "model_id": "504cb2425bef40adb81693b0b31713ec",
       "version_major": 2,
       "version_minor": 0
      },
      "text/plain": [
       "Shuffle Reduce 4:   0%|          | 0.00/1.00 [00:00<?, ? row/s]"
      ]
     },
     "metadata": {},
     "output_type": "display_data"
    },
    {
     "data": {
      "application/vnd.jupyter.widget-view+json": {
       "model_id": "73d104a71ea74c5f90a60131736577c7",
       "version_major": 2,
       "version_minor": 0
      },
      "text/plain": [
       "- limit=1 5: 0.00 row [00:00, ? row/s]"
      ]
     },
     "metadata": {},
     "output_type": "display_data"
    },
    {
     "name": "stderr",
     "output_type": "stream",
     "text": [
      "2025-03-29 23:26:35,904\tINFO streaming_executor.py:108 -- Starting execution of Dataset. Full logs are in /tmp/ray/session_2025-03-29_23-20-21_071722_922/logs/ray-data\n",
      "2025-03-29 23:26:35,904\tINFO streaming_executor.py:109 -- Execution plan of Dataset: InputDataBuffer[Input] -> AllToAllOperator[Aggregate] -> LimitOperator[limit=1]\n"
     ]
    },
    {
     "data": {
      "application/vnd.jupyter.widget-view+json": {
       "model_id": "8fe0da8d6f784690bd52251e6633a093",
       "version_major": 2,
       "version_minor": 0
      },
      "text/plain": [
       "Running 0: 0.00 row [00:00, ? row/s]"
      ]
     },
     "metadata": {},
     "output_type": "display_data"
    },
    {
     "data": {
      "application/vnd.jupyter.widget-view+json": {
       "model_id": "cb6a778c9e5e4fd0aa4e402c7ae86c7d",
       "version_major": 2,
       "version_minor": 0
      },
      "text/plain": [
       "- Aggregate 1: 0.00 row [00:00, ? row/s]"
      ]
     },
     "metadata": {},
     "output_type": "display_data"
    },
    {
     "data": {
      "application/vnd.jupyter.widget-view+json": {
       "model_id": "dfd6a2d811a6484591ee25d6b485481e",
       "version_major": 2,
       "version_minor": 0
      },
      "text/plain": [
       "Sort Sample 2:   0%|          | 0.00/1.00 [00:00<?, ? row/s]"
      ]
     },
     "metadata": {},
     "output_type": "display_data"
    },
    {
     "data": {
      "application/vnd.jupyter.widget-view+json": {
       "model_id": "120f00cce4c74936b84d0e9866c1c646",
       "version_major": 2,
       "version_minor": 0
      },
      "text/plain": [
       "Shuffle Map 3:   0%|          | 0.00/1.00 [00:00<?, ? row/s]"
      ]
     },
     "metadata": {},
     "output_type": "display_data"
    },
    {
     "data": {
      "application/vnd.jupyter.widget-view+json": {
       "model_id": "b7fae23cda384ca9a8f381100b600daf",
       "version_major": 2,
       "version_minor": 0
      },
      "text/plain": [
       "Shuffle Reduce 4:   0%|          | 0.00/1.00 [00:00<?, ? row/s]"
      ]
     },
     "metadata": {},
     "output_type": "display_data"
    },
    {
     "data": {
      "application/vnd.jupyter.widget-view+json": {
       "model_id": "933211abcc1b4e548737a58f76553601",
       "version_major": 2,
       "version_minor": 0
      },
      "text/plain": [
       "- limit=1 5: 0.00 row [00:00, ? row/s]"
      ]
     },
     "metadata": {},
     "output_type": "display_data"
    },
    {
     "name": "stderr",
     "output_type": "stream",
     "text": [
      "2025-03-29 23:26:35,967\tINFO streaming_executor.py:108 -- Starting execution of Dataset. Full logs are in /tmp/ray/session_2025-03-29_23-20-21_071722_922/logs/ray-data\n",
      "2025-03-29 23:26:35,967\tINFO streaming_executor.py:109 -- Execution plan of Dataset: InputDataBuffer[Input] -> AllToAllOperator[Aggregate] -> LimitOperator[limit=1]\n"
     ]
    },
    {
     "data": {
      "application/vnd.jupyter.widget-view+json": {
       "model_id": "39c3eee145cb4382b2a159b0d59c12de",
       "version_major": 2,
       "version_minor": 0
      },
      "text/plain": [
       "Running 0: 0.00 row [00:00, ? row/s]"
      ]
     },
     "metadata": {},
     "output_type": "display_data"
    },
    {
     "data": {
      "application/vnd.jupyter.widget-view+json": {
       "model_id": "2b8fb9efc22d4d1ea6d5de2766b11b91",
       "version_major": 2,
       "version_minor": 0
      },
      "text/plain": [
       "- Aggregate 1: 0.00 row [00:00, ? row/s]"
      ]
     },
     "metadata": {},
     "output_type": "display_data"
    },
    {
     "data": {
      "application/vnd.jupyter.widget-view+json": {
       "model_id": "81596fca860348058f2a4d26e6f97648",
       "version_major": 2,
       "version_minor": 0
      },
      "text/plain": [
       "Sort Sample 2:   0%|          | 0.00/1.00 [00:00<?, ? row/s]"
      ]
     },
     "metadata": {},
     "output_type": "display_data"
    },
    {
     "data": {
      "application/vnd.jupyter.widget-view+json": {
       "model_id": "262d3b916daa4fb19edf4378d5340fa8",
       "version_major": 2,
       "version_minor": 0
      },
      "text/plain": [
       "Shuffle Map 3:   0%|          | 0.00/1.00 [00:00<?, ? row/s]"
      ]
     },
     "metadata": {},
     "output_type": "display_data"
    },
    {
     "data": {
      "application/vnd.jupyter.widget-view+json": {
       "model_id": "b4b295b00c384e62859bc80480704c08",
       "version_major": 2,
       "version_minor": 0
      },
      "text/plain": [
       "Shuffle Reduce 4:   0%|          | 0.00/1.00 [00:00<?, ? row/s]"
      ]
     },
     "metadata": {},
     "output_type": "display_data"
    },
    {
     "data": {
      "application/vnd.jupyter.widget-view+json": {
       "model_id": "23327d2d33074fddbcd0bb4e445ec700",
       "version_major": 2,
       "version_minor": 0
      },
      "text/plain": [
       "- limit=1 5: 0.00 row [00:00, ? row/s]"
      ]
     },
     "metadata": {},
     "output_type": "display_data"
    },
    {
     "name": "stderr",
     "output_type": "stream",
     "text": [
      "2025-03-29 23:26:36,029\tINFO streaming_executor.py:108 -- Starting execution of Dataset. Full logs are in /tmp/ray/session_2025-03-29_23-20-21_071722_922/logs/ray-data\n",
      "2025-03-29 23:26:36,030\tINFO streaming_executor.py:109 -- Execution plan of Dataset: InputDataBuffer[Input] -> AllToAllOperator[Aggregate] -> LimitOperator[limit=1]\n"
     ]
    },
    {
     "data": {
      "application/vnd.jupyter.widget-view+json": {
       "model_id": "3acf7401dd9e4438ab29207ba8d1903e",
       "version_major": 2,
       "version_minor": 0
      },
      "text/plain": [
       "Running 0: 0.00 row [00:00, ? row/s]"
      ]
     },
     "metadata": {},
     "output_type": "display_data"
    },
    {
     "data": {
      "application/vnd.jupyter.widget-view+json": {
       "model_id": "4f7ca0891b8c4ccca5ff67f1e71958e9",
       "version_major": 2,
       "version_minor": 0
      },
      "text/plain": [
       "- Aggregate 1: 0.00 row [00:00, ? row/s]"
      ]
     },
     "metadata": {},
     "output_type": "display_data"
    },
    {
     "data": {
      "application/vnd.jupyter.widget-view+json": {
       "model_id": "d8bf94e921314bf9a96c1d6fc051c52d",
       "version_major": 2,
       "version_minor": 0
      },
      "text/plain": [
       "Sort Sample 2:   0%|          | 0.00/1.00 [00:00<?, ? row/s]"
      ]
     },
     "metadata": {},
     "output_type": "display_data"
    },
    {
     "data": {
      "application/vnd.jupyter.widget-view+json": {
       "model_id": "15c5003d206743a99b454cb41bebbbbe",
       "version_major": 2,
       "version_minor": 0
      },
      "text/plain": [
       "Shuffle Map 3:   0%|          | 0.00/1.00 [00:00<?, ? row/s]"
      ]
     },
     "metadata": {},
     "output_type": "display_data"
    },
    {
     "data": {
      "application/vnd.jupyter.widget-view+json": {
       "model_id": "388f0802ae324d5a960cf3520d0f53ce",
       "version_major": 2,
       "version_minor": 0
      },
      "text/plain": [
       "Shuffle Reduce 4:   0%|          | 0.00/1.00 [00:00<?, ? row/s]"
      ]
     },
     "metadata": {},
     "output_type": "display_data"
    },
    {
     "data": {
      "application/vnd.jupyter.widget-view+json": {
       "model_id": "e42c86a49c4741b0a9d1d1ac2cedcc39",
       "version_major": 2,
       "version_minor": 0
      },
      "text/plain": [
       "- limit=1 5: 0.00 row [00:00, ? row/s]"
      ]
     },
     "metadata": {},
     "output_type": "display_data"
    },
    {
     "name": "stderr",
     "output_type": "stream",
     "text": [
      "2025-03-29 23:26:36,093\tINFO streaming_executor.py:108 -- Starting execution of Dataset. Full logs are in /tmp/ray/session_2025-03-29_23-20-21_071722_922/logs/ray-data\n",
      "2025-03-29 23:26:36,093\tINFO streaming_executor.py:109 -- Execution plan of Dataset: InputDataBuffer[Input] -> AllToAllOperator[Aggregate] -> LimitOperator[limit=1]\n"
     ]
    },
    {
     "data": {
      "application/vnd.jupyter.widget-view+json": {
       "model_id": "105704304dca4d83ae50138c189b9000",
       "version_major": 2,
       "version_minor": 0
      },
      "text/plain": [
       "Running 0: 0.00 row [00:00, ? row/s]"
      ]
     },
     "metadata": {},
     "output_type": "display_data"
    },
    {
     "data": {
      "application/vnd.jupyter.widget-view+json": {
       "model_id": "36d03b10d3744f9f9d24628c7fe8726e",
       "version_major": 2,
       "version_minor": 0
      },
      "text/plain": [
       "- Aggregate 1: 0.00 row [00:00, ? row/s]"
      ]
     },
     "metadata": {},
     "output_type": "display_data"
    },
    {
     "data": {
      "application/vnd.jupyter.widget-view+json": {
       "model_id": "f5d194cf1cfd4ff8a72e0b1ea987112d",
       "version_major": 2,
       "version_minor": 0
      },
      "text/plain": [
       "Sort Sample 2:   0%|          | 0.00/1.00 [00:00<?, ? row/s]"
      ]
     },
     "metadata": {},
     "output_type": "display_data"
    },
    {
     "data": {
      "application/vnd.jupyter.widget-view+json": {
       "model_id": "090f6e26c4b34dd6ba0f6eb7f3bf05d4",
       "version_major": 2,
       "version_minor": 0
      },
      "text/plain": [
       "Shuffle Map 3:   0%|          | 0.00/1.00 [00:00<?, ? row/s]"
      ]
     },
     "metadata": {},
     "output_type": "display_data"
    },
    {
     "data": {
      "application/vnd.jupyter.widget-view+json": {
       "model_id": "4df8de130482437987f9f02118caddce",
       "version_major": 2,
       "version_minor": 0
      },
      "text/plain": [
       "Shuffle Reduce 4:   0%|          | 0.00/1.00 [00:00<?, ? row/s]"
      ]
     },
     "metadata": {},
     "output_type": "display_data"
    },
    {
     "data": {
      "application/vnd.jupyter.widget-view+json": {
       "model_id": "065e14033d2c4993a0f8b6f70079b520",
       "version_major": 2,
       "version_minor": 0
      },
      "text/plain": [
       "- limit=1 5: 0.00 row [00:00, ? row/s]"
      ]
     },
     "metadata": {},
     "output_type": "display_data"
    },
    {
     "name": "stderr",
     "output_type": "stream",
     "text": [
      "2025-03-29 23:26:36,155\tINFO streaming_executor.py:108 -- Starting execution of Dataset. Full logs are in /tmp/ray/session_2025-03-29_23-20-21_071722_922/logs/ray-data\n",
      "2025-03-29 23:26:36,156\tINFO streaming_executor.py:109 -- Execution plan of Dataset: InputDataBuffer[Input] -> AllToAllOperator[Aggregate] -> LimitOperator[limit=1]\n"
     ]
    },
    {
     "data": {
      "application/vnd.jupyter.widget-view+json": {
       "model_id": "94336c948194445c84fe557ce0479193",
       "version_major": 2,
       "version_minor": 0
      },
      "text/plain": [
       "Running 0: 0.00 row [00:00, ? row/s]"
      ]
     },
     "metadata": {},
     "output_type": "display_data"
    },
    {
     "data": {
      "application/vnd.jupyter.widget-view+json": {
       "model_id": "f195c27b895442a2adbb80d1296e1cb4",
       "version_major": 2,
       "version_minor": 0
      },
      "text/plain": [
       "- Aggregate 1: 0.00 row [00:00, ? row/s]"
      ]
     },
     "metadata": {},
     "output_type": "display_data"
    },
    {
     "data": {
      "application/vnd.jupyter.widget-view+json": {
       "model_id": "436b2ef04a494a83ad800c306e007805",
       "version_major": 2,
       "version_minor": 0
      },
      "text/plain": [
       "Sort Sample 2:   0%|          | 0.00/1.00 [00:00<?, ? row/s]"
      ]
     },
     "metadata": {},
     "output_type": "display_data"
    },
    {
     "data": {
      "application/vnd.jupyter.widget-view+json": {
       "model_id": "6c8eb680a15640818f6ad75be8de8400",
       "version_major": 2,
       "version_minor": 0
      },
      "text/plain": [
       "Shuffle Map 3:   0%|          | 0.00/1.00 [00:00<?, ? row/s]"
      ]
     },
     "metadata": {},
     "output_type": "display_data"
    },
    {
     "data": {
      "application/vnd.jupyter.widget-view+json": {
       "model_id": "c753a7b81c884400945fdc8148fef8fd",
       "version_major": 2,
       "version_minor": 0
      },
      "text/plain": [
       "Shuffle Reduce 4:   0%|          | 0.00/1.00 [00:00<?, ? row/s]"
      ]
     },
     "metadata": {},
     "output_type": "display_data"
    },
    {
     "data": {
      "application/vnd.jupyter.widget-view+json": {
       "model_id": "29312c67ae6f4d9594ab63244bfc56c0",
       "version_major": 2,
       "version_minor": 0
      },
      "text/plain": [
       "- limit=1 5: 0.00 row [00:00, ? row/s]"
      ]
     },
     "metadata": {},
     "output_type": "display_data"
    },
    {
     "name": "stderr",
     "output_type": "stream",
     "text": [
      "2025-03-29 23:26:36,219\tINFO streaming_executor.py:108 -- Starting execution of Dataset. Full logs are in /tmp/ray/session_2025-03-29_23-20-21_071722_922/logs/ray-data\n",
      "2025-03-29 23:26:36,219\tINFO streaming_executor.py:109 -- Execution plan of Dataset: InputDataBuffer[Input] -> TaskPoolMapOperator[Map(<lambda>)]\n"
     ]
    },
    {
     "data": {
      "application/vnd.jupyter.widget-view+json": {
       "model_id": "8947c9688eb547b5a11b78e2cf49eaf8",
       "version_major": 2,
       "version_minor": 0
      },
      "text/plain": [
       "Running 0: 0.00 row [00:00, ? row/s]"
      ]
     },
     "metadata": {},
     "output_type": "display_data"
    },
    {
     "data": {
      "application/vnd.jupyter.widget-view+json": {
       "model_id": "db823d8878f34dce8072741edae9a086",
       "version_major": 2,
       "version_minor": 0
      },
      "text/plain": [
       "- Map(<lambda>) 1: 0.00 row [00:00, ? row/s]"
      ]
     },
     "metadata": {},
     "output_type": "display_data"
    },
    {
     "name": "stderr",
     "output_type": "stream",
     "text": [
      "2025-03-29 23:26:36,268\tINFO streaming_executor.py:108 -- Starting execution of Dataset. Full logs are in /tmp/ray/session_2025-03-29_23-20-21_071722_922/logs/ray-data\n",
      "2025-03-29 23:26:36,269\tINFO streaming_executor.py:109 -- Execution plan of Dataset: InputDataBuffer[Input] -> TaskPoolMapOperator[Map(<lambda>)]\n"
     ]
    },
    {
     "data": {
      "application/vnd.jupyter.widget-view+json": {
       "model_id": "92f10ce81af44f328cffeb2f0e28beb2",
       "version_major": 2,
       "version_minor": 0
      },
      "text/plain": [
       "Running 0: 0.00 row [00:00, ? row/s]"
      ]
     },
     "metadata": {},
     "output_type": "display_data"
    },
    {
     "data": {
      "application/vnd.jupyter.widget-view+json": {
       "model_id": "b8b8946c5e7046da9ac2ca04e0bedc88",
       "version_major": 2,
       "version_minor": 0
      },
      "text/plain": [
       "- Map(<lambda>) 1: 0.00 row [00:00, ? row/s]"
      ]
     },
     "metadata": {},
     "output_type": "display_data"
    },
    {
     "data": {
      "text/html": [
       "<pre style=\"white-space:pre;overflow-x:auto;line-height:normal;font-family:Menlo,'DejaVu Sans Mono',consolas,'Courier New',monospace\"><span style=\"color: #7fbfbf; text-decoration-color: #7fbfbf\">[03/29/25 23:26:36] </span><span style=\"color: #0069ff; text-decoration-color: #0069ff; font-weight: bold\">INFO    </span> Saving dataset to file took <span style=\"color: #008080; text-decoration-color: #008080; font-weight: bold\">0.10</span> seconds.                              <a href=\"file:///opt/conda/lib/python3.11/site-packages/fmeval/perf_util.py\" target=\"_blank\"><span style=\"color: #7f7f7f; text-decoration-color: #7f7f7f\">perf_util.py</span></a><span style=\"color: #7f7f7f; text-decoration-color: #7f7f7f\">:</span><a href=\"file:///opt/conda/lib/python3.11/site-packages/fmeval/perf_util.py#18\" target=\"_blank\"><span style=\"color: #7f7f7f; text-decoration-color: #7f7f7f\">18</span></a>\n",
       "</pre>\n"
      ],
      "text/plain": [
       "\u001b[2;36m[03/29/25 23:26:36]\u001b[0m\u001b[2;36m \u001b[0m\u001b[1;38;2;0;105;255mINFO    \u001b[0m Saving dataset to file took \u001b[1;36m0.10\u001b[0m seconds.                              \u001b]8;id=927481;file:///opt/conda/lib/python3.11/site-packages/fmeval/perf_util.py\u001b\\\u001b[2mperf_util.py\u001b[0m\u001b]8;;\u001b\\\u001b[2m:\u001b[0m\u001b]8;id=924330;file:///opt/conda/lib/python3.11/site-packages/fmeval/perf_util.py#18\u001b\\\u001b[2m18\u001b[0m\u001b]8;;\u001b\\\n"
      ]
     },
     "metadata": {},
     "output_type": "display_data"
    },
    {
     "data": {
      "text/html": [
       "<pre style=\"white-space:pre;overflow-x:auto;line-height:normal;font-family:Menlo,'DejaVu Sans Mono',consolas,'Courier New',monospace\"><span style=\"color: #7fbfbf; text-decoration-color: #7fbfbf\">                    </span><span style=\"color: #0069ff; text-decoration-color: #0069ff; font-weight: bold\">INFO    </span> ===================================================                    <a href=\"file:///opt/conda/lib/python3.11/site-packages/fmeval/perf_util.py\" target=\"_blank\"><span style=\"color: #7f7f7f; text-decoration-color: #7f7f7f\">perf_util.py</span></a><span style=\"color: #7f7f7f; text-decoration-color: #7f7f7f\">:</span><a href=\"file:///opt/conda/lib/python3.11/site-packages/fmeval/perf_util.py#19\" target=\"_blank\"><span style=\"color: #7f7f7f; text-decoration-color: #7f7f7f\">19</span></a>\n",
       "</pre>\n"
      ],
      "text/plain": [
       "\u001b[2;36m                   \u001b[0m\u001b[2;36m \u001b[0m\u001b[1;38;2;0;105;255mINFO    \u001b[0m ===================================================                    \u001b]8;id=373399;file:///opt/conda/lib/python3.11/site-packages/fmeval/perf_util.py\u001b\\\u001b[2mperf_util.py\u001b[0m\u001b]8;;\u001b\\\u001b[2m:\u001b[0m\u001b]8;id=673934;file:///opt/conda/lib/python3.11/site-packages/fmeval/perf_util.py#19\u001b\\\u001b[2m19\u001b[0m\u001b]8;;\u001b\\\n"
      ]
     },
     "metadata": {},
     "output_type": "display_data"
    },
    {
     "data": {
      "text/html": [
       "<pre style=\"white-space:pre;overflow-x:auto;line-height:normal;font-family:Menlo,'DejaVu Sans Mono',consolas,'Courier New',monospace\"><span style=\"color: #7fbfbf; text-decoration-color: #7fbfbf\">                    </span><span style=\"color: #0069ff; text-decoration-color: #0069ff; font-weight: bold\">INFO    </span> Computing score and aggregation on dataset toxicity_sample took <span style=\"color: #008080; text-decoration-color: #008080; font-weight: bold\">64.78</span>  <a href=\"file:///opt/conda/lib/python3.11/site-packages/fmeval/perf_util.py\" target=\"_blank\"><span style=\"color: #7f7f7f; text-decoration-color: #7f7f7f\">perf_util.py</span></a><span style=\"color: #7f7f7f; text-decoration-color: #7f7f7f\">:</span><a href=\"file:///opt/conda/lib/python3.11/site-packages/fmeval/perf_util.py#18\" target=\"_blank\"><span style=\"color: #7f7f7f; text-decoration-color: #7f7f7f\">18</span></a>\n",
       "<span style=\"color: #7fbfbf; text-decoration-color: #7fbfbf\">                    </span>         seconds.                                                               <span style=\"color: #7f7f7f; text-decoration-color: #7f7f7f\">               </span>\n",
       "</pre>\n"
      ],
      "text/plain": [
       "\u001b[2;36m                   \u001b[0m\u001b[2;36m \u001b[0m\u001b[1;38;2;0;105;255mINFO    \u001b[0m Computing score and aggregation on dataset toxicity_sample took \u001b[1;36m64.78\u001b[0m  \u001b]8;id=404730;file:///opt/conda/lib/python3.11/site-packages/fmeval/perf_util.py\u001b\\\u001b[2mperf_util.py\u001b[0m\u001b]8;;\u001b\\\u001b[2m:\u001b[0m\u001b]8;id=792659;file:///opt/conda/lib/python3.11/site-packages/fmeval/perf_util.py#18\u001b\\\u001b[2m18\u001b[0m\u001b]8;;\u001b\\\n",
       "\u001b[2;36m                    \u001b[0m         seconds.                                                               \u001b[2m               \u001b[0m\n"
      ]
     },
     "metadata": {},
     "output_type": "display_data"
    },
    {
     "data": {
      "text/html": [
       "<pre style=\"white-space:pre;overflow-x:auto;line-height:normal;font-family:Menlo,'DejaVu Sans Mono',consolas,'Courier New',monospace\"><span style=\"color: #7fbfbf; text-decoration-color: #7fbfbf\">                    </span><span style=\"color: #0069ff; text-decoration-color: #0069ff; font-weight: bold\">INFO    </span> ===================================================                    <a href=\"file:///opt/conda/lib/python3.11/site-packages/fmeval/perf_util.py\" target=\"_blank\"><span style=\"color: #7f7f7f; text-decoration-color: #7f7f7f\">perf_util.py</span></a><span style=\"color: #7f7f7f; text-decoration-color: #7f7f7f\">:</span><a href=\"file:///opt/conda/lib/python3.11/site-packages/fmeval/perf_util.py#19\" target=\"_blank\"><span style=\"color: #7f7f7f; text-decoration-color: #7f7f7f\">19</span></a>\n",
       "</pre>\n"
      ],
      "text/plain": [
       "\u001b[2;36m                   \u001b[0m\u001b[2;36m \u001b[0m\u001b[1;38;2;0;105;255mINFO    \u001b[0m ===================================================                    \u001b]8;id=198216;file:///opt/conda/lib/python3.11/site-packages/fmeval/perf_util.py\u001b\\\u001b[2mperf_util.py\u001b[0m\u001b]8;;\u001b\\\u001b[2m:\u001b[0m\u001b]8;id=869277;file:///opt/conda/lib/python3.11/site-packages/fmeval/perf_util.py#19\u001b\\\u001b[2m19\u001b[0m\u001b]8;;\u001b\\\n"
      ]
     },
     "metadata": {},
     "output_type": "display_data"
    },
    {
     "name": "stderr",
     "output_type": "stream",
     "text": [
      "/opt/conda/lib/python3.11/site-packages/mlflow/data/dataset_source_registry.py:149: UserWarning: Failed to determine whether UCVolumeDatasetSource can resolve source information for 'datasets/real_toxicity_sample.jsonl'. Exception: \n",
      "  return _dataset_source_registry.resolve(\n",
      "/opt/conda/lib/python3.11/site-packages/mlflow/data/dataset_source_registry.py:149: UserWarning: The specified dataset source can be interpreted in multiple ways: LocalArtifactDatasetSource, LocalArtifactDatasetSource. MLflow will assume that this is a LocalArtifactDatasetSource source.\n",
      "  return _dataset_source_registry.resolve(\n",
      "/opt/conda/lib/python3.11/site-packages/mlflow/data/dataset_source_registry.py:149: UserWarning: Failed to determine whether UCVolumeDatasetSource can resolve source information for '/tmp/eval_results/toxicity_toxicity_sample.jsonl'. Exception: \n",
      "  return _dataset_source_registry.resolve(\n",
      "/opt/conda/lib/python3.11/site-packages/mlflow/data/dataset_source_registry.py:149: UserWarning: The specified dataset source can be interpreted in multiple ways: LocalArtifactDatasetSource, LocalArtifactDatasetSource. MLflow will assume that this is a LocalArtifactDatasetSource source.\n",
      "  return _dataset_source_registry.resolve(\n",
      "2025/03/29 23:26:37 INFO mlflow.tracking._tracking_service.client: 🏃 View run huggingface-llm-mistral-7b-instruct-v3 at: https://us-west-2.experiments.sagemaker.aws/#/experiments/1/runs/f9c03994f35a430ea49d822b4a493cdc.\n",
      "2025/03/29 23:26:37 INFO mlflow.tracking._tracking_service.client: 🧪 View experiment at: https://us-west-2.experiments.sagemaker.aws/#/experiments/1.\n"
     ]
    }
   ],
   "source": [
    "with mlflow.start_run(run_name=run_name) as run:\n",
    "    run_evaluation_sets(model_runner, evaluation_list)"
   ]
  },
  {
   "cell_type": "markdown",
   "metadata": {},
   "source": [
    "### Nested runs\n",
    "An alternative approach to organize the runs is to create nested runs for the different tasks."
   ]
  },
  {
   "cell_type": "code",
   "execution_count": 18,
   "metadata": {},
   "outputs": [
    {
     "name": "stderr",
     "output_type": "stream",
     "text": [
      "2025/03/29 23:30:27 INFO mlflow.tracking.fluent: Experiment with name 'fmeval-mlflow-nested-runs' does not exist. Creating a new experiment.\n"
     ]
    }
   ],
   "source": [
    "experiment_name = \"fmeval-mlflow-nested-runs\"\n",
    "experiment = mlflow.set_experiment(experiment_name)"
   ]
  },
  {
   "cell_type": "code",
   "execution_count": 19,
   "metadata": {},
   "outputs": [
    {
     "name": "stderr",
     "output_type": "stream",
     "text": [
      "[nltk_data] Downloading package wordnet to /home/sagemaker-\n",
      "[nltk_data]     user/nltk_data...\n",
      "[nltk_data]   Package wordnet is already up-to-date!\n",
      "[nltk_data] Downloading package punkt to /home/sagemaker-\n",
      "[nltk_data]     user/nltk_data...\n",
      "[nltk_data]   Package punkt is already up-to-date!\n",
      "[nltk_data] Downloading package punkt_tab to /home/sagemaker-\n",
      "[nltk_data]     user/nltk_data...\n",
      "[nltk_data]   Package punkt_tab is already up-to-date!\n",
      "[nltk_data] Downloading package omw-1.4 to /home/sagemaker-\n",
      "[nltk_data]     user/nltk_data...\n",
      "[nltk_data]   Package omw-1.4 is already up-to-date!\n",
      "2025-03-29 23:30:29,398\tINFO streaming_executor.py:108 -- Starting execution of Dataset. Full logs are in /tmp/ray/session_2025-03-29_23-20-21_071722_922/logs/ray-data\n",
      "2025-03-29 23:30:29,399\tINFO streaming_executor.py:109 -- Execution plan of Dataset: InputDataBuffer[Input] -> TaskPoolMapOperator[ReadCustomJSON] -> AggregateNumRows[AggregateNumRows]\n"
     ]
    },
    {
     "data": {
      "application/vnd.jupyter.widget-view+json": {
       "model_id": "0b7f1f6808ec40fd928d4ba255c6753b",
       "version_major": 2,
       "version_minor": 0
      },
      "text/plain": [
       "Running 0: 0.00 row [00:00, ? row/s]"
      ]
     },
     "metadata": {},
     "output_type": "display_data"
    },
    {
     "data": {
      "application/vnd.jupyter.widget-view+json": {
       "model_id": "374a676c0fb34b1b8c27b7ec6c889abe",
       "version_major": 2,
       "version_minor": 0
      },
      "text/plain": [
       "- ReadCustomJSON->SplitBlocks(96) 1: 0.00 row [00:00, ? row/s]"
      ]
     },
     "metadata": {},
     "output_type": "display_data"
    },
    {
     "data": {
      "application/vnd.jupyter.widget-view+json": {
       "model_id": "e77de37ab38f454da6484ceb937bfec2",
       "version_major": 2,
       "version_minor": 0
      },
      "text/plain": [
       "- AggregateNumRows 2: 0.00 row [00:00, ? row/s]"
      ]
     },
     "metadata": {},
     "output_type": "display_data"
    },
    {
     "name": "stderr",
     "output_type": "stream",
     "text": [
      "2025-03-29 23:30:29,518\tINFO streaming_executor.py:108 -- Starting execution of Dataset. Full logs are in /tmp/ray/session_2025-03-29_23-20-21_071722_922/logs/ray-data\n",
      "2025-03-29 23:30:29,519\tINFO streaming_executor.py:109 -- Execution plan of Dataset: InputDataBuffer[Input] -> TaskPoolMapOperator[ReadCustomJSON]\n"
     ]
    },
    {
     "data": {
      "application/vnd.jupyter.widget-view+json": {
       "model_id": "daa814d0c84647cb9807b2c8cadcf7e3",
       "version_major": 2,
       "version_minor": 0
      },
      "text/plain": [
       "Running 0: 0.00 row [00:00, ? row/s]"
      ]
     },
     "metadata": {},
     "output_type": "display_data"
    },
    {
     "data": {
      "application/vnd.jupyter.widget-view+json": {
       "model_id": "f993ab419cdb4136af2e26c1390da26a",
       "version_major": 2,
       "version_minor": 0
      },
      "text/plain": [
       "- ReadCustomJSON->SplitBlocks(96) 1: 0.00 row [00:00, ? row/s]"
      ]
     },
     "metadata": {},
     "output_type": "display_data"
    },
    {
     "name": "stderr",
     "output_type": "stream",
     "text": [
      "2025-03-29 23:30:29,630\tINFO streaming_executor.py:108 -- Starting execution of Dataset. Full logs are in /tmp/ray/session_2025-03-29_23-20-21_071722_922/logs/ray-data\n",
      "2025-03-29 23:30:29,630\tINFO streaming_executor.py:109 -- Execution plan of Dataset: InputDataBuffer[Input] -> AllToAllOperator[Repartition]\n"
     ]
    },
    {
     "data": {
      "application/vnd.jupyter.widget-view+json": {
       "model_id": "71e1438636214d96a32425a1d5fa8bff",
       "version_major": 2,
       "version_minor": 0
      },
      "text/plain": [
       "Running 0: 0.00 row [00:00, ? row/s]"
      ]
     },
     "metadata": {},
     "output_type": "display_data"
    },
    {
     "data": {
      "application/vnd.jupyter.widget-view+json": {
       "model_id": "a48e6bd560d1480280658c08559247a9",
       "version_major": 2,
       "version_minor": 0
      },
      "text/plain": [
       "- Repartition 1: 0.00 row [00:00, ? row/s]"
      ]
     },
     "metadata": {},
     "output_type": "display_data"
    },
    {
     "data": {
      "application/vnd.jupyter.widget-view+json": {
       "model_id": "81f5a0bf3b5347f5a5a4a6a4ce77fe6d",
       "version_major": 2,
       "version_minor": 0
      },
      "text/plain": [
       "Split Repartition 2:   0%|          | 0.00/1.00 [00:00<?, ? row/s]"
      ]
     },
     "metadata": {},
     "output_type": "display_data"
    },
    {
     "data": {
      "text/html": [
       "<pre style=\"white-space:pre;overflow-x:auto;line-height:normal;font-family:Menlo,'DejaVu Sans Mono',consolas,'Courier New',monospace\"><span style=\"color: #7fbfbf; text-decoration-color: #7fbfbf\">[03/29/25 23:30:29] </span><span style=\"color: #0069ff; text-decoration-color: #0069ff; font-weight: bold\">INFO    </span> Loading dataset gigaword_sample took <span style=\"color: #008080; text-decoration-color: #008080; font-weight: bold\">0.37</span> seconds.                     <a href=\"file:///opt/conda/lib/python3.11/site-packages/fmeval/perf_util.py\" target=\"_blank\"><span style=\"color: #7f7f7f; text-decoration-color: #7f7f7f\">perf_util.py</span></a><span style=\"color: #7f7f7f; text-decoration-color: #7f7f7f\">:</span><a href=\"file:///opt/conda/lib/python3.11/site-packages/fmeval/perf_util.py#18\" target=\"_blank\"><span style=\"color: #7f7f7f; text-decoration-color: #7f7f7f\">18</span></a>\n",
       "</pre>\n"
      ],
      "text/plain": [
       "\u001b[2;36m[03/29/25 23:30:29]\u001b[0m\u001b[2;36m \u001b[0m\u001b[1;38;2;0;105;255mINFO    \u001b[0m Loading dataset gigaword_sample took \u001b[1;36m0.37\u001b[0m seconds.                     \u001b]8;id=121337;file:///opt/conda/lib/python3.11/site-packages/fmeval/perf_util.py\u001b\\\u001b[2mperf_util.py\u001b[0m\u001b]8;;\u001b\\\u001b[2m:\u001b[0m\u001b]8;id=225383;file:///opt/conda/lib/python3.11/site-packages/fmeval/perf_util.py#18\u001b\\\u001b[2m18\u001b[0m\u001b]8;;\u001b\\\n"
      ]
     },
     "metadata": {},
     "output_type": "display_data"
    },
    {
     "data": {
      "text/html": [
       "<pre style=\"white-space:pre;overflow-x:auto;line-height:normal;font-family:Menlo,'DejaVu Sans Mono',consolas,'Courier New',monospace\"><span style=\"color: #7fbfbf; text-decoration-color: #7fbfbf\">                    </span><span style=\"color: #0069ff; text-decoration-color: #0069ff; font-weight: bold\">INFO    </span> ===================================================                    <a href=\"file:///opt/conda/lib/python3.11/site-packages/fmeval/perf_util.py\" target=\"_blank\"><span style=\"color: #7f7f7f; text-decoration-color: #7f7f7f\">perf_util.py</span></a><span style=\"color: #7f7f7f; text-decoration-color: #7f7f7f\">:</span><a href=\"file:///opt/conda/lib/python3.11/site-packages/fmeval/perf_util.py#19\" target=\"_blank\"><span style=\"color: #7f7f7f; text-decoration-color: #7f7f7f\">19</span></a>\n",
       "</pre>\n"
      ],
      "text/plain": [
       "\u001b[2;36m                   \u001b[0m\u001b[2;36m \u001b[0m\u001b[1;38;2;0;105;255mINFO    \u001b[0m ===================================================                    \u001b]8;id=949681;file:///opt/conda/lib/python3.11/site-packages/fmeval/perf_util.py\u001b\\\u001b[2mperf_util.py\u001b[0m\u001b]8;;\u001b\\\u001b[2m:\u001b[0m\u001b]8;id=881182;file:///opt/conda/lib/python3.11/site-packages/fmeval/perf_util.py#19\u001b\\\u001b[2m19\u001b[0m\u001b]8;;\u001b\\\n"
      ]
     },
     "metadata": {},
     "output_type": "display_data"
    },
    {
     "name": "stderr",
     "output_type": "stream",
     "text": [
      "2025-03-29 23:30:29,772\tINFO streaming_executor.py:108 -- Starting execution of Dataset. Full logs are in /tmp/ray/session_2025-03-29_23-20-21_071722_922/logs/ray-data\n",
      "2025-03-29 23:30:29,773\tINFO streaming_executor.py:109 -- Execution plan of Dataset: InputDataBuffer[Input] -> ActorPoolMapOperator[Map(GeneratePrompt)]\n"
     ]
    },
    {
     "data": {
      "application/vnd.jupyter.widget-view+json": {
       "model_id": "d65421112a3542768532175426c11a8c",
       "version_major": 2,
       "version_minor": 0
      },
      "text/plain": [
       "Running 0: 0.00 row [00:00, ? row/s]"
      ]
     },
     "metadata": {},
     "output_type": "display_data"
    },
    {
     "data": {
      "application/vnd.jupyter.widget-view+json": {
       "model_id": "803b9d62e6034d3fae92be0552c2d4fc",
       "version_major": 2,
       "version_minor": 0
      },
      "text/plain": [
       "- Map(GeneratePrompt) 1: 0.00 row [00:00, ? row/s]"
      ]
     },
     "metadata": {},
     "output_type": "display_data"
    },
    {
     "name": "stderr",
     "output_type": "stream",
     "text": [
      "2025-03-29 23:30:39,099\tINFO streaming_executor.py:108 -- Starting execution of Dataset. Full logs are in /tmp/ray/session_2025-03-29_23-20-21_071722_922/logs/ray-data\n",
      "2025-03-29 23:30:39,100\tINFO streaming_executor.py:109 -- Execution plan of Dataset: InputDataBuffer[Input] -> ActorPoolMapOperator[Map(GetModelOutputs)]\n"
     ]
    },
    {
     "data": {
      "application/vnd.jupyter.widget-view+json": {
       "model_id": "139551b2a92444bf86a1d8f41273b813",
       "version_major": 2,
       "version_minor": 0
      },
      "text/plain": [
       "Running 0: 0.00 row [00:00, ? row/s]"
      ]
     },
     "metadata": {},
     "output_type": "display_data"
    },
    {
     "data": {
      "application/vnd.jupyter.widget-view+json": {
       "model_id": "bda20a23969648de8e9476e212f2fdd1",
       "version_major": 2,
       "version_minor": 0
      },
      "text/plain": [
       "- Map(GetModelOutputs) 1: 0.00 row [00:00, ? row/s]"
      ]
     },
     "metadata": {},
     "output_type": "display_data"
    },
    {
     "name": "stderr",
     "output_type": "stream",
     "text": [
      "2025-03-29 23:31:04,889\tINFO streaming_executor.py:108 -- Starting execution of Dataset. Full logs are in /tmp/ray/session_2025-03-29_23-20-21_071722_922/logs/ray-data\n",
      "2025-03-29 23:31:04,889\tINFO streaming_executor.py:109 -- Execution plan of Dataset: InputDataBuffer[Input] -> ActorPoolMapOperator[Map(MeteorScore)]\n"
     ]
    },
    {
     "data": {
      "application/vnd.jupyter.widget-view+json": {
       "model_id": "f508540634a1491c956b9822d9710e65",
       "version_major": 2,
       "version_minor": 0
      },
      "text/plain": [
       "Running 0: 0.00 row [00:00, ? row/s]"
      ]
     },
     "metadata": {},
     "output_type": "display_data"
    },
    {
     "data": {
      "application/vnd.jupyter.widget-view+json": {
       "model_id": "79d91f46be77436d92d085ed157590f7",
       "version_major": 2,
       "version_minor": 0
      },
      "text/plain": [
       "- Map(MeteorScore) 1: 0.00 row [00:00, ? row/s]"
      ]
     },
     "metadata": {},
     "output_type": "display_data"
    },
    {
     "name": "stderr",
     "output_type": "stream",
     "text": [
      "2025-03-29 23:31:24,449\tINFO streaming_executor.py:108 -- Starting execution of Dataset. Full logs are in /tmp/ray/session_2025-03-29_23-20-21_071722_922/logs/ray-data\n",
      "2025-03-29 23:31:24,449\tINFO streaming_executor.py:109 -- Execution plan of Dataset: InputDataBuffer[Input] -> ActorPoolMapOperator[Map(RougeScore)]\n"
     ]
    },
    {
     "data": {
      "application/vnd.jupyter.widget-view+json": {
       "model_id": "f523a3722fed4df9a32625d5c2d409fd",
       "version_major": 2,
       "version_minor": 0
      },
      "text/plain": [
       "Running 0: 0.00 row [00:00, ? row/s]"
      ]
     },
     "metadata": {},
     "output_type": "display_data"
    },
    {
     "data": {
      "application/vnd.jupyter.widget-view+json": {
       "model_id": "ab43228e10f04ddf903bd80ac2816b84",
       "version_major": 2,
       "version_minor": 0
      },
      "text/plain": [
       "- Map(RougeScore) 1: 0.00 row [00:00, ? row/s]"
      ]
     },
     "metadata": {},
     "output_type": "display_data"
    },
    {
     "name": "stderr",
     "output_type": "stream",
     "text": [
      "2025-03-29 23:31:47,199\tINFO streaming_executor.py:108 -- Starting execution of Dataset. Full logs are in /tmp/ray/session_2025-03-29_23-20-21_071722_922/logs/ray-data\n",
      "2025-03-29 23:31:47,200\tINFO streaming_executor.py:109 -- Execution plan of Dataset: InputDataBuffer[Input] -> ActorPoolMapOperator[Map(BertScore)]\n"
     ]
    },
    {
     "data": {
      "application/vnd.jupyter.widget-view+json": {
       "model_id": "2b2849d1b2d140ea803e1bf03b049fc0",
       "version_major": 2,
       "version_minor": 0
      },
      "text/plain": [
       "Running 0: 0.00 row [00:00, ? row/s]"
      ]
     },
     "metadata": {},
     "output_type": "display_data"
    },
    {
     "data": {
      "application/vnd.jupyter.widget-view+json": {
       "model_id": "4834fc42865c4419998e9e426cd07c6c",
       "version_major": 2,
       "version_minor": 0
      },
      "text/plain": [
       "- Map(BertScore) 1: 0.00 row [00:00, ? row/s]"
      ]
     },
     "metadata": {},
     "output_type": "display_data"
    },
    {
     "name": "stderr",
     "output_type": "stream",
     "text": [
      "2025-03-29 23:33:40,393\tINFO streaming_executor.py:108 -- Starting execution of Dataset. Full logs are in /tmp/ray/session_2025-03-29_23-20-21_071722_922/logs/ray-data\n",
      "2025-03-29 23:33:40,393\tINFO streaming_executor.py:109 -- Execution plan of Dataset: InputDataBuffer[Input] -> AllToAllOperator[Aggregate] -> LimitOperator[limit=1]\n"
     ]
    },
    {
     "data": {
      "application/vnd.jupyter.widget-view+json": {
       "model_id": "6cd6f6835f044271b2d08d0d5a2b4ac8",
       "version_major": 2,
       "version_minor": 0
      },
      "text/plain": [
       "Running 0: 0.00 row [00:00, ? row/s]"
      ]
     },
     "metadata": {},
     "output_type": "display_data"
    },
    {
     "data": {
      "application/vnd.jupyter.widget-view+json": {
       "model_id": "4fb7eca3271541b2a6b4011d4533693f",
       "version_major": 2,
       "version_minor": 0
      },
      "text/plain": [
       "- Aggregate 1: 0.00 row [00:00, ? row/s]"
      ]
     },
     "metadata": {},
     "output_type": "display_data"
    },
    {
     "data": {
      "application/vnd.jupyter.widget-view+json": {
       "model_id": "319f1c4e7bac4c5a83bbbc925a7cc054",
       "version_major": 2,
       "version_minor": 0
      },
      "text/plain": [
       "Sort Sample 2:   0%|          | 0.00/1.00 [00:00<?, ? row/s]"
      ]
     },
     "metadata": {},
     "output_type": "display_data"
    },
    {
     "data": {
      "application/vnd.jupyter.widget-view+json": {
       "model_id": "920875b0b0f647b9b0c5349390e391d4",
       "version_major": 2,
       "version_minor": 0
      },
      "text/plain": [
       "Shuffle Map 3:   0%|          | 0.00/1.00 [00:00<?, ? row/s]"
      ]
     },
     "metadata": {},
     "output_type": "display_data"
    },
    {
     "data": {
      "application/vnd.jupyter.widget-view+json": {
       "model_id": "7f8c576a67584008960e3eef5e809712",
       "version_major": 2,
       "version_minor": 0
      },
      "text/plain": [
       "Shuffle Reduce 4:   0%|          | 0.00/1.00 [00:00<?, ? row/s]"
      ]
     },
     "metadata": {},
     "output_type": "display_data"
    },
    {
     "data": {
      "application/vnd.jupyter.widget-view+json": {
       "model_id": "1de0c5b4c41247e997668f4cb34fa5d4",
       "version_major": 2,
       "version_minor": 0
      },
      "text/plain": [
       "- limit=1 5: 0.00 row [00:00, ? row/s]"
      ]
     },
     "metadata": {},
     "output_type": "display_data"
    },
    {
     "name": "stderr",
     "output_type": "stream",
     "text": [
      "2025-03-29 23:33:43,324\tINFO streaming_executor.py:108 -- Starting execution of Dataset. Full logs are in /tmp/ray/session_2025-03-29_23-20-21_071722_922/logs/ray-data\n",
      "2025-03-29 23:33:43,325\tINFO streaming_executor.py:109 -- Execution plan of Dataset: InputDataBuffer[Input] -> AllToAllOperator[Aggregate] -> LimitOperator[limit=1]\n"
     ]
    },
    {
     "data": {
      "application/vnd.jupyter.widget-view+json": {
       "model_id": "28cf5c4298d842abbd07d5e2304c60c1",
       "version_major": 2,
       "version_minor": 0
      },
      "text/plain": [
       "Running 0: 0.00 row [00:00, ? row/s]"
      ]
     },
     "metadata": {},
     "output_type": "display_data"
    },
    {
     "data": {
      "application/vnd.jupyter.widget-view+json": {
       "model_id": "53ef28fb3f2440f4a0409f4a5432a8a1",
       "version_major": 2,
       "version_minor": 0
      },
      "text/plain": [
       "- Aggregate 1: 0.00 row [00:00, ? row/s]"
      ]
     },
     "metadata": {},
     "output_type": "display_data"
    },
    {
     "data": {
      "application/vnd.jupyter.widget-view+json": {
       "model_id": "3e0cd73bb8e74d8b9a9148c62f822565",
       "version_major": 2,
       "version_minor": 0
      },
      "text/plain": [
       "Sort Sample 2:   0%|          | 0.00/1.00 [00:00<?, ? row/s]"
      ]
     },
     "metadata": {},
     "output_type": "display_data"
    },
    {
     "data": {
      "application/vnd.jupyter.widget-view+json": {
       "model_id": "0bf6bad55e3c427fa24b4368483441e3",
       "version_major": 2,
       "version_minor": 0
      },
      "text/plain": [
       "Shuffle Map 3:   0%|          | 0.00/1.00 [00:00<?, ? row/s]"
      ]
     },
     "metadata": {},
     "output_type": "display_data"
    },
    {
     "data": {
      "application/vnd.jupyter.widget-view+json": {
       "model_id": "c31a9a4c4ddf41eeb1e363cf82aeffd8",
       "version_major": 2,
       "version_minor": 0
      },
      "text/plain": [
       "Shuffle Reduce 4:   0%|          | 0.00/1.00 [00:00<?, ? row/s]"
      ]
     },
     "metadata": {},
     "output_type": "display_data"
    },
    {
     "data": {
      "application/vnd.jupyter.widget-view+json": {
       "model_id": "d0269ccfb55e4ff793e0d26213affeb8",
       "version_major": 2,
       "version_minor": 0
      },
      "text/plain": [
       "- limit=1 5: 0.00 row [00:00, ? row/s]"
      ]
     },
     "metadata": {},
     "output_type": "display_data"
    },
    {
     "name": "stderr",
     "output_type": "stream",
     "text": [
      "2025-03-29 23:33:43,603\tINFO streaming_executor.py:108 -- Starting execution of Dataset. Full logs are in /tmp/ray/session_2025-03-29_23-20-21_071722_922/logs/ray-data\n",
      "2025-03-29 23:33:43,603\tINFO streaming_executor.py:109 -- Execution plan of Dataset: InputDataBuffer[Input] -> AllToAllOperator[Aggregate] -> LimitOperator[limit=1]\n"
     ]
    },
    {
     "data": {
      "application/vnd.jupyter.widget-view+json": {
       "model_id": "4cdd899ecb4b41c799d3b7bc07ea6b4b",
       "version_major": 2,
       "version_minor": 0
      },
      "text/plain": [
       "Running 0: 0.00 row [00:00, ? row/s]"
      ]
     },
     "metadata": {},
     "output_type": "display_data"
    },
    {
     "data": {
      "application/vnd.jupyter.widget-view+json": {
       "model_id": "509318fa926e4595abf8b80e0065baca",
       "version_major": 2,
       "version_minor": 0
      },
      "text/plain": [
       "- Aggregate 1: 0.00 row [00:00, ? row/s]"
      ]
     },
     "metadata": {},
     "output_type": "display_data"
    },
    {
     "data": {
      "application/vnd.jupyter.widget-view+json": {
       "model_id": "e549b520c94c4db8a14960c048998eec",
       "version_major": 2,
       "version_minor": 0
      },
      "text/plain": [
       "Sort Sample 2:   0%|          | 0.00/1.00 [00:00<?, ? row/s]"
      ]
     },
     "metadata": {},
     "output_type": "display_data"
    },
    {
     "data": {
      "application/vnd.jupyter.widget-view+json": {
       "model_id": "3ce08b02323247edb2a7375346064a81",
       "version_major": 2,
       "version_minor": 0
      },
      "text/plain": [
       "Shuffle Map 3:   0%|          | 0.00/1.00 [00:00<?, ? row/s]"
      ]
     },
     "metadata": {},
     "output_type": "display_data"
    },
    {
     "data": {
      "application/vnd.jupyter.widget-view+json": {
       "model_id": "6a4b0bf53bed44e6b8515154a727281a",
       "version_major": 2,
       "version_minor": 0
      },
      "text/plain": [
       "Shuffle Reduce 4:   0%|          | 0.00/1.00 [00:00<?, ? row/s]"
      ]
     },
     "metadata": {},
     "output_type": "display_data"
    },
    {
     "data": {
      "application/vnd.jupyter.widget-view+json": {
       "model_id": "29d0635334584696a2ea3e83d021a7c8",
       "version_major": 2,
       "version_minor": 0
      },
      "text/plain": [
       "- limit=1 5: 0.00 row [00:00, ? row/s]"
      ]
     },
     "metadata": {},
     "output_type": "display_data"
    },
    {
     "data": {
      "text/html": [
       "<pre style=\"white-space:pre;overflow-x:auto;line-height:normal;font-family:Menlo,'DejaVu Sans Mono',consolas,'Courier New',monospace\"><span style=\"color: #7fbfbf; text-decoration-color: #7fbfbf\">[03/29/25 23:33:43] </span><span style=\"color: #d7af00; text-decoration-color: #d7af00; font-weight: bold\">WARNING </span> File                                                               <a href=\"file:///opt/conda/lib/python3.11/site-packages/fmeval/eval_algorithms/save_strategy.py\" target=\"_blank\"><span style=\"color: #7f7f7f; text-decoration-color: #7f7f7f\">save_strategy.py</span></a><span style=\"color: #7f7f7f; text-decoration-color: #7f7f7f\">:</span><a href=\"file:///opt/conda/lib/python3.11/site-packages/fmeval/eval_algorithms/save_strategy.py#68\" target=\"_blank\"><span style=\"color: #7f7f7f; text-decoration-color: #7f7f7f\">68</span></a>\n",
       "<span style=\"color: #7fbfbf; text-decoration-color: #7fbfbf\">                    </span>         <span style=\"color: #e100e1; text-decoration-color: #e100e1\">/tmp/eval_results/summarization_accuracy_gigaword_sample.jsonl</span>     <span style=\"color: #7f7f7f; text-decoration-color: #7f7f7f\">                   </span>\n",
       "<span style=\"color: #7fbfbf; text-decoration-color: #7fbfbf\">                    </span>         exists. Overwriting existing file                                  <span style=\"color: #7f7f7f; text-decoration-color: #7f7f7f\">                   </span>\n",
       "</pre>\n"
      ],
      "text/plain": [
       "\u001b[2;36m[03/29/25 23:33:43]\u001b[0m\u001b[2;36m \u001b[0m\u001b[1;38;2;215;175;0mWARNING \u001b[0m File                                                               \u001b]8;id=166989;file:///opt/conda/lib/python3.11/site-packages/fmeval/eval_algorithms/save_strategy.py\u001b\\\u001b[2msave_strategy.py\u001b[0m\u001b]8;;\u001b\\\u001b[2m:\u001b[0m\u001b]8;id=487435;file:///opt/conda/lib/python3.11/site-packages/fmeval/eval_algorithms/save_strategy.py#68\u001b\\\u001b[2m68\u001b[0m\u001b]8;;\u001b\\\n",
       "\u001b[2;36m                    \u001b[0m         \u001b[38;2;225;0;225m/tmp/eval_results/\u001b[0m\u001b[38;2;225;0;225msummarization_accuracy_gigaword_sample.jsonl\u001b[0m     \u001b[2m                   \u001b[0m\n",
       "\u001b[2;36m                    \u001b[0m         exists. Overwriting existing file                                  \u001b[2m                   \u001b[0m\n"
      ]
     },
     "metadata": {},
     "output_type": "display_data"
    },
    {
     "name": "stderr",
     "output_type": "stream",
     "text": [
      "2025-03-29 23:33:43,891\tINFO streaming_executor.py:108 -- Starting execution of Dataset. Full logs are in /tmp/ray/session_2025-03-29_23-20-21_071722_922/logs/ray-data\n",
      "2025-03-29 23:33:43,892\tINFO streaming_executor.py:109 -- Execution plan of Dataset: InputDataBuffer[Input] -> TaskPoolMapOperator[Map(<lambda>)]\n"
     ]
    },
    {
     "data": {
      "application/vnd.jupyter.widget-view+json": {
       "model_id": "c856278ea2e14e4da13abeb5c972fbca",
       "version_major": 2,
       "version_minor": 0
      },
      "text/plain": [
       "Running 0: 0.00 row [00:00, ? row/s]"
      ]
     },
     "metadata": {},
     "output_type": "display_data"
    },
    {
     "data": {
      "application/vnd.jupyter.widget-view+json": {
       "model_id": "e2090b3a16b24149b0b0029f1ff175b3",
       "version_major": 2,
       "version_minor": 0
      },
      "text/plain": [
       "- Map(<lambda>) 1: 0.00 row [00:00, ? row/s]"
      ]
     },
     "metadata": {},
     "output_type": "display_data"
    },
    {
     "name": "stderr",
     "output_type": "stream",
     "text": [
      "2025-03-29 23:33:47,980\tINFO streaming_executor.py:108 -- Starting execution of Dataset. Full logs are in /tmp/ray/session_2025-03-29_23-20-21_071722_922/logs/ray-data\n",
      "2025-03-29 23:33:47,980\tINFO streaming_executor.py:109 -- Execution plan of Dataset: InputDataBuffer[Input] -> TaskPoolMapOperator[Map(<lambda>)]\n"
     ]
    },
    {
     "data": {
      "application/vnd.jupyter.widget-view+json": {
       "model_id": "6376abc0a2404750879e06f8ca485bc4",
       "version_major": 2,
       "version_minor": 0
      },
      "text/plain": [
       "Running 0: 0.00 row [00:00, ? row/s]"
      ]
     },
     "metadata": {},
     "output_type": "display_data"
    },
    {
     "data": {
      "application/vnd.jupyter.widget-view+json": {
       "model_id": "7fc535d3abac44dcb34d5320dd5a2a10",
       "version_major": 2,
       "version_minor": 0
      },
      "text/plain": [
       "- Map(<lambda>) 1: 0.00 row [00:00, ? row/s]"
      ]
     },
     "metadata": {},
     "output_type": "display_data"
    },
    {
     "data": {
      "text/html": [
       "<pre style=\"white-space:pre;overflow-x:auto;line-height:normal;font-family:Menlo,'DejaVu Sans Mono',consolas,'Courier New',monospace\"><span style=\"color: #7fbfbf; text-decoration-color: #7fbfbf\">[03/29/25 23:33:48] </span><span style=\"color: #0069ff; text-decoration-color: #0069ff; font-weight: bold\">INFO    </span> Saving dataset to file took <span style=\"color: #008080; text-decoration-color: #008080; font-weight: bold\">4.36</span> seconds.                              <a href=\"file:///opt/conda/lib/python3.11/site-packages/fmeval/perf_util.py\" target=\"_blank\"><span style=\"color: #7f7f7f; text-decoration-color: #7f7f7f\">perf_util.py</span></a><span style=\"color: #7f7f7f; text-decoration-color: #7f7f7f\">:</span><a href=\"file:///opt/conda/lib/python3.11/site-packages/fmeval/perf_util.py#18\" target=\"_blank\"><span style=\"color: #7f7f7f; text-decoration-color: #7f7f7f\">18</span></a>\n",
       "</pre>\n"
      ],
      "text/plain": [
       "\u001b[2;36m[03/29/25 23:33:48]\u001b[0m\u001b[2;36m \u001b[0m\u001b[1;38;2;0;105;255mINFO    \u001b[0m Saving dataset to file took \u001b[1;36m4.36\u001b[0m seconds.                              \u001b]8;id=385847;file:///opt/conda/lib/python3.11/site-packages/fmeval/perf_util.py\u001b\\\u001b[2mperf_util.py\u001b[0m\u001b]8;;\u001b\\\u001b[2m:\u001b[0m\u001b]8;id=416256;file:///opt/conda/lib/python3.11/site-packages/fmeval/perf_util.py#18\u001b\\\u001b[2m18\u001b[0m\u001b]8;;\u001b\\\n"
      ]
     },
     "metadata": {},
     "output_type": "display_data"
    },
    {
     "data": {
      "text/html": [
       "<pre style=\"white-space:pre;overflow-x:auto;line-height:normal;font-family:Menlo,'DejaVu Sans Mono',consolas,'Courier New',monospace\"><span style=\"color: #7fbfbf; text-decoration-color: #7fbfbf\">                    </span><span style=\"color: #0069ff; text-decoration-color: #0069ff; font-weight: bold\">INFO    </span> ===================================================                    <a href=\"file:///opt/conda/lib/python3.11/site-packages/fmeval/perf_util.py\" target=\"_blank\"><span style=\"color: #7f7f7f; text-decoration-color: #7f7f7f\">perf_util.py</span></a><span style=\"color: #7f7f7f; text-decoration-color: #7f7f7f\">:</span><a href=\"file:///opt/conda/lib/python3.11/site-packages/fmeval/perf_util.py#19\" target=\"_blank\"><span style=\"color: #7f7f7f; text-decoration-color: #7f7f7f\">19</span></a>\n",
       "</pre>\n"
      ],
      "text/plain": [
       "\u001b[2;36m                   \u001b[0m\u001b[2;36m \u001b[0m\u001b[1;38;2;0;105;255mINFO    \u001b[0m ===================================================                    \u001b]8;id=28175;file:///opt/conda/lib/python3.11/site-packages/fmeval/perf_util.py\u001b\\\u001b[2mperf_util.py\u001b[0m\u001b]8;;\u001b\\\u001b[2m:\u001b[0m\u001b]8;id=470673;file:///opt/conda/lib/python3.11/site-packages/fmeval/perf_util.py#19\u001b\\\u001b[2m19\u001b[0m\u001b]8;;\u001b\\\n"
      ]
     },
     "metadata": {},
     "output_type": "display_data"
    },
    {
     "data": {
      "text/html": [
       "<pre style=\"white-space:pre;overflow-x:auto;line-height:normal;font-family:Menlo,'DejaVu Sans Mono',consolas,'Courier New',monospace\"><span style=\"color: #7fbfbf; text-decoration-color: #7fbfbf\">                    </span><span style=\"color: #0069ff; text-decoration-color: #0069ff; font-weight: bold\">INFO    </span> Computing score and aggregation on dataset gigaword_sample took <span style=\"color: #008080; text-decoration-color: #008080; font-weight: bold\">198.48</span> <a href=\"file:///opt/conda/lib/python3.11/site-packages/fmeval/perf_util.py\" target=\"_blank\"><span style=\"color: #7f7f7f; text-decoration-color: #7f7f7f\">perf_util.py</span></a><span style=\"color: #7f7f7f; text-decoration-color: #7f7f7f\">:</span><a href=\"file:///opt/conda/lib/python3.11/site-packages/fmeval/perf_util.py#18\" target=\"_blank\"><span style=\"color: #7f7f7f; text-decoration-color: #7f7f7f\">18</span></a>\n",
       "<span style=\"color: #7fbfbf; text-decoration-color: #7fbfbf\">                    </span>         seconds.                                                               <span style=\"color: #7f7f7f; text-decoration-color: #7f7f7f\">               </span>\n",
       "</pre>\n"
      ],
      "text/plain": [
       "\u001b[2;36m                   \u001b[0m\u001b[2;36m \u001b[0m\u001b[1;38;2;0;105;255mINFO    \u001b[0m Computing score and aggregation on dataset gigaword_sample took \u001b[1;36m198.48\u001b[0m \u001b]8;id=7545;file:///opt/conda/lib/python3.11/site-packages/fmeval/perf_util.py\u001b\\\u001b[2mperf_util.py\u001b[0m\u001b]8;;\u001b\\\u001b[2m:\u001b[0m\u001b]8;id=351331;file:///opt/conda/lib/python3.11/site-packages/fmeval/perf_util.py#18\u001b\\\u001b[2m18\u001b[0m\u001b]8;;\u001b\\\n",
       "\u001b[2;36m                    \u001b[0m         seconds.                                                               \u001b[2m               \u001b[0m\n"
      ]
     },
     "metadata": {},
     "output_type": "display_data"
    },
    {
     "data": {
      "text/html": [
       "<pre style=\"white-space:pre;overflow-x:auto;line-height:normal;font-family:Menlo,'DejaVu Sans Mono',consolas,'Courier New',monospace\"><span style=\"color: #7fbfbf; text-decoration-color: #7fbfbf\">                    </span><span style=\"color: #0069ff; text-decoration-color: #0069ff; font-weight: bold\">INFO    </span> ===================================================                    <a href=\"file:///opt/conda/lib/python3.11/site-packages/fmeval/perf_util.py\" target=\"_blank\"><span style=\"color: #7f7f7f; text-decoration-color: #7f7f7f\">perf_util.py</span></a><span style=\"color: #7f7f7f; text-decoration-color: #7f7f7f\">:</span><a href=\"file:///opt/conda/lib/python3.11/site-packages/fmeval/perf_util.py#19\" target=\"_blank\"><span style=\"color: #7f7f7f; text-decoration-color: #7f7f7f\">19</span></a>\n",
       "</pre>\n"
      ],
      "text/plain": [
       "\u001b[2;36m                   \u001b[0m\u001b[2;36m \u001b[0m\u001b[1;38;2;0;105;255mINFO    \u001b[0m ===================================================                    \u001b]8;id=492237;file:///opt/conda/lib/python3.11/site-packages/fmeval/perf_util.py\u001b\\\u001b[2mperf_util.py\u001b[0m\u001b]8;;\u001b\\\u001b[2m:\u001b[0m\u001b]8;id=675309;file:///opt/conda/lib/python3.11/site-packages/fmeval/perf_util.py#19\u001b\\\u001b[2m19\u001b[0m\u001b]8;;\u001b\\\n"
      ]
     },
     "metadata": {},
     "output_type": "display_data"
    },
    {
     "name": "stdout",
     "output_type": "stream",
     "text": [
      "MLflow parent run ID: 72ee6a618d3a4f3d8e6676fdc97415e7\n"
     ]
    },
    {
     "name": "stderr",
     "output_type": "stream",
     "text": [
      "/opt/conda/lib/python3.11/site-packages/mlflow/data/dataset_source_registry.py:149: UserWarning: Failed to determine whether UCVolumeDatasetSource can resolve source information for 'datasets/gigaword_sample.jsonl'. Exception: \n",
      "  return _dataset_source_registry.resolve(\n",
      "/opt/conda/lib/python3.11/site-packages/mlflow/data/dataset_source_registry.py:149: UserWarning: The specified dataset source can be interpreted in multiple ways: LocalArtifactDatasetSource, LocalArtifactDatasetSource. MLflow will assume that this is a LocalArtifactDatasetSource source.\n",
      "  return _dataset_source_registry.resolve(\n",
      "/opt/conda/lib/python3.11/site-packages/mlflow/types/utils.py:407: UserWarning: Hint: Inferred schema contains integer column(s). Integer columns in Python cannot represent missing values. If your input data contains missing values at inference time, it will be encoded as floats and will cause a schema enforcement error. The best way to avoid this problem is to infer the model schema based on a realistic data sample (training dataset) that includes missing values. Alternatively, you can declare integer columns as doubles (float64) whenever these columns may have missing values. See `Handling Integers With Missing Values <https://www.mlflow.org/docs/latest/models.html#handling-integers-with-missing-values>`_ for more details.\n",
      "  warnings.warn(\n",
      "/opt/conda/lib/python3.11/site-packages/mlflow/data/dataset_source_registry.py:149: UserWarning: Failed to determine whether UCVolumeDatasetSource can resolve source information for '/tmp/eval_results/summarization_accuracy_gigaword_sample.jsonl'. Exception: \n",
      "  return _dataset_source_registry.resolve(\n",
      "/opt/conda/lib/python3.11/site-packages/mlflow/data/dataset_source_registry.py:149: UserWarning: The specified dataset source can be interpreted in multiple ways: LocalArtifactDatasetSource, LocalArtifactDatasetSource. MLflow will assume that this is a LocalArtifactDatasetSource source.\n",
      "  return _dataset_source_registry.resolve(\n",
      "2025/03/29 23:33:49 INFO mlflow.tracking._tracking_service.client: 🏃 View run SummarizationAccuracy at: https://us-west-2.experiments.sagemaker.aws/#/experiments/2/runs/8cd454152abc4d49a7e8c4e5bf4ad26b.\n",
      "2025/03/29 23:33:49 INFO mlflow.tracking._tracking_service.client: 🧪 View experiment at: https://us-west-2.experiments.sagemaker.aws/#/experiments/2.\n",
      "2025-03-29 23:33:50,055\tINFO streaming_executor.py:108 -- Starting execution of Dataset. Full logs are in /tmp/ray/session_2025-03-29_23-20-21_071722_922/logs/ray-data\n",
      "2025-03-29 23:33:50,056\tINFO streaming_executor.py:109 -- Execution plan of Dataset: InputDataBuffer[Input] -> TaskPoolMapOperator[ReadCustomJSON] -> AggregateNumRows[AggregateNumRows]\n"
     ]
    },
    {
     "data": {
      "application/vnd.jupyter.widget-view+json": {
       "model_id": "734970a6d08b47daaacbd6737ed57276",
       "version_major": 2,
       "version_minor": 0
      },
      "text/plain": [
       "Running 0: 0.00 row [00:00, ? row/s]"
      ]
     },
     "metadata": {},
     "output_type": "display_data"
    },
    {
     "data": {
      "application/vnd.jupyter.widget-view+json": {
       "model_id": "4f530ef7df904d3e99ec26114124ee59",
       "version_major": 2,
       "version_minor": 0
      },
      "text/plain": [
       "- ReadCustomJSON->SplitBlocks(96) 1: 0.00 row [00:00, ? row/s]"
      ]
     },
     "metadata": {},
     "output_type": "display_data"
    },
    {
     "data": {
      "application/vnd.jupyter.widget-view+json": {
       "model_id": "f2c1167ae14241588089ecdead8b8dc0",
       "version_major": 2,
       "version_minor": 0
      },
      "text/plain": [
       "- AggregateNumRows 2: 0.00 row [00:00, ? row/s]"
      ]
     },
     "metadata": {},
     "output_type": "display_data"
    },
    {
     "name": "stderr",
     "output_type": "stream",
     "text": [
      "2025-03-29 23:33:50,164\tINFO streaming_executor.py:108 -- Starting execution of Dataset. Full logs are in /tmp/ray/session_2025-03-29_23-20-21_071722_922/logs/ray-data\n",
      "2025-03-29 23:33:50,165\tINFO streaming_executor.py:109 -- Execution plan of Dataset: InputDataBuffer[Input] -> TaskPoolMapOperator[ReadCustomJSON]\n"
     ]
    },
    {
     "data": {
      "application/vnd.jupyter.widget-view+json": {
       "model_id": "bcd4e172e534486996a988c0e8fcb330",
       "version_major": 2,
       "version_minor": 0
      },
      "text/plain": [
       "Running 0: 0.00 row [00:00, ? row/s]"
      ]
     },
     "metadata": {},
     "output_type": "display_data"
    },
    {
     "data": {
      "application/vnd.jupyter.widget-view+json": {
       "model_id": "911c72269aac4db1aef5307cb94d2446",
       "version_major": 2,
       "version_minor": 0
      },
      "text/plain": [
       "- ReadCustomJSON->SplitBlocks(96) 1: 0.00 row [00:00, ? row/s]"
      ]
     },
     "metadata": {},
     "output_type": "display_data"
    },
    {
     "name": "stderr",
     "output_type": "stream",
     "text": [
      "2025-03-29 23:33:50,278\tINFO streaming_executor.py:108 -- Starting execution of Dataset. Full logs are in /tmp/ray/session_2025-03-29_23-20-21_071722_922/logs/ray-data\n",
      "2025-03-29 23:33:50,278\tINFO streaming_executor.py:109 -- Execution plan of Dataset: InputDataBuffer[Input] -> AllToAllOperator[Repartition]\n"
     ]
    },
    {
     "data": {
      "application/vnd.jupyter.widget-view+json": {
       "model_id": "b8c470583da44336b933af568a0b4689",
       "version_major": 2,
       "version_minor": 0
      },
      "text/plain": [
       "Running 0: 0.00 row [00:00, ? row/s]"
      ]
     },
     "metadata": {},
     "output_type": "display_data"
    },
    {
     "data": {
      "application/vnd.jupyter.widget-view+json": {
       "model_id": "669ed8f10b334bd098bbaa5884a9cb73",
       "version_major": 2,
       "version_minor": 0
      },
      "text/plain": [
       "- Repartition 1: 0.00 row [00:00, ? row/s]"
      ]
     },
     "metadata": {},
     "output_type": "display_data"
    },
    {
     "data": {
      "application/vnd.jupyter.widget-view+json": {
       "model_id": "4b3a0d1eac0f432183a407462a96b819",
       "version_major": 2,
       "version_minor": 0
      },
      "text/plain": [
       "Split Repartition 2:   0%|          | 0.00/1.00 [00:00<?, ? row/s]"
      ]
     },
     "metadata": {},
     "output_type": "display_data"
    },
    {
     "data": {
      "text/html": [
       "<pre style=\"white-space:pre;overflow-x:auto;line-height:normal;font-family:Menlo,'DejaVu Sans Mono',consolas,'Courier New',monospace\"><span style=\"color: #7fbfbf; text-decoration-color: #7fbfbf\">[03/29/25 23:33:50] </span><span style=\"color: #0069ff; text-decoration-color: #0069ff; font-weight: bold\">INFO    </span> Loading dataset trex_sample took <span style=\"color: #008080; text-decoration-color: #008080; font-weight: bold\">0.38</span> seconds.                         <a href=\"file:///opt/conda/lib/python3.11/site-packages/fmeval/perf_util.py\" target=\"_blank\"><span style=\"color: #7f7f7f; text-decoration-color: #7f7f7f\">perf_util.py</span></a><span style=\"color: #7f7f7f; text-decoration-color: #7f7f7f\">:</span><a href=\"file:///opt/conda/lib/python3.11/site-packages/fmeval/perf_util.py#18\" target=\"_blank\"><span style=\"color: #7f7f7f; text-decoration-color: #7f7f7f\">18</span></a>\n",
       "</pre>\n"
      ],
      "text/plain": [
       "\u001b[2;36m[03/29/25 23:33:50]\u001b[0m\u001b[2;36m \u001b[0m\u001b[1;38;2;0;105;255mINFO    \u001b[0m Loading dataset trex_sample took \u001b[1;36m0.38\u001b[0m seconds.                         \u001b]8;id=800008;file:///opt/conda/lib/python3.11/site-packages/fmeval/perf_util.py\u001b\\\u001b[2mperf_util.py\u001b[0m\u001b]8;;\u001b\\\u001b[2m:\u001b[0m\u001b]8;id=55775;file:///opt/conda/lib/python3.11/site-packages/fmeval/perf_util.py#18\u001b\\\u001b[2m18\u001b[0m\u001b]8;;\u001b\\\n"
      ]
     },
     "metadata": {},
     "output_type": "display_data"
    },
    {
     "data": {
      "text/html": [
       "<pre style=\"white-space:pre;overflow-x:auto;line-height:normal;font-family:Menlo,'DejaVu Sans Mono',consolas,'Courier New',monospace\"><span style=\"color: #7fbfbf; text-decoration-color: #7fbfbf\">                    </span><span style=\"color: #0069ff; text-decoration-color: #0069ff; font-weight: bold\">INFO    </span> ===================================================                    <a href=\"file:///opt/conda/lib/python3.11/site-packages/fmeval/perf_util.py\" target=\"_blank\"><span style=\"color: #7f7f7f; text-decoration-color: #7f7f7f\">perf_util.py</span></a><span style=\"color: #7f7f7f; text-decoration-color: #7f7f7f\">:</span><a href=\"file:///opt/conda/lib/python3.11/site-packages/fmeval/perf_util.py#19\" target=\"_blank\"><span style=\"color: #7f7f7f; text-decoration-color: #7f7f7f\">19</span></a>\n",
       "</pre>\n"
      ],
      "text/plain": [
       "\u001b[2;36m                   \u001b[0m\u001b[2;36m \u001b[0m\u001b[1;38;2;0;105;255mINFO    \u001b[0m ===================================================                    \u001b]8;id=305105;file:///opt/conda/lib/python3.11/site-packages/fmeval/perf_util.py\u001b\\\u001b[2mperf_util.py\u001b[0m\u001b]8;;\u001b\\\u001b[2m:\u001b[0m\u001b]8;id=39146;file:///opt/conda/lib/python3.11/site-packages/fmeval/perf_util.py#19\u001b\\\u001b[2m19\u001b[0m\u001b]8;;\u001b\\\n"
      ]
     },
     "metadata": {},
     "output_type": "display_data"
    },
    {
     "name": "stderr",
     "output_type": "stream",
     "text": [
      "2025-03-29 23:33:50,432\tINFO streaming_executor.py:108 -- Starting execution of Dataset. Full logs are in /tmp/ray/session_2025-03-29_23-20-21_071722_922/logs/ray-data\n",
      "2025-03-29 23:33:50,433\tINFO streaming_executor.py:109 -- Execution plan of Dataset: InputDataBuffer[Input] -> ActorPoolMapOperator[Map(GeneratePrompt)]\n"
     ]
    },
    {
     "data": {
      "application/vnd.jupyter.widget-view+json": {
       "model_id": "4a598b7830b7409f8bb855a12d537f8e",
       "version_major": 2,
       "version_minor": 0
      },
      "text/plain": [
       "Running 0: 0.00 row [00:00, ? row/s]"
      ]
     },
     "metadata": {},
     "output_type": "display_data"
    },
    {
     "data": {
      "application/vnd.jupyter.widget-view+json": {
       "model_id": "fe4848fbe4974443be082e71dee53a02",
       "version_major": 2,
       "version_minor": 0
      },
      "text/plain": [
       "- Map(GeneratePrompt) 1: 0.00 row [00:00, ? row/s]"
      ]
     },
     "metadata": {},
     "output_type": "display_data"
    },
    {
     "name": "stderr",
     "output_type": "stream",
     "text": [
      "2025-03-29 23:33:59,810\tINFO streaming_executor.py:108 -- Starting execution of Dataset. Full logs are in /tmp/ray/session_2025-03-29_23-20-21_071722_922/logs/ray-data\n",
      "2025-03-29 23:33:59,811\tINFO streaming_executor.py:109 -- Execution plan of Dataset: InputDataBuffer[Input] -> ActorPoolMapOperator[Map(GetModelOutputs)]\n"
     ]
    },
    {
     "data": {
      "application/vnd.jupyter.widget-view+json": {
       "model_id": "a9a5df2b1e5045a297070e47848932c8",
       "version_major": 2,
       "version_minor": 0
      },
      "text/plain": [
       "Running 0: 0.00 row [00:00, ? row/s]"
      ]
     },
     "metadata": {},
     "output_type": "display_data"
    },
    {
     "data": {
      "application/vnd.jupyter.widget-view+json": {
       "model_id": "aa7b6398565243a0a6a3e42ae561835e",
       "version_major": 2,
       "version_minor": 0
      },
      "text/plain": [
       "- Map(GetModelOutputs) 1: 0.00 row [00:00, ? row/s]"
      ]
     },
     "metadata": {},
     "output_type": "display_data"
    },
    {
     "name": "stderr",
     "output_type": "stream",
     "text": [
      "2025-03-29 23:34:48,930\tINFO streaming_executor.py:108 -- Starting execution of Dataset. Full logs are in /tmp/ray/session_2025-03-29_23-20-21_071722_922/logs/ray-data\n",
      "2025-03-29 23:34:48,931\tINFO streaming_executor.py:109 -- Execution plan of Dataset: InputDataBuffer[Input] -> ActorPoolMapOperator[Map(FactualKnowledgeScores)]\n"
     ]
    },
    {
     "data": {
      "application/vnd.jupyter.widget-view+json": {
       "model_id": "79ac96a4e9d24a828e0f1f7e935e04c7",
       "version_major": 2,
       "version_minor": 0
      },
      "text/plain": [
       "Running 0: 0.00 row [00:00, ? row/s]"
      ]
     },
     "metadata": {},
     "output_type": "display_data"
    },
    {
     "data": {
      "application/vnd.jupyter.widget-view+json": {
       "model_id": "681cf19ab0224cffbdeae01ce98c7009",
       "version_major": 2,
       "version_minor": 0
      },
      "text/plain": [
       "- Map(FactualKnowledgeScores) 1: 0.00 row [00:00, ? row/s]"
      ]
     },
     "metadata": {},
     "output_type": "display_data"
    },
    {
     "name": "stderr",
     "output_type": "stream",
     "text": [
      "2025-03-29 23:34:58,242\tINFO streaming_executor.py:108 -- Starting execution of Dataset. Full logs are in /tmp/ray/session_2025-03-29_23-20-21_071722_922/logs/ray-data\n",
      "2025-03-29 23:34:58,243\tINFO streaming_executor.py:109 -- Execution plan of Dataset: InputDataBuffer[Input] -> AllToAllOperator[Aggregate] -> LimitOperator[limit=1]\n"
     ]
    },
    {
     "data": {
      "application/vnd.jupyter.widget-view+json": {
       "model_id": "500fb53cbc024307a6fee05a07d368d7",
       "version_major": 2,
       "version_minor": 0
      },
      "text/plain": [
       "Running 0: 0.00 row [00:00, ? row/s]"
      ]
     },
     "metadata": {},
     "output_type": "display_data"
    },
    {
     "data": {
      "application/vnd.jupyter.widget-view+json": {
       "model_id": "481f42c1ea974bdf99a17a2a9dc67857",
       "version_major": 2,
       "version_minor": 0
      },
      "text/plain": [
       "- Aggregate 1: 0.00 row [00:00, ? row/s]"
      ]
     },
     "metadata": {},
     "output_type": "display_data"
    },
    {
     "data": {
      "application/vnd.jupyter.widget-view+json": {
       "model_id": "207ab541f9d04114ad3a040cd50e17b4",
       "version_major": 2,
       "version_minor": 0
      },
      "text/plain": [
       "Sort Sample 2:   0%|          | 0.00/1.00 [00:00<?, ? row/s]"
      ]
     },
     "metadata": {},
     "output_type": "display_data"
    },
    {
     "data": {
      "application/vnd.jupyter.widget-view+json": {
       "model_id": "38c5607248b94a3e8944ffd89f2087c9",
       "version_major": 2,
       "version_minor": 0
      },
      "text/plain": [
       "Shuffle Map 3:   0%|          | 0.00/1.00 [00:00<?, ? row/s]"
      ]
     },
     "metadata": {},
     "output_type": "display_data"
    },
    {
     "data": {
      "application/vnd.jupyter.widget-view+json": {
       "model_id": "09c1fe589b7646949b52885cf704be5d",
       "version_major": 2,
       "version_minor": 0
      },
      "text/plain": [
       "Shuffle Reduce 4:   0%|          | 0.00/1.00 [00:00<?, ? row/s]"
      ]
     },
     "metadata": {},
     "output_type": "display_data"
    },
    {
     "data": {
      "application/vnd.jupyter.widget-view+json": {
       "model_id": "e1a8471f507f4c07bd9f90d700fc4d83",
       "version_major": 2,
       "version_minor": 0
      },
      "text/plain": [
       "- limit=1 5: 0.00 row [00:00, ? row/s]"
      ]
     },
     "metadata": {},
     "output_type": "display_data"
    },
    {
     "name": "stderr",
     "output_type": "stream",
     "text": [
      "2025-03-29 23:34:58,636\tINFO streaming_executor.py:108 -- Starting execution of Dataset. Full logs are in /tmp/ray/session_2025-03-29_23-20-21_071722_922/logs/ray-data\n",
      "2025-03-29 23:34:58,637\tINFO streaming_executor.py:109 -- Execution plan of Dataset: InputDataBuffer[Input] -> AllToAllOperator[Aggregate] -> LimitOperator[limit=1]\n"
     ]
    },
    {
     "data": {
      "application/vnd.jupyter.widget-view+json": {
       "model_id": "ce48481536bd4015ab2774b6e35bcd71",
       "version_major": 2,
       "version_minor": 0
      },
      "text/plain": [
       "Running 0: 0.00 row [00:00, ? row/s]"
      ]
     },
     "metadata": {},
     "output_type": "display_data"
    },
    {
     "data": {
      "application/vnd.jupyter.widget-view+json": {
       "model_id": "9827141732f749468e2fcbd37a913a9c",
       "version_major": 2,
       "version_minor": 0
      },
      "text/plain": [
       "- Aggregate 1: 0.00 row [00:00, ? row/s]"
      ]
     },
     "metadata": {},
     "output_type": "display_data"
    },
    {
     "data": {
      "application/vnd.jupyter.widget-view+json": {
       "model_id": "846480a874fe4dde837fb83e8596e3df",
       "version_major": 2,
       "version_minor": 0
      },
      "text/plain": [
       "Sort Sample 2:   0%|          | 0.00/1.00 [00:00<?, ? row/s]"
      ]
     },
     "metadata": {},
     "output_type": "display_data"
    },
    {
     "data": {
      "application/vnd.jupyter.widget-view+json": {
       "model_id": "14560813c1ac4eb39071be110a5a2f84",
       "version_major": 2,
       "version_minor": 0
      },
      "text/plain": [
       "Shuffle Map 3:   0%|          | 0.00/1.00 [00:00<?, ? row/s]"
      ]
     },
     "metadata": {},
     "output_type": "display_data"
    },
    {
     "data": {
      "application/vnd.jupyter.widget-view+json": {
       "model_id": "96cb8bca189146a29cdaeb8da553b820",
       "version_major": 2,
       "version_minor": 0
      },
      "text/plain": [
       "Shuffle Reduce 4:   0%|          | 0.00/1.00 [00:00<?, ? row/s]"
      ]
     },
     "metadata": {},
     "output_type": "display_data"
    },
    {
     "data": {
      "application/vnd.jupyter.widget-view+json": {
       "model_id": "ba0dde61bebb42d298d2d5c262d407a1",
       "version_major": 2,
       "version_minor": 0
      },
      "text/plain": [
       "- limit=1 5: 0.00 row [00:00, ? row/s]"
      ]
     },
     "metadata": {},
     "output_type": "display_data"
    },
    {
     "data": {
      "text/html": [
       "<pre style=\"white-space:pre;overflow-x:auto;line-height:normal;font-family:Menlo,'DejaVu Sans Mono',consolas,'Courier New',monospace\"><span style=\"color: #7fbfbf; text-decoration-color: #7fbfbf\">[03/29/25 23:34:59] </span><span style=\"color: #d7af00; text-decoration-color: #d7af00; font-weight: bold\">WARNING </span> File <span style=\"color: #e100e1; text-decoration-color: #e100e1\">/tmp/eval_results/factual_knowledge_trex_sample.jsonl</span> exists. <a href=\"file:///opt/conda/lib/python3.11/site-packages/fmeval/eval_algorithms/save_strategy.py\" target=\"_blank\"><span style=\"color: #7f7f7f; text-decoration-color: #7f7f7f\">save_strategy.py</span></a><span style=\"color: #7f7f7f; text-decoration-color: #7f7f7f\">:</span><a href=\"file:///opt/conda/lib/python3.11/site-packages/fmeval/eval_algorithms/save_strategy.py#68\" target=\"_blank\"><span style=\"color: #7f7f7f; text-decoration-color: #7f7f7f\">68</span></a>\n",
       "<span style=\"color: #7fbfbf; text-decoration-color: #7fbfbf\">                    </span>         Overwriting existing file                                          <span style=\"color: #7f7f7f; text-decoration-color: #7f7f7f\">                   </span>\n",
       "</pre>\n"
      ],
      "text/plain": [
       "\u001b[2;36m[03/29/25 23:34:59]\u001b[0m\u001b[2;36m \u001b[0m\u001b[1;38;2;215;175;0mWARNING \u001b[0m File \u001b[38;2;225;0;225m/tmp/eval_results/\u001b[0m\u001b[38;2;225;0;225mfactual_knowledge_trex_sample.jsonl\u001b[0m exists. \u001b]8;id=620812;file:///opt/conda/lib/python3.11/site-packages/fmeval/eval_algorithms/save_strategy.py\u001b\\\u001b[2msave_strategy.py\u001b[0m\u001b]8;;\u001b\\\u001b[2m:\u001b[0m\u001b]8;id=399772;file:///opt/conda/lib/python3.11/site-packages/fmeval/eval_algorithms/save_strategy.py#68\u001b\\\u001b[2m68\u001b[0m\u001b]8;;\u001b\\\n",
       "\u001b[2;36m                    \u001b[0m         Overwriting existing file                                          \u001b[2m                   \u001b[0m\n"
      ]
     },
     "metadata": {},
     "output_type": "display_data"
    },
    {
     "name": "stderr",
     "output_type": "stream",
     "text": [
      "2025-03-29 23:34:59,041\tINFO streaming_executor.py:108 -- Starting execution of Dataset. Full logs are in /tmp/ray/session_2025-03-29_23-20-21_071722_922/logs/ray-data\n",
      "2025-03-29 23:34:59,042\tINFO streaming_executor.py:109 -- Execution plan of Dataset: InputDataBuffer[Input] -> TaskPoolMapOperator[Map(<lambda>)]\n"
     ]
    },
    {
     "data": {
      "application/vnd.jupyter.widget-view+json": {
       "model_id": "abef743b57e64453b6cb63530f8b9e97",
       "version_major": 2,
       "version_minor": 0
      },
      "text/plain": [
       "Running 0: 0.00 row [00:00, ? row/s]"
      ]
     },
     "metadata": {},
     "output_type": "display_data"
    },
    {
     "data": {
      "application/vnd.jupyter.widget-view+json": {
       "model_id": "d1b0dcf7969d4602923e05cef189c812",
       "version_major": 2,
       "version_minor": 0
      },
      "text/plain": [
       "- Map(<lambda>) 1: 0.00 row [00:00, ? row/s]"
      ]
     },
     "metadata": {},
     "output_type": "display_data"
    },
    {
     "name": "stderr",
     "output_type": "stream",
     "text": [
      "2025-03-29 23:34:59,462\tINFO streaming_executor.py:108 -- Starting execution of Dataset. Full logs are in /tmp/ray/session_2025-03-29_23-20-21_071722_922/logs/ray-data\n",
      "2025-03-29 23:34:59,463\tINFO streaming_executor.py:109 -- Execution plan of Dataset: InputDataBuffer[Input] -> TaskPoolMapOperator[Map(<lambda>)]\n"
     ]
    },
    {
     "data": {
      "application/vnd.jupyter.widget-view+json": {
       "model_id": "0240c554e40d4ea98e0ec08c439da661",
       "version_major": 2,
       "version_minor": 0
      },
      "text/plain": [
       "Running 0: 0.00 row [00:00, ? row/s]"
      ]
     },
     "metadata": {},
     "output_type": "display_data"
    },
    {
     "data": {
      "application/vnd.jupyter.widget-view+json": {
       "model_id": "71f5b03c775a47469ba60c249770d280",
       "version_major": 2,
       "version_minor": 0
      },
      "text/plain": [
       "- Map(<lambda>) 1: 0.00 row [00:00, ? row/s]"
      ]
     },
     "metadata": {},
     "output_type": "display_data"
    },
    {
     "data": {
      "text/html": [
       "<pre style=\"white-space:pre;overflow-x:auto;line-height:normal;font-family:Menlo,'DejaVu Sans Mono',consolas,'Courier New',monospace\"><span style=\"color: #7fbfbf; text-decoration-color: #7fbfbf\">                    </span><span style=\"color: #0069ff; text-decoration-color: #0069ff; font-weight: bold\">INFO    </span> Saving dataset to file took <span style=\"color: #008080; text-decoration-color: #008080; font-weight: bold\">0.83</span> seconds.                              <a href=\"file:///opt/conda/lib/python3.11/site-packages/fmeval/perf_util.py\" target=\"_blank\"><span style=\"color: #7f7f7f; text-decoration-color: #7f7f7f\">perf_util.py</span></a><span style=\"color: #7f7f7f; text-decoration-color: #7f7f7f\">:</span><a href=\"file:///opt/conda/lib/python3.11/site-packages/fmeval/perf_util.py#18\" target=\"_blank\"><span style=\"color: #7f7f7f; text-decoration-color: #7f7f7f\">18</span></a>\n",
       "</pre>\n"
      ],
      "text/plain": [
       "\u001b[2;36m                   \u001b[0m\u001b[2;36m \u001b[0m\u001b[1;38;2;0;105;255mINFO    \u001b[0m Saving dataset to file took \u001b[1;36m0.83\u001b[0m seconds.                              \u001b]8;id=661711;file:///opt/conda/lib/python3.11/site-packages/fmeval/perf_util.py\u001b\\\u001b[2mperf_util.py\u001b[0m\u001b]8;;\u001b\\\u001b[2m:\u001b[0m\u001b]8;id=759783;file:///opt/conda/lib/python3.11/site-packages/fmeval/perf_util.py#18\u001b\\\u001b[2m18\u001b[0m\u001b]8;;\u001b\\\n"
      ]
     },
     "metadata": {},
     "output_type": "display_data"
    },
    {
     "data": {
      "text/html": [
       "<pre style=\"white-space:pre;overflow-x:auto;line-height:normal;font-family:Menlo,'DejaVu Sans Mono',consolas,'Courier New',monospace\"><span style=\"color: #7fbfbf; text-decoration-color: #7fbfbf\">                    </span><span style=\"color: #0069ff; text-decoration-color: #0069ff; font-weight: bold\">INFO    </span> ===================================================                    <a href=\"file:///opt/conda/lib/python3.11/site-packages/fmeval/perf_util.py\" target=\"_blank\"><span style=\"color: #7f7f7f; text-decoration-color: #7f7f7f\">perf_util.py</span></a><span style=\"color: #7f7f7f; text-decoration-color: #7f7f7f\">:</span><a href=\"file:///opt/conda/lib/python3.11/site-packages/fmeval/perf_util.py#19\" target=\"_blank\"><span style=\"color: #7f7f7f; text-decoration-color: #7f7f7f\">19</span></a>\n",
       "</pre>\n"
      ],
      "text/plain": [
       "\u001b[2;36m                   \u001b[0m\u001b[2;36m \u001b[0m\u001b[1;38;2;0;105;255mINFO    \u001b[0m ===================================================                    \u001b]8;id=284771;file:///opt/conda/lib/python3.11/site-packages/fmeval/perf_util.py\u001b\\\u001b[2mperf_util.py\u001b[0m\u001b]8;;\u001b\\\u001b[2m:\u001b[0m\u001b]8;id=493251;file:///opt/conda/lib/python3.11/site-packages/fmeval/perf_util.py#19\u001b\\\u001b[2m19\u001b[0m\u001b]8;;\u001b\\\n"
      ]
     },
     "metadata": {},
     "output_type": "display_data"
    },
    {
     "data": {
      "text/html": [
       "<pre style=\"white-space:pre;overflow-x:auto;line-height:normal;font-family:Menlo,'DejaVu Sans Mono',consolas,'Courier New',monospace\"><span style=\"color: #7fbfbf; text-decoration-color: #7fbfbf\">                    </span><span style=\"color: #0069ff; text-decoration-color: #0069ff; font-weight: bold\">INFO    </span> Computing score and aggregation on dataset trex_sample took <span style=\"color: #008080; text-decoration-color: #008080; font-weight: bold\">69.44</span>      <a href=\"file:///opt/conda/lib/python3.11/site-packages/fmeval/perf_util.py\" target=\"_blank\"><span style=\"color: #7f7f7f; text-decoration-color: #7f7f7f\">perf_util.py</span></a><span style=\"color: #7f7f7f; text-decoration-color: #7f7f7f\">:</span><a href=\"file:///opt/conda/lib/python3.11/site-packages/fmeval/perf_util.py#18\" target=\"_blank\"><span style=\"color: #7f7f7f; text-decoration-color: #7f7f7f\">18</span></a>\n",
       "<span style=\"color: #7fbfbf; text-decoration-color: #7fbfbf\">                    </span>         seconds.                                                               <span style=\"color: #7f7f7f; text-decoration-color: #7f7f7f\">               </span>\n",
       "</pre>\n"
      ],
      "text/plain": [
       "\u001b[2;36m                   \u001b[0m\u001b[2;36m \u001b[0m\u001b[1;38;2;0;105;255mINFO    \u001b[0m Computing score and aggregation on dataset trex_sample took \u001b[1;36m69.44\u001b[0m      \u001b]8;id=486109;file:///opt/conda/lib/python3.11/site-packages/fmeval/perf_util.py\u001b\\\u001b[2mperf_util.py\u001b[0m\u001b]8;;\u001b\\\u001b[2m:\u001b[0m\u001b]8;id=653580;file:///opt/conda/lib/python3.11/site-packages/fmeval/perf_util.py#18\u001b\\\u001b[2m18\u001b[0m\u001b]8;;\u001b\\\n",
       "\u001b[2;36m                    \u001b[0m         seconds.                                                               \u001b[2m               \u001b[0m\n"
      ]
     },
     "metadata": {},
     "output_type": "display_data"
    },
    {
     "data": {
      "text/html": [
       "<pre style=\"white-space:pre;overflow-x:auto;line-height:normal;font-family:Menlo,'DejaVu Sans Mono',consolas,'Courier New',monospace\"><span style=\"color: #7fbfbf; text-decoration-color: #7fbfbf\">                    </span><span style=\"color: #0069ff; text-decoration-color: #0069ff; font-weight: bold\">INFO    </span> ===================================================                    <a href=\"file:///opt/conda/lib/python3.11/site-packages/fmeval/perf_util.py\" target=\"_blank\"><span style=\"color: #7f7f7f; text-decoration-color: #7f7f7f\">perf_util.py</span></a><span style=\"color: #7f7f7f; text-decoration-color: #7f7f7f\">:</span><a href=\"file:///opt/conda/lib/python3.11/site-packages/fmeval/perf_util.py#19\" target=\"_blank\"><span style=\"color: #7f7f7f; text-decoration-color: #7f7f7f\">19</span></a>\n",
       "</pre>\n"
      ],
      "text/plain": [
       "\u001b[2;36m                   \u001b[0m\u001b[2;36m \u001b[0m\u001b[1;38;2;0;105;255mINFO    \u001b[0m ===================================================                    \u001b]8;id=450771;file:///opt/conda/lib/python3.11/site-packages/fmeval/perf_util.py\u001b\\\u001b[2mperf_util.py\u001b[0m\u001b]8;;\u001b\\\u001b[2m:\u001b[0m\u001b]8;id=125831;file:///opt/conda/lib/python3.11/site-packages/fmeval/perf_util.py#19\u001b\\\u001b[2m19\u001b[0m\u001b]8;;\u001b\\\n"
      ]
     },
     "metadata": {},
     "output_type": "display_data"
    },
    {
     "name": "stdout",
     "output_type": "stream",
     "text": [
      "MLflow parent run ID: 72ee6a618d3a4f3d8e6676fdc97415e7\n"
     ]
    },
    {
     "name": "stderr",
     "output_type": "stream",
     "text": [
      "/opt/conda/lib/python3.11/site-packages/mlflow/data/dataset_source_registry.py:149: UserWarning: Failed to determine whether UCVolumeDatasetSource can resolve source information for 'datasets/trex_sample.jsonl'. Exception: \n",
      "  return _dataset_source_registry.resolve(\n",
      "/opt/conda/lib/python3.11/site-packages/mlflow/data/dataset_source_registry.py:149: UserWarning: The specified dataset source can be interpreted in multiple ways: LocalArtifactDatasetSource, LocalArtifactDatasetSource. MLflow will assume that this is a LocalArtifactDatasetSource source.\n",
      "  return _dataset_source_registry.resolve(\n",
      "/opt/conda/lib/python3.11/site-packages/mlflow/data/dataset_source_registry.py:149: UserWarning: Failed to determine whether UCVolumeDatasetSource can resolve source information for '/tmp/eval_results/factual_knowledge_trex_sample.jsonl'. Exception: \n",
      "  return _dataset_source_registry.resolve(\n",
      "/opt/conda/lib/python3.11/site-packages/mlflow/data/dataset_source_registry.py:149: UserWarning: The specified dataset source can be interpreted in multiple ways: LocalArtifactDatasetSource, LocalArtifactDatasetSource. MLflow will assume that this is a LocalArtifactDatasetSource source.\n",
      "  return _dataset_source_registry.resolve(\n",
      "2025/03/29 23:35:01 INFO mlflow.tracking._tracking_service.client: 🏃 View run FactualKnowledge at: https://us-west-2.experiments.sagemaker.aws/#/experiments/2/runs/c49ac4940f314f6385011f171b250c22.\n",
      "2025/03/29 23:35:01 INFO mlflow.tracking._tracking_service.client: 🧪 View experiment at: https://us-west-2.experiments.sagemaker.aws/#/experiments/2.\n",
      "2025-03-29 23:35:10,635\tINFO streaming_executor.py:108 -- Starting execution of Dataset. Full logs are in /tmp/ray/session_2025-03-29_23-20-21_071722_922/logs/ray-data\n",
      "2025-03-29 23:35:10,636\tINFO streaming_executor.py:109 -- Execution plan of Dataset: InputDataBuffer[Input] -> TaskPoolMapOperator[ReadCustomJSON] -> AggregateNumRows[AggregateNumRows]\n"
     ]
    },
    {
     "data": {
      "application/vnd.jupyter.widget-view+json": {
       "model_id": "9a2975e830cd4a3494d7f2d87c91e533",
       "version_major": 2,
       "version_minor": 0
      },
      "text/plain": [
       "Running 0: 0.00 row [00:00, ? row/s]"
      ]
     },
     "metadata": {},
     "output_type": "display_data"
    },
    {
     "data": {
      "application/vnd.jupyter.widget-view+json": {
       "model_id": "1cfcf00c01eb4c71ac6a6992fa029c6c",
       "version_major": 2,
       "version_minor": 0
      },
      "text/plain": [
       "- ReadCustomJSON->SplitBlocks(96) 1: 0.00 row [00:00, ? row/s]"
      ]
     },
     "metadata": {},
     "output_type": "display_data"
    },
    {
     "data": {
      "application/vnd.jupyter.widget-view+json": {
       "model_id": "57058b283fe940e4b1aa5e6d2b45e50a",
       "version_major": 2,
       "version_minor": 0
      },
      "text/plain": [
       "- AggregateNumRows 2: 0.00 row [00:00, ? row/s]"
      ]
     },
     "metadata": {},
     "output_type": "display_data"
    },
    {
     "name": "stderr",
     "output_type": "stream",
     "text": [
      "2025-03-29 23:35:10,779\tINFO streaming_executor.py:108 -- Starting execution of Dataset. Full logs are in /tmp/ray/session_2025-03-29_23-20-21_071722_922/logs/ray-data\n",
      "2025-03-29 23:35:10,780\tINFO streaming_executor.py:109 -- Execution plan of Dataset: InputDataBuffer[Input] -> TaskPoolMapOperator[ReadCustomJSON]\n"
     ]
    },
    {
     "data": {
      "application/vnd.jupyter.widget-view+json": {
       "model_id": "b1cc025376c54ac38c08538dfc676d41",
       "version_major": 2,
       "version_minor": 0
      },
      "text/plain": [
       "Running 0: 0.00 row [00:00, ? row/s]"
      ]
     },
     "metadata": {},
     "output_type": "display_data"
    },
    {
     "data": {
      "application/vnd.jupyter.widget-view+json": {
       "model_id": "fcd22f809d35411795435699b1a462f0",
       "version_major": 2,
       "version_minor": 0
      },
      "text/plain": [
       "- ReadCustomJSON->SplitBlocks(96) 1: 0.00 row [00:00, ? row/s]"
      ]
     },
     "metadata": {},
     "output_type": "display_data"
    },
    {
     "name": "stderr",
     "output_type": "stream",
     "text": [
      "2025-03-29 23:35:10,952\tINFO streaming_executor.py:108 -- Starting execution of Dataset. Full logs are in /tmp/ray/session_2025-03-29_23-20-21_071722_922/logs/ray-data\n",
      "2025-03-29 23:35:10,953\tINFO streaming_executor.py:109 -- Execution plan of Dataset: InputDataBuffer[Input] -> AllToAllOperator[Repartition]\n"
     ]
    },
    {
     "data": {
      "application/vnd.jupyter.widget-view+json": {
       "model_id": "eb5e0fed734542adbcf84455fd2f7802",
       "version_major": 2,
       "version_minor": 0
      },
      "text/plain": [
       "Running 0: 0.00 row [00:00, ? row/s]"
      ]
     },
     "metadata": {},
     "output_type": "display_data"
    },
    {
     "data": {
      "application/vnd.jupyter.widget-view+json": {
       "model_id": "903db15b04294451b8667179a31a4be0",
       "version_major": 2,
       "version_minor": 0
      },
      "text/plain": [
       "- Repartition 1: 0.00 row [00:00, ? row/s]"
      ]
     },
     "metadata": {},
     "output_type": "display_data"
    },
    {
     "data": {
      "application/vnd.jupyter.widget-view+json": {
       "model_id": "fba92fd52c3d43beb9f523e7eacf0296",
       "version_major": 2,
       "version_minor": 0
      },
      "text/plain": [
       "Split Repartition 2:   0%|          | 0.00/1.00 [00:00<?, ? row/s]"
      ]
     },
     "metadata": {},
     "output_type": "display_data"
    },
    {
     "data": {
      "text/html": [
       "<pre style=\"white-space:pre;overflow-x:auto;line-height:normal;font-family:Menlo,'DejaVu Sans Mono',consolas,'Courier New',monospace\"><span style=\"color: #7fbfbf; text-decoration-color: #7fbfbf\">[03/29/25 23:35:11] </span><span style=\"color: #0069ff; text-decoration-color: #0069ff; font-weight: bold\">INFO    </span> Loading dataset toxicity_sample took <span style=\"color: #008080; text-decoration-color: #008080; font-weight: bold\">0.54</span> seconds.                     <a href=\"file:///opt/conda/lib/python3.11/site-packages/fmeval/perf_util.py\" target=\"_blank\"><span style=\"color: #7f7f7f; text-decoration-color: #7f7f7f\">perf_util.py</span></a><span style=\"color: #7f7f7f; text-decoration-color: #7f7f7f\">:</span><a href=\"file:///opt/conda/lib/python3.11/site-packages/fmeval/perf_util.py#18\" target=\"_blank\"><span style=\"color: #7f7f7f; text-decoration-color: #7f7f7f\">18</span></a>\n",
       "</pre>\n"
      ],
      "text/plain": [
       "\u001b[2;36m[03/29/25 23:35:11]\u001b[0m\u001b[2;36m \u001b[0m\u001b[1;38;2;0;105;255mINFO    \u001b[0m Loading dataset toxicity_sample took \u001b[1;36m0.54\u001b[0m seconds.                     \u001b]8;id=269639;file:///opt/conda/lib/python3.11/site-packages/fmeval/perf_util.py\u001b\\\u001b[2mperf_util.py\u001b[0m\u001b]8;;\u001b\\\u001b[2m:\u001b[0m\u001b]8;id=12464;file:///opt/conda/lib/python3.11/site-packages/fmeval/perf_util.py#18\u001b\\\u001b[2m18\u001b[0m\u001b]8;;\u001b\\\n"
      ]
     },
     "metadata": {},
     "output_type": "display_data"
    },
    {
     "data": {
      "text/html": [
       "<pre style=\"white-space:pre;overflow-x:auto;line-height:normal;font-family:Menlo,'DejaVu Sans Mono',consolas,'Courier New',monospace\"><span style=\"color: #7fbfbf; text-decoration-color: #7fbfbf\">                    </span><span style=\"color: #0069ff; text-decoration-color: #0069ff; font-weight: bold\">INFO    </span> ===================================================                    <a href=\"file:///opt/conda/lib/python3.11/site-packages/fmeval/perf_util.py\" target=\"_blank\"><span style=\"color: #7f7f7f; text-decoration-color: #7f7f7f\">perf_util.py</span></a><span style=\"color: #7f7f7f; text-decoration-color: #7f7f7f\">:</span><a href=\"file:///opt/conda/lib/python3.11/site-packages/fmeval/perf_util.py#19\" target=\"_blank\"><span style=\"color: #7f7f7f; text-decoration-color: #7f7f7f\">19</span></a>\n",
       "</pre>\n"
      ],
      "text/plain": [
       "\u001b[2;36m                   \u001b[0m\u001b[2;36m \u001b[0m\u001b[1;38;2;0;105;255mINFO    \u001b[0m ===================================================                    \u001b]8;id=56134;file:///opt/conda/lib/python3.11/site-packages/fmeval/perf_util.py\u001b\\\u001b[2mperf_util.py\u001b[0m\u001b]8;;\u001b\\\u001b[2m:\u001b[0m\u001b]8;id=943833;file:///opt/conda/lib/python3.11/site-packages/fmeval/perf_util.py#19\u001b\\\u001b[2m19\u001b[0m\u001b]8;;\u001b\\\n"
      ]
     },
     "metadata": {},
     "output_type": "display_data"
    },
    {
     "name": "stderr",
     "output_type": "stream",
     "text": [
      "2025-03-29 23:35:11,174\tINFO streaming_executor.py:108 -- Starting execution of Dataset. Full logs are in /tmp/ray/session_2025-03-29_23-20-21_071722_922/logs/ray-data\n",
      "2025-03-29 23:35:11,175\tINFO streaming_executor.py:109 -- Execution plan of Dataset: InputDataBuffer[Input] -> ActorPoolMapOperator[Map(GeneratePrompt)]\n"
     ]
    },
    {
     "data": {
      "application/vnd.jupyter.widget-view+json": {
       "model_id": "10e08a09f2d5488bbd5ff85ee4db97cf",
       "version_major": 2,
       "version_minor": 0
      },
      "text/plain": [
       "Running 0: 0.00 row [00:00, ? row/s]"
      ]
     },
     "metadata": {},
     "output_type": "display_data"
    },
    {
     "data": {
      "application/vnd.jupyter.widget-view+json": {
       "model_id": "6c15740b9c88441595cbe18d53338174",
       "version_major": 2,
       "version_minor": 0
      },
      "text/plain": [
       "- Map(GeneratePrompt) 1: 0.00 row [00:00, ? row/s]"
      ]
     },
     "metadata": {},
     "output_type": "display_data"
    },
    {
     "name": "stderr",
     "output_type": "stream",
     "text": [
      "2025-03-29 23:35:20,823\tINFO streaming_executor.py:108 -- Starting execution of Dataset. Full logs are in /tmp/ray/session_2025-03-29_23-20-21_071722_922/logs/ray-data\n",
      "2025-03-29 23:35:20,824\tINFO streaming_executor.py:109 -- Execution plan of Dataset: InputDataBuffer[Input] -> ActorPoolMapOperator[Map(GetModelOutputs)]\n"
     ]
    },
    {
     "data": {
      "application/vnd.jupyter.widget-view+json": {
       "model_id": "2cd8766e74cb45efabcf974d53ce3e0c",
       "version_major": 2,
       "version_minor": 0
      },
      "text/plain": [
       "Running 0: 0.00 row [00:00, ? row/s]"
      ]
     },
     "metadata": {},
     "output_type": "display_data"
    },
    {
     "data": {
      "application/vnd.jupyter.widget-view+json": {
       "model_id": "cc9497d1071b4f71a97d83d43d8653db",
       "version_major": 2,
       "version_minor": 0
      },
      "text/plain": [
       "- Map(GetModelOutputs) 1: 0.00 row [00:00, ? row/s]"
      ]
     },
     "metadata": {},
     "output_type": "display_data"
    },
    {
     "name": "stderr",
     "output_type": "stream",
     "text": [
      "2025-03-29 23:35:54,197\tINFO streaming_executor.py:108 -- Starting execution of Dataset. Full logs are in /tmp/ray/session_2025-03-29_23-20-21_071722_922/logs/ray-data\n",
      "2025-03-29 23:35:54,197\tINFO streaming_executor.py:109 -- Execution plan of Dataset: InputDataBuffer[Input] -> ActorPoolMapOperator[MapBatches(ToxicityScores)]\n"
     ]
    },
    {
     "data": {
      "application/vnd.jupyter.widget-view+json": {
       "model_id": "e4abb0e0ef2f4ba6986e4703ea5d820f",
       "version_major": 2,
       "version_minor": 0
      },
      "text/plain": [
       "Running 0: 0.00 row [00:00, ? row/s]"
      ]
     },
     "metadata": {},
     "output_type": "display_data"
    },
    {
     "data": {
      "application/vnd.jupyter.widget-view+json": {
       "model_id": "ab894b6b7f1e416cbf78af3901b87229",
       "version_major": 2,
       "version_minor": 0
      },
      "text/plain": [
       "- MapBatches(ToxicityScores) 1: 0.00 row [00:00, ? row/s]"
      ]
     },
     "metadata": {},
     "output_type": "display_data"
    },
    {
     "name": "stderr",
     "output_type": "stream",
     "text": [
      "2025-03-29 23:36:17,953\tINFO streaming_executor.py:108 -- Starting execution of Dataset. Full logs are in /tmp/ray/session_2025-03-29_23-20-21_071722_922/logs/ray-data\n",
      "2025-03-29 23:36:17,953\tINFO streaming_executor.py:109 -- Execution plan of Dataset: InputDataBuffer[Input] -> AllToAllOperator[Aggregate] -> LimitOperator[limit=1]\n"
     ]
    },
    {
     "data": {
      "application/vnd.jupyter.widget-view+json": {
       "model_id": "bc047620d3444fd88347dc92f242ac64",
       "version_major": 2,
       "version_minor": 0
      },
      "text/plain": [
       "Running 0: 0.00 row [00:00, ? row/s]"
      ]
     },
     "metadata": {},
     "output_type": "display_data"
    },
    {
     "data": {
      "application/vnd.jupyter.widget-view+json": {
       "model_id": "962fde6928b3470ea6c627079cac7c80",
       "version_major": 2,
       "version_minor": 0
      },
      "text/plain": [
       "- Aggregate 1: 0.00 row [00:00, ? row/s]"
      ]
     },
     "metadata": {},
     "output_type": "display_data"
    },
    {
     "data": {
      "application/vnd.jupyter.widget-view+json": {
       "model_id": "9d7cb64ab9fa4ac18730541273e2e090",
       "version_major": 2,
       "version_minor": 0
      },
      "text/plain": [
       "Sort Sample 2:   0%|          | 0.00/1.00 [00:00<?, ? row/s]"
      ]
     },
     "metadata": {},
     "output_type": "display_data"
    },
    {
     "data": {
      "application/vnd.jupyter.widget-view+json": {
       "model_id": "a474c232a8c940e7b775dc945bf28865",
       "version_major": 2,
       "version_minor": 0
      },
      "text/plain": [
       "Shuffle Map 3:   0%|          | 0.00/1.00 [00:00<?, ? row/s]"
      ]
     },
     "metadata": {},
     "output_type": "display_data"
    },
    {
     "data": {
      "application/vnd.jupyter.widget-view+json": {
       "model_id": "fc68c332f2344446aed4ee539f67cbd0",
       "version_major": 2,
       "version_minor": 0
      },
      "text/plain": [
       "Shuffle Reduce 4:   0%|          | 0.00/1.00 [00:00<?, ? row/s]"
      ]
     },
     "metadata": {},
     "output_type": "display_data"
    },
    {
     "data": {
      "application/vnd.jupyter.widget-view+json": {
       "model_id": "3d2b008f3eb8402d97c90c228b18dde7",
       "version_major": 2,
       "version_minor": 0
      },
      "text/plain": [
       "- limit=1 5: 0.00 row [00:00, ? row/s]"
      ]
     },
     "metadata": {},
     "output_type": "display_data"
    },
    {
     "name": "stderr",
     "output_type": "stream",
     "text": [
      "2025-03-29 23:36:18,023\tINFO streaming_executor.py:108 -- Starting execution of Dataset. Full logs are in /tmp/ray/session_2025-03-29_23-20-21_071722_922/logs/ray-data\n",
      "2025-03-29 23:36:18,023\tINFO streaming_executor.py:109 -- Execution plan of Dataset: InputDataBuffer[Input] -> AllToAllOperator[Aggregate] -> LimitOperator[limit=1]\n"
     ]
    },
    {
     "data": {
      "application/vnd.jupyter.widget-view+json": {
       "model_id": "ab170471abdc40ebb329ee039d1612b1",
       "version_major": 2,
       "version_minor": 0
      },
      "text/plain": [
       "Running 0: 0.00 row [00:00, ? row/s]"
      ]
     },
     "metadata": {},
     "output_type": "display_data"
    },
    {
     "data": {
      "application/vnd.jupyter.widget-view+json": {
       "model_id": "0ba2e773f9364b17931a4886a34efada",
       "version_major": 2,
       "version_minor": 0
      },
      "text/plain": [
       "- Aggregate 1: 0.00 row [00:00, ? row/s]"
      ]
     },
     "metadata": {},
     "output_type": "display_data"
    },
    {
     "data": {
      "application/vnd.jupyter.widget-view+json": {
       "model_id": "b1ae5967af7540ac83fb95a751cdb187",
       "version_major": 2,
       "version_minor": 0
      },
      "text/plain": [
       "Sort Sample 2:   0%|          | 0.00/1.00 [00:00<?, ? row/s]"
      ]
     },
     "metadata": {},
     "output_type": "display_data"
    },
    {
     "data": {
      "application/vnd.jupyter.widget-view+json": {
       "model_id": "f1a923bf3e694e76b3b11d56dea82a44",
       "version_major": 2,
       "version_minor": 0
      },
      "text/plain": [
       "Shuffle Map 3:   0%|          | 0.00/1.00 [00:00<?, ? row/s]"
      ]
     },
     "metadata": {},
     "output_type": "display_data"
    },
    {
     "data": {
      "application/vnd.jupyter.widget-view+json": {
       "model_id": "0e1996e81d654d72bde7e378a121bdf0",
       "version_major": 2,
       "version_minor": 0
      },
      "text/plain": [
       "Shuffle Reduce 4:   0%|          | 0.00/1.00 [00:00<?, ? row/s]"
      ]
     },
     "metadata": {},
     "output_type": "display_data"
    },
    {
     "data": {
      "application/vnd.jupyter.widget-view+json": {
       "model_id": "5ff43ed34e1e48e080f66aea3904454d",
       "version_major": 2,
       "version_minor": 0
      },
      "text/plain": [
       "- limit=1 5: 0.00 row [00:00, ? row/s]"
      ]
     },
     "metadata": {},
     "output_type": "display_data"
    },
    {
     "name": "stderr",
     "output_type": "stream",
     "text": [
      "2025-03-29 23:36:18,078\tINFO streaming_executor.py:108 -- Starting execution of Dataset. Full logs are in /tmp/ray/session_2025-03-29_23-20-21_071722_922/logs/ray-data\n",
      "2025-03-29 23:36:18,079\tINFO streaming_executor.py:109 -- Execution plan of Dataset: InputDataBuffer[Input] -> AllToAllOperator[Aggregate] -> LimitOperator[limit=1]\n"
     ]
    },
    {
     "data": {
      "application/vnd.jupyter.widget-view+json": {
       "model_id": "ea0e78533e20430cb1bd2d400b66ad17",
       "version_major": 2,
       "version_minor": 0
      },
      "text/plain": [
       "Running 0: 0.00 row [00:00, ? row/s]"
      ]
     },
     "metadata": {},
     "output_type": "display_data"
    },
    {
     "data": {
      "application/vnd.jupyter.widget-view+json": {
       "model_id": "3a471d48e2314351a99ca6b8c67e4c97",
       "version_major": 2,
       "version_minor": 0
      },
      "text/plain": [
       "- Aggregate 1: 0.00 row [00:00, ? row/s]"
      ]
     },
     "metadata": {},
     "output_type": "display_data"
    },
    {
     "data": {
      "application/vnd.jupyter.widget-view+json": {
       "model_id": "11ce66a2617b41eab35de5272247b4f3",
       "version_major": 2,
       "version_minor": 0
      },
      "text/plain": [
       "Sort Sample 2:   0%|          | 0.00/1.00 [00:00<?, ? row/s]"
      ]
     },
     "metadata": {},
     "output_type": "display_data"
    },
    {
     "data": {
      "application/vnd.jupyter.widget-view+json": {
       "model_id": "2cca2da65cc64b7b8182399fbea18694",
       "version_major": 2,
       "version_minor": 0
      },
      "text/plain": [
       "Shuffle Map 3:   0%|          | 0.00/1.00 [00:00<?, ? row/s]"
      ]
     },
     "metadata": {},
     "output_type": "display_data"
    },
    {
     "data": {
      "application/vnd.jupyter.widget-view+json": {
       "model_id": "2623172701ed450f99b752365284cd6e",
       "version_major": 2,
       "version_minor": 0
      },
      "text/plain": [
       "Shuffle Reduce 4:   0%|          | 0.00/1.00 [00:00<?, ? row/s]"
      ]
     },
     "metadata": {},
     "output_type": "display_data"
    },
    {
     "data": {
      "application/vnd.jupyter.widget-view+json": {
       "model_id": "ad5e98f1948c437e918e457d1e67f9c8",
       "version_major": 2,
       "version_minor": 0
      },
      "text/plain": [
       "- limit=1 5: 0.00 row [00:00, ? row/s]"
      ]
     },
     "metadata": {},
     "output_type": "display_data"
    },
    {
     "name": "stderr",
     "output_type": "stream",
     "text": [
      "2025-03-29 23:36:18,143\tINFO streaming_executor.py:108 -- Starting execution of Dataset. Full logs are in /tmp/ray/session_2025-03-29_23-20-21_071722_922/logs/ray-data\n",
      "2025-03-29 23:36:18,144\tINFO streaming_executor.py:109 -- Execution plan of Dataset: InputDataBuffer[Input] -> AllToAllOperator[Aggregate] -> LimitOperator[limit=1]\n"
     ]
    },
    {
     "data": {
      "application/vnd.jupyter.widget-view+json": {
       "model_id": "0d04f5c33960474b982f498cfb4c45f6",
       "version_major": 2,
       "version_minor": 0
      },
      "text/plain": [
       "Running 0: 0.00 row [00:00, ? row/s]"
      ]
     },
     "metadata": {},
     "output_type": "display_data"
    },
    {
     "data": {
      "application/vnd.jupyter.widget-view+json": {
       "model_id": "11458f2c8f0b43feb2170610942849dd",
       "version_major": 2,
       "version_minor": 0
      },
      "text/plain": [
       "- Aggregate 1: 0.00 row [00:00, ? row/s]"
      ]
     },
     "metadata": {},
     "output_type": "display_data"
    },
    {
     "data": {
      "application/vnd.jupyter.widget-view+json": {
       "model_id": "571d551a3aa24b0b8105dd6c590f44ce",
       "version_major": 2,
       "version_minor": 0
      },
      "text/plain": [
       "Sort Sample 2:   0%|          | 0.00/1.00 [00:00<?, ? row/s]"
      ]
     },
     "metadata": {},
     "output_type": "display_data"
    },
    {
     "data": {
      "application/vnd.jupyter.widget-view+json": {
       "model_id": "294d99366ce24b8da96f8450ceb46723",
       "version_major": 2,
       "version_minor": 0
      },
      "text/plain": [
       "Shuffle Map 3:   0%|          | 0.00/1.00 [00:00<?, ? row/s]"
      ]
     },
     "metadata": {},
     "output_type": "display_data"
    },
    {
     "data": {
      "application/vnd.jupyter.widget-view+json": {
       "model_id": "09b19ad6f23e4ba39cca6334a806c3b1",
       "version_major": 2,
       "version_minor": 0
      },
      "text/plain": [
       "Shuffle Reduce 4:   0%|          | 0.00/1.00 [00:00<?, ? row/s]"
      ]
     },
     "metadata": {},
     "output_type": "display_data"
    },
    {
     "data": {
      "application/vnd.jupyter.widget-view+json": {
       "model_id": "1526b4ed7b5b455cbc5bf593a2b8e47a",
       "version_major": 2,
       "version_minor": 0
      },
      "text/plain": [
       "- limit=1 5: 0.00 row [00:00, ? row/s]"
      ]
     },
     "metadata": {},
     "output_type": "display_data"
    },
    {
     "name": "stderr",
     "output_type": "stream",
     "text": [
      "2025-03-29 23:36:18,208\tINFO streaming_executor.py:108 -- Starting execution of Dataset. Full logs are in /tmp/ray/session_2025-03-29_23-20-21_071722_922/logs/ray-data\n",
      "2025-03-29 23:36:18,209\tINFO streaming_executor.py:109 -- Execution plan of Dataset: InputDataBuffer[Input] -> AllToAllOperator[Aggregate] -> LimitOperator[limit=1]\n"
     ]
    },
    {
     "data": {
      "application/vnd.jupyter.widget-view+json": {
       "model_id": "f849174dd77644c3bd1ca5402bb2153b",
       "version_major": 2,
       "version_minor": 0
      },
      "text/plain": [
       "Running 0: 0.00 row [00:00, ? row/s]"
      ]
     },
     "metadata": {},
     "output_type": "display_data"
    },
    {
     "data": {
      "application/vnd.jupyter.widget-view+json": {
       "model_id": "d5e4145713924ebd86c62ac6fc4b539a",
       "version_major": 2,
       "version_minor": 0
      },
      "text/plain": [
       "- Aggregate 1: 0.00 row [00:00, ? row/s]"
      ]
     },
     "metadata": {},
     "output_type": "display_data"
    },
    {
     "data": {
      "application/vnd.jupyter.widget-view+json": {
       "model_id": "ece8f2fab1b24cb794bba59d9e9ffaae",
       "version_major": 2,
       "version_minor": 0
      },
      "text/plain": [
       "Sort Sample 2:   0%|          | 0.00/1.00 [00:00<?, ? row/s]"
      ]
     },
     "metadata": {},
     "output_type": "display_data"
    },
    {
     "data": {
      "application/vnd.jupyter.widget-view+json": {
       "model_id": "196ffc7dfac64597af1520563b02ac44",
       "version_major": 2,
       "version_minor": 0
      },
      "text/plain": [
       "Shuffle Map 3:   0%|          | 0.00/1.00 [00:00<?, ? row/s]"
      ]
     },
     "metadata": {},
     "output_type": "display_data"
    },
    {
     "data": {
      "application/vnd.jupyter.widget-view+json": {
       "model_id": "cd427a2dc97f4bb2be3901c08aebc3ba",
       "version_major": 2,
       "version_minor": 0
      },
      "text/plain": [
       "Shuffle Reduce 4:   0%|          | 0.00/1.00 [00:00<?, ? row/s]"
      ]
     },
     "metadata": {},
     "output_type": "display_data"
    },
    {
     "data": {
      "application/vnd.jupyter.widget-view+json": {
       "model_id": "06d3bce51f40415aa2902cd73ac20a6e",
       "version_major": 2,
       "version_minor": 0
      },
      "text/plain": [
       "- limit=1 5: 0.00 row [00:00, ? row/s]"
      ]
     },
     "metadata": {},
     "output_type": "display_data"
    },
    {
     "name": "stderr",
     "output_type": "stream",
     "text": [
      "2025-03-29 23:36:18,271\tINFO streaming_executor.py:108 -- Starting execution of Dataset. Full logs are in /tmp/ray/session_2025-03-29_23-20-21_071722_922/logs/ray-data\n",
      "2025-03-29 23:36:18,272\tINFO streaming_executor.py:109 -- Execution plan of Dataset: InputDataBuffer[Input] -> AllToAllOperator[Aggregate] -> LimitOperator[limit=1]\n"
     ]
    },
    {
     "data": {
      "application/vnd.jupyter.widget-view+json": {
       "model_id": "c31cfd7ba36840a588fe7bfcf4b86adc",
       "version_major": 2,
       "version_minor": 0
      },
      "text/plain": [
       "Running 0: 0.00 row [00:00, ? row/s]"
      ]
     },
     "metadata": {},
     "output_type": "display_data"
    },
    {
     "data": {
      "application/vnd.jupyter.widget-view+json": {
       "model_id": "e60e195f87634bdf8610a77849887305",
       "version_major": 2,
       "version_minor": 0
      },
      "text/plain": [
       "- Aggregate 1: 0.00 row [00:00, ? row/s]"
      ]
     },
     "metadata": {},
     "output_type": "display_data"
    },
    {
     "data": {
      "application/vnd.jupyter.widget-view+json": {
       "model_id": "594d4dd159844a05bd5bc527fa1e6896",
       "version_major": 2,
       "version_minor": 0
      },
      "text/plain": [
       "Sort Sample 2:   0%|          | 0.00/1.00 [00:00<?, ? row/s]"
      ]
     },
     "metadata": {},
     "output_type": "display_data"
    },
    {
     "data": {
      "application/vnd.jupyter.widget-view+json": {
       "model_id": "2d1c613b1297455b802194b380721133",
       "version_major": 2,
       "version_minor": 0
      },
      "text/plain": [
       "Shuffle Map 3:   0%|          | 0.00/1.00 [00:00<?, ? row/s]"
      ]
     },
     "metadata": {},
     "output_type": "display_data"
    },
    {
     "data": {
      "application/vnd.jupyter.widget-view+json": {
       "model_id": "4b02674c8c44447b8573006883227979",
       "version_major": 2,
       "version_minor": 0
      },
      "text/plain": [
       "Shuffle Reduce 4:   0%|          | 0.00/1.00 [00:00<?, ? row/s]"
      ]
     },
     "metadata": {},
     "output_type": "display_data"
    },
    {
     "data": {
      "application/vnd.jupyter.widget-view+json": {
       "model_id": "c801541cf5894362b6e736b05d00e44a",
       "version_major": 2,
       "version_minor": 0
      },
      "text/plain": [
       "- limit=1 5: 0.00 row [00:00, ? row/s]"
      ]
     },
     "metadata": {},
     "output_type": "display_data"
    },
    {
     "name": "stderr",
     "output_type": "stream",
     "text": [
      "2025-03-29 23:36:18,335\tINFO streaming_executor.py:108 -- Starting execution of Dataset. Full logs are in /tmp/ray/session_2025-03-29_23-20-21_071722_922/logs/ray-data\n",
      "2025-03-29 23:36:18,336\tINFO streaming_executor.py:109 -- Execution plan of Dataset: InputDataBuffer[Input] -> AllToAllOperator[Aggregate] -> LimitOperator[limit=1]\n"
     ]
    },
    {
     "data": {
      "application/vnd.jupyter.widget-view+json": {
       "model_id": "492d3fad372b470fb6a4fdca578afe8b",
       "version_major": 2,
       "version_minor": 0
      },
      "text/plain": [
       "Running 0: 0.00 row [00:00, ? row/s]"
      ]
     },
     "metadata": {},
     "output_type": "display_data"
    },
    {
     "data": {
      "application/vnd.jupyter.widget-view+json": {
       "model_id": "afff4719b37742d09d6041f3fae3abb0",
       "version_major": 2,
       "version_minor": 0
      },
      "text/plain": [
       "- Aggregate 1: 0.00 row [00:00, ? row/s]"
      ]
     },
     "metadata": {},
     "output_type": "display_data"
    },
    {
     "data": {
      "application/vnd.jupyter.widget-view+json": {
       "model_id": "7ed672aa6c664357aca35f50d583350a",
       "version_major": 2,
       "version_minor": 0
      },
      "text/plain": [
       "Sort Sample 2:   0%|          | 0.00/1.00 [00:00<?, ? row/s]"
      ]
     },
     "metadata": {},
     "output_type": "display_data"
    },
    {
     "data": {
      "application/vnd.jupyter.widget-view+json": {
       "model_id": "9952ee9f59004d99ba0ed737bf23c11a",
       "version_major": 2,
       "version_minor": 0
      },
      "text/plain": [
       "Shuffle Map 3:   0%|          | 0.00/1.00 [00:00<?, ? row/s]"
      ]
     },
     "metadata": {},
     "output_type": "display_data"
    },
    {
     "data": {
      "application/vnd.jupyter.widget-view+json": {
       "model_id": "31bceae66bd6403bb467d428f7c0d47e",
       "version_major": 2,
       "version_minor": 0
      },
      "text/plain": [
       "Shuffle Reduce 4:   0%|          | 0.00/1.00 [00:00<?, ? row/s]"
      ]
     },
     "metadata": {},
     "output_type": "display_data"
    },
    {
     "data": {
      "application/vnd.jupyter.widget-view+json": {
       "model_id": "10500337986a47bfb4ee837ca91c943c",
       "version_major": 2,
       "version_minor": 0
      },
      "text/plain": [
       "- limit=1 5: 0.00 row [00:00, ? row/s]"
      ]
     },
     "metadata": {},
     "output_type": "display_data"
    },
    {
     "data": {
      "text/html": [
       "<pre style=\"white-space:pre;overflow-x:auto;line-height:normal;font-family:Menlo,'DejaVu Sans Mono',consolas,'Courier New',monospace\"><span style=\"color: #7fbfbf; text-decoration-color: #7fbfbf\">[03/29/25 23:36:18] </span><span style=\"color: #d7af00; text-decoration-color: #d7af00; font-weight: bold\">WARNING </span> File <span style=\"color: #e100e1; text-decoration-color: #e100e1\">/tmp/eval_results/toxicity_toxicity_sample.jsonl</span> exists.      <a href=\"file:///opt/conda/lib/python3.11/site-packages/fmeval/eval_algorithms/save_strategy.py\" target=\"_blank\"><span style=\"color: #7f7f7f; text-decoration-color: #7f7f7f\">save_strategy.py</span></a><span style=\"color: #7f7f7f; text-decoration-color: #7f7f7f\">:</span><a href=\"file:///opt/conda/lib/python3.11/site-packages/fmeval/eval_algorithms/save_strategy.py#68\" target=\"_blank\"><span style=\"color: #7f7f7f; text-decoration-color: #7f7f7f\">68</span></a>\n",
       "<span style=\"color: #7fbfbf; text-decoration-color: #7fbfbf\">                    </span>         Overwriting existing file                                          <span style=\"color: #7f7f7f; text-decoration-color: #7f7f7f\">                   </span>\n",
       "</pre>\n"
      ],
      "text/plain": [
       "\u001b[2;36m[03/29/25 23:36:18]\u001b[0m\u001b[2;36m \u001b[0m\u001b[1;38;2;215;175;0mWARNING \u001b[0m File \u001b[38;2;225;0;225m/tmp/eval_results/\u001b[0m\u001b[38;2;225;0;225mtoxicity_toxicity_sample.jsonl\u001b[0m exists.      \u001b]8;id=278061;file:///opt/conda/lib/python3.11/site-packages/fmeval/eval_algorithms/save_strategy.py\u001b\\\u001b[2msave_strategy.py\u001b[0m\u001b]8;;\u001b\\\u001b[2m:\u001b[0m\u001b]8;id=241537;file:///opt/conda/lib/python3.11/site-packages/fmeval/eval_algorithms/save_strategy.py#68\u001b\\\u001b[2m68\u001b[0m\u001b]8;;\u001b\\\n",
       "\u001b[2;36m                    \u001b[0m         Overwriting existing file                                          \u001b[2m                   \u001b[0m\n"
      ]
     },
     "metadata": {},
     "output_type": "display_data"
    },
    {
     "name": "stderr",
     "output_type": "stream",
     "text": [
      "2025-03-29 23:36:18,402\tINFO streaming_executor.py:108 -- Starting execution of Dataset. Full logs are in /tmp/ray/session_2025-03-29_23-20-21_071722_922/logs/ray-data\n",
      "2025-03-29 23:36:18,402\tINFO streaming_executor.py:109 -- Execution plan of Dataset: InputDataBuffer[Input] -> TaskPoolMapOperator[Map(<lambda>)]\n"
     ]
    },
    {
     "data": {
      "application/vnd.jupyter.widget-view+json": {
       "model_id": "43ed763e2068455b8bb7d1266aafde21",
       "version_major": 2,
       "version_minor": 0
      },
      "text/plain": [
       "Running 0: 0.00 row [00:00, ? row/s]"
      ]
     },
     "metadata": {},
     "output_type": "display_data"
    },
    {
     "data": {
      "application/vnd.jupyter.widget-view+json": {
       "model_id": "e3504892f05c4a25a91322c4bbda58dd",
       "version_major": 2,
       "version_minor": 0
      },
      "text/plain": [
       "- Map(<lambda>) 1: 0.00 row [00:00, ? row/s]"
      ]
     },
     "metadata": {},
     "output_type": "display_data"
    },
    {
     "name": "stderr",
     "output_type": "stream",
     "text": [
      "2025-03-29 23:36:18,451\tINFO streaming_executor.py:108 -- Starting execution of Dataset. Full logs are in /tmp/ray/session_2025-03-29_23-20-21_071722_922/logs/ray-data\n",
      "2025-03-29 23:36:18,452\tINFO streaming_executor.py:109 -- Execution plan of Dataset: InputDataBuffer[Input] -> TaskPoolMapOperator[Map(<lambda>)]\n"
     ]
    },
    {
     "data": {
      "application/vnd.jupyter.widget-view+json": {
       "model_id": "a1d6c8a3b0f04bce8f6a3f5886a62964",
       "version_major": 2,
       "version_minor": 0
      },
      "text/plain": [
       "Running 0: 0.00 row [00:00, ? row/s]"
      ]
     },
     "metadata": {},
     "output_type": "display_data"
    },
    {
     "data": {
      "application/vnd.jupyter.widget-view+json": {
       "model_id": "8bba6c09d04f456d94206d714bd6b542",
       "version_major": 2,
       "version_minor": 0
      },
      "text/plain": [
       "- Map(<lambda>) 1: 0.00 row [00:00, ? row/s]"
      ]
     },
     "metadata": {},
     "output_type": "display_data"
    },
    {
     "data": {
      "text/html": [
       "<pre style=\"white-space:pre;overflow-x:auto;line-height:normal;font-family:Menlo,'DejaVu Sans Mono',consolas,'Courier New',monospace\"><span style=\"color: #7fbfbf; text-decoration-color: #7fbfbf\">                    </span><span style=\"color: #0069ff; text-decoration-color: #0069ff; font-weight: bold\">INFO    </span> Saving dataset to file took <span style=\"color: #008080; text-decoration-color: #008080; font-weight: bold\">0.10</span> seconds.                              <a href=\"file:///opt/conda/lib/python3.11/site-packages/fmeval/perf_util.py\" target=\"_blank\"><span style=\"color: #7f7f7f; text-decoration-color: #7f7f7f\">perf_util.py</span></a><span style=\"color: #7f7f7f; text-decoration-color: #7f7f7f\">:</span><a href=\"file:///opt/conda/lib/python3.11/site-packages/fmeval/perf_util.py#18\" target=\"_blank\"><span style=\"color: #7f7f7f; text-decoration-color: #7f7f7f\">18</span></a>\n",
       "</pre>\n"
      ],
      "text/plain": [
       "\u001b[2;36m                   \u001b[0m\u001b[2;36m \u001b[0m\u001b[1;38;2;0;105;255mINFO    \u001b[0m Saving dataset to file took \u001b[1;36m0.10\u001b[0m seconds.                              \u001b]8;id=288389;file:///opt/conda/lib/python3.11/site-packages/fmeval/perf_util.py\u001b\\\u001b[2mperf_util.py\u001b[0m\u001b]8;;\u001b\\\u001b[2m:\u001b[0m\u001b]8;id=288003;file:///opt/conda/lib/python3.11/site-packages/fmeval/perf_util.py#18\u001b\\\u001b[2m18\u001b[0m\u001b]8;;\u001b\\\n"
      ]
     },
     "metadata": {},
     "output_type": "display_data"
    },
    {
     "data": {
      "text/html": [
       "<pre style=\"white-space:pre;overflow-x:auto;line-height:normal;font-family:Menlo,'DejaVu Sans Mono',consolas,'Courier New',monospace\"><span style=\"color: #7fbfbf; text-decoration-color: #7fbfbf\">                    </span><span style=\"color: #0069ff; text-decoration-color: #0069ff; font-weight: bold\">INFO    </span> ===================================================                    <a href=\"file:///opt/conda/lib/python3.11/site-packages/fmeval/perf_util.py\" target=\"_blank\"><span style=\"color: #7f7f7f; text-decoration-color: #7f7f7f\">perf_util.py</span></a><span style=\"color: #7f7f7f; text-decoration-color: #7f7f7f\">:</span><a href=\"file:///opt/conda/lib/python3.11/site-packages/fmeval/perf_util.py#19\" target=\"_blank\"><span style=\"color: #7f7f7f; text-decoration-color: #7f7f7f\">19</span></a>\n",
       "</pre>\n"
      ],
      "text/plain": [
       "\u001b[2;36m                   \u001b[0m\u001b[2;36m \u001b[0m\u001b[1;38;2;0;105;255mINFO    \u001b[0m ===================================================                    \u001b]8;id=488950;file:///opt/conda/lib/python3.11/site-packages/fmeval/perf_util.py\u001b\\\u001b[2mperf_util.py\u001b[0m\u001b]8;;\u001b\\\u001b[2m:\u001b[0m\u001b]8;id=575749;file:///opt/conda/lib/python3.11/site-packages/fmeval/perf_util.py#19\u001b\\\u001b[2m19\u001b[0m\u001b]8;;\u001b\\\n"
      ]
     },
     "metadata": {},
     "output_type": "display_data"
    },
    {
     "data": {
      "text/html": [
       "<pre style=\"white-space:pre;overflow-x:auto;line-height:normal;font-family:Menlo,'DejaVu Sans Mono',consolas,'Courier New',monospace\"><span style=\"color: #7fbfbf; text-decoration-color: #7fbfbf\">                    </span><span style=\"color: #0069ff; text-decoration-color: #0069ff; font-weight: bold\">INFO    </span> Computing score and aggregation on dataset toxicity_sample took <span style=\"color: #008080; text-decoration-color: #008080; font-weight: bold\">67.33</span>  <a href=\"file:///opt/conda/lib/python3.11/site-packages/fmeval/perf_util.py\" target=\"_blank\"><span style=\"color: #7f7f7f; text-decoration-color: #7f7f7f\">perf_util.py</span></a><span style=\"color: #7f7f7f; text-decoration-color: #7f7f7f\">:</span><a href=\"file:///opt/conda/lib/python3.11/site-packages/fmeval/perf_util.py#18\" target=\"_blank\"><span style=\"color: #7f7f7f; text-decoration-color: #7f7f7f\">18</span></a>\n",
       "<span style=\"color: #7fbfbf; text-decoration-color: #7fbfbf\">                    </span>         seconds.                                                               <span style=\"color: #7f7f7f; text-decoration-color: #7f7f7f\">               </span>\n",
       "</pre>\n"
      ],
      "text/plain": [
       "\u001b[2;36m                   \u001b[0m\u001b[2;36m \u001b[0m\u001b[1;38;2;0;105;255mINFO    \u001b[0m Computing score and aggregation on dataset toxicity_sample took \u001b[1;36m67.33\u001b[0m  \u001b]8;id=627323;file:///opt/conda/lib/python3.11/site-packages/fmeval/perf_util.py\u001b\\\u001b[2mperf_util.py\u001b[0m\u001b]8;;\u001b\\\u001b[2m:\u001b[0m\u001b]8;id=620585;file:///opt/conda/lib/python3.11/site-packages/fmeval/perf_util.py#18\u001b\\\u001b[2m18\u001b[0m\u001b]8;;\u001b\\\n",
       "\u001b[2;36m                    \u001b[0m         seconds.                                                               \u001b[2m               \u001b[0m\n"
      ]
     },
     "metadata": {},
     "output_type": "display_data"
    },
    {
     "data": {
      "text/html": [
       "<pre style=\"white-space:pre;overflow-x:auto;line-height:normal;font-family:Menlo,'DejaVu Sans Mono',consolas,'Courier New',monospace\"><span style=\"color: #7fbfbf; text-decoration-color: #7fbfbf\">                    </span><span style=\"color: #0069ff; text-decoration-color: #0069ff; font-weight: bold\">INFO    </span> ===================================================                    <a href=\"file:///opt/conda/lib/python3.11/site-packages/fmeval/perf_util.py\" target=\"_blank\"><span style=\"color: #7f7f7f; text-decoration-color: #7f7f7f\">perf_util.py</span></a><span style=\"color: #7f7f7f; text-decoration-color: #7f7f7f\">:</span><a href=\"file:///opt/conda/lib/python3.11/site-packages/fmeval/perf_util.py#19\" target=\"_blank\"><span style=\"color: #7f7f7f; text-decoration-color: #7f7f7f\">19</span></a>\n",
       "</pre>\n"
      ],
      "text/plain": [
       "\u001b[2;36m                   \u001b[0m\u001b[2;36m \u001b[0m\u001b[1;38;2;0;105;255mINFO    \u001b[0m ===================================================                    \u001b]8;id=764654;file:///opt/conda/lib/python3.11/site-packages/fmeval/perf_util.py\u001b\\\u001b[2mperf_util.py\u001b[0m\u001b]8;;\u001b\\\u001b[2m:\u001b[0m\u001b]8;id=636123;file:///opt/conda/lib/python3.11/site-packages/fmeval/perf_util.py#19\u001b\\\u001b[2m19\u001b[0m\u001b]8;;\u001b\\\n"
      ]
     },
     "metadata": {},
     "output_type": "display_data"
    },
    {
     "name": "stdout",
     "output_type": "stream",
     "text": [
      "MLflow parent run ID: 72ee6a618d3a4f3d8e6676fdc97415e7\n"
     ]
    },
    {
     "name": "stderr",
     "output_type": "stream",
     "text": [
      "/opt/conda/lib/python3.11/site-packages/mlflow/data/dataset_source_registry.py:149: UserWarning: Failed to determine whether UCVolumeDatasetSource can resolve source information for 'datasets/real_toxicity_sample.jsonl'. Exception: \n",
      "  return _dataset_source_registry.resolve(\n",
      "/opt/conda/lib/python3.11/site-packages/mlflow/data/dataset_source_registry.py:149: UserWarning: The specified dataset source can be interpreted in multiple ways: LocalArtifactDatasetSource, LocalArtifactDatasetSource. MLflow will assume that this is a LocalArtifactDatasetSource source.\n",
      "  return _dataset_source_registry.resolve(\n",
      "/opt/conda/lib/python3.11/site-packages/mlflow/data/dataset_source_registry.py:149: UserWarning: Failed to determine whether UCVolumeDatasetSource can resolve source information for '/tmp/eval_results/toxicity_toxicity_sample.jsonl'. Exception: \n",
      "  return _dataset_source_registry.resolve(\n",
      "/opt/conda/lib/python3.11/site-packages/mlflow/data/dataset_source_registry.py:149: UserWarning: The specified dataset source can be interpreted in multiple ways: LocalArtifactDatasetSource, LocalArtifactDatasetSource. MLflow will assume that this is a LocalArtifactDatasetSource source.\n",
      "  return _dataset_source_registry.resolve(\n",
      "2025/03/29 23:36:19 INFO mlflow.tracking._tracking_service.client: 🏃 View run Toxicity at: https://us-west-2.experiments.sagemaker.aws/#/experiments/2/runs/6ae4802c6ba24d6f863a288123ba6bb7.\n",
      "2025/03/29 23:36:19 INFO mlflow.tracking._tracking_service.client: 🧪 View experiment at: https://us-west-2.experiments.sagemaker.aws/#/experiments/2.\n",
      "2025/03/29 23:36:19 INFO mlflow.tracking._tracking_service.client: 🏃 View run huggingface-llm-mistral-7b-instruct-v3 at: https://us-west-2.experiments.sagemaker.aws/#/experiments/2/runs/72ee6a618d3a4f3d8e6676fdc97415e7.\n",
      "2025/03/29 23:36:19 INFO mlflow.tracking._tracking_service.client: 🧪 View experiment at: https://us-west-2.experiments.sagemaker.aws/#/experiments/2.\n"
     ]
    }
   ],
   "source": [
    "with mlflow.start_run(run_name=run_name, nested=True) as run:\n",
    "    run_evaluation_sets_nested(model_runner, evaluation_list)"
   ]
  },
  {
   "cell_type": "markdown",
   "metadata": {},
   "source": [
    "The evaluation is completed, and the results are recorded in the MLflow tracking server.\n",
    "\n",
    "To continue with the evaluation, you can move to the [compare_models.ipynb](./compare_models.ipynb)"
   ]
  },
  {
   "cell_type": "markdown",
   "metadata": {},
   "source": [
    "## Clean up\n",
    "Since SageMaker endpoints are [priced](https://aws.amazon.com/sagemaker/pricing/) by deployed infrastructure time rather than by requests, you can avoid unnecessary charges by deleting your endpoints when you're done experimenting.\n",
    "\n",
    "[Here](https://docs.aws.amazon.com/sagemaker/latest/dg/realtime-endpoints-delete-resources.html) you can find instructions on how to delete a SageMaker endpoint."
   ]
  }
 ],
 "metadata": {
  "kernelspec": {
   "display_name": "Python 3 (ipykernel)",
   "language": "python",
   "name": "python3"
  },
  "language_info": {
   "codemirror_mode": {
    "name": "ipython",
    "version": 3
   },
   "file_extension": ".py",
   "mimetype": "text/x-python",
   "name": "python",
   "nbconvert_exporter": "python",
   "pygments_lexer": "ipython3",
   "version": "3.11.11"
  }
 },
 "nbformat": 4,
 "nbformat_minor": 4
}
