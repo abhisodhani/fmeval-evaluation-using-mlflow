{
 "cells": [
  {
   "cell_type": "markdown",
   "id": "6085f129-1aaa-4a57-8b8c-b8cffefe65c4",
   "metadata": {},
   "source": [
    "# Setup for the sample\n",
    "**Pre-requisites**:\n",
    "- an active MLflow tracking server managed by Amazon SageMaker\n",
    "- the IAM role associated with the notebook must have sufficient permissions to write to the MLflow tracking server\n",
    "- Access via Amazon Bedrock to Anthropic Clause v3 Haiku and Sonnet"
   ]
  },
  {
   "cell_type": "code",
   "execution_count": null,
   "id": "16859da7-5a9d-4daf-8358-6452fb62b848",
   "metadata": {},
   "outputs": [],
   "source": [
    "import json\n",
    "\n",
    "import sagemaker\n",
    "from ipywidgets import interactive"
   ]
  },
  {
   "cell_type": "code",
   "execution_count": null,
   "id": "ae975a42-d032-481b-9522-e3664a0df851",
   "metadata": {},
   "outputs": [],
   "source": [
    "sagemaker_session = sagemaker.Session()\n",
    "sagemaker_client = sagemaker_session.sagemaker_client"
   ]
  },
  {
   "cell_type": "code",
   "execution_count": null,
   "id": "1eb3ae2f-a2ba-4c71-8b79-0131158fa7e6",
   "metadata": {},
   "outputs": [],
   "source": [
    "def get_studio_username() -> str | None:\n",
    "    \"\"\"Attempt tog get user name from Studio environment\"\"\"\n",
    "    try:\n",
    "        from sagemaker.session import NOTEBOOK_METADATA_FILE\n",
    "\n",
    "        with open(NOTEBOOK_METADATA_FILE, \"rb\") as f:\n",
    "            nb_metadata = json.load(f)\n",
    "        if user_name := nb_metadata.get(\"UserProfileName\"):\n",
    "            return user_name\n",
    "        return sagemaker_client.describe_space(\n",
    "            DomainId=nb_metadata.get(\"DomainId\"),\n",
    "            SpaceName=nb_metadata.get(\"SpaceName\"),\n",
    "        )[\"OwnershipSettings\"][\"OwnerUserProfileName\"]\n",
    "    except Exception as e:\n",
    "        print(e)\n",
    "        return"
   ]
  },
  {
   "cell_type": "code",
   "execution_count": null,
   "id": "09106e4a-944a-466e-9b2d-a09a7b60b7ff",
   "metadata": {},
   "outputs": [],
   "source": [
    "tracking_servers_list = {\n",
    "    k.get(\"TrackingServerName\"): k.get(\"TrackingServerArn\")\n",
    "    for k in sagemaker_client.list_mlflow_tracking_servers(\n",
    "        # TrackingServerStatus='Started'\n",
    "    )[\"TrackingServerSummaries\"]\n",
    "}\n",
    "\n",
    "select_tracking_server = interactive(lambda x: x, x=tracking_servers_list)\n",
    "select_tracking_server"
   ]
  },
  {
   "cell_type": "markdown",
   "id": "782e181b-3fc7-4429-9e67-c72473b13e2c",
   "metadata": {},
   "source": [
    "## Write .env file"
   ]
  },
  {
   "cell_type": "code",
   "execution_count": null,
   "id": "f3bdd772-f327-40c2-8ff8-b1e7cff3d14c",
   "metadata": {},
   "outputs": [],
   "source": [
    "with open(\".env\", \"w\") as f:\n",
    "    f.write(f\"MLFLOW_TRACKING_USERNAME={get_studio_username()}\\n\")\n",
    "    f.write(f\"MLFLOW_TRACKING_URI={select_tracking_server.result}\\n\")"
   ]
  },
  {
   "cell_type": "code",
   "execution_count": null,
   "id": "04c6278d-795f-4400-832d-5706c00e3697",
   "metadata": {},
   "outputs": [],
   "source": [
    "!cat .env"
   ]
  },
  {
   "cell_type": "markdown",
   "id": "6c138df3-3d21-4a7f-abf1-33888279bd18",
   "metadata": {},
   "source": [
    "## Install dependencies\n",
    "\n",
    "We install `fmeval-mlflow` directly from the repository."
   ]
  },
  {
   "cell_type": "code",
   "execution_count": null,
   "id": "9a9c1a94",
   "metadata": {},
   "outputs": [],
   "source": [
    "%pip install .."
   ]
  },
  {
   "cell_type": "markdown",
   "id": "00f92c28",
   "metadata": {},
   "source": [
    "And then install additional dependencies necessary for running the examples notebooks."
   ]
  },
  {
   "cell_type": "code",
   "execution_count": null,
   "id": "12fccfc1-761a-44ff-8538-a5573834d815",
   "metadata": {},
   "outputs": [],
   "source": [
    "%pip install -r requirements.txt -U"
   ]
  }
 ],
 "metadata": {
  "kernelspec": {
   "display_name": "Python 3 (ipykernel)",
   "language": "python",
   "name": "python3"
  },
  "language_info": {
   "codemirror_mode": {
    "name": "ipython",
    "version": 3
   },
   "file_extension": ".py",
   "mimetype": "text/x-python",
   "name": "python",
   "nbconvert_exporter": "python",
   "pygments_lexer": "ipython3",
   "version": "3.11.10"
  }
 },
 "nbformat": 4,
 "nbformat_minor": 5
}
